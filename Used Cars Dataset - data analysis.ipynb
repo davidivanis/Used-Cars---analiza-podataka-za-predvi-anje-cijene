{
 "cells": [
  {
   "cell_type": "code",
   "execution_count": 1,
   "id": "1fa6936a",
   "metadata": {},
   "outputs": [],
   "source": [
    "import numpy as np\n",
    "import pandas as pd\n",
    "import matplotlib.pyplot as plt\n",
    "import sklearn\n",
    "from sklearn.impute import SimpleImputer\n",
    "import datetime\n",
    "import scipy\n",
    "import scipy.stats as stat\n",
    "import seaborn\n",
    "%matplotlib inline"
   ]
  },
  {
   "cell_type": "markdown",
   "id": "3089f1b5",
   "metadata": {},
   "source": [
    "Učitavamo podatke iz csv datoteke i prikazujemo prvih nekoliko podataka."
   ]
  },
  {
   "cell_type": "code",
   "execution_count": 2,
   "id": "390aefdc",
   "metadata": {},
   "outputs": [
    {
     "data": {
      "text/html": [
       "<div>\n",
       "<style scoped>\n",
       "    .dataframe tbody tr th:only-of-type {\n",
       "        vertical-align: middle;\n",
       "    }\n",
       "\n",
       "    .dataframe tbody tr th {\n",
       "        vertical-align: top;\n",
       "    }\n",
       "\n",
       "    .dataframe thead th {\n",
       "        text-align: right;\n",
       "    }\n",
       "</style>\n",
       "<table border=\"1\" class=\"dataframe\">\n",
       "  <thead>\n",
       "    <tr style=\"text-align: right;\">\n",
       "      <th></th>\n",
       "      <th>id</th>\n",
       "      <th>url</th>\n",
       "      <th>region</th>\n",
       "      <th>region_url</th>\n",
       "      <th>price</th>\n",
       "      <th>year</th>\n",
       "      <th>manufacturer</th>\n",
       "      <th>model</th>\n",
       "      <th>condition</th>\n",
       "      <th>cylinders</th>\n",
       "      <th>...</th>\n",
       "      <th>size</th>\n",
       "      <th>type</th>\n",
       "      <th>paint_color</th>\n",
       "      <th>image_url</th>\n",
       "      <th>description</th>\n",
       "      <th>county</th>\n",
       "      <th>state</th>\n",
       "      <th>lat</th>\n",
       "      <th>long</th>\n",
       "      <th>posting_date</th>\n",
       "    </tr>\n",
       "  </thead>\n",
       "  <tbody>\n",
       "    <tr>\n",
       "      <th>0</th>\n",
       "      <td>7222695916</td>\n",
       "      <td>https://prescott.craigslist.org/cto/d/prescott...</td>\n",
       "      <td>prescott</td>\n",
       "      <td>https://prescott.craigslist.org</td>\n",
       "      <td>6000</td>\n",
       "      <td>NaN</td>\n",
       "      <td>NaN</td>\n",
       "      <td>NaN</td>\n",
       "      <td>NaN</td>\n",
       "      <td>NaN</td>\n",
       "      <td>...</td>\n",
       "      <td>NaN</td>\n",
       "      <td>NaN</td>\n",
       "      <td>NaN</td>\n",
       "      <td>NaN</td>\n",
       "      <td>NaN</td>\n",
       "      <td>NaN</td>\n",
       "      <td>az</td>\n",
       "      <td>NaN</td>\n",
       "      <td>NaN</td>\n",
       "      <td>NaN</td>\n",
       "    </tr>\n",
       "    <tr>\n",
       "      <th>1</th>\n",
       "      <td>7218891961</td>\n",
       "      <td>https://fayar.craigslist.org/ctd/d/bentonville...</td>\n",
       "      <td>fayetteville</td>\n",
       "      <td>https://fayar.craigslist.org</td>\n",
       "      <td>11900</td>\n",
       "      <td>NaN</td>\n",
       "      <td>NaN</td>\n",
       "      <td>NaN</td>\n",
       "      <td>NaN</td>\n",
       "      <td>NaN</td>\n",
       "      <td>...</td>\n",
       "      <td>NaN</td>\n",
       "      <td>NaN</td>\n",
       "      <td>NaN</td>\n",
       "      <td>NaN</td>\n",
       "      <td>NaN</td>\n",
       "      <td>NaN</td>\n",
       "      <td>ar</td>\n",
       "      <td>NaN</td>\n",
       "      <td>NaN</td>\n",
       "      <td>NaN</td>\n",
       "    </tr>\n",
       "    <tr>\n",
       "      <th>2</th>\n",
       "      <td>7221797935</td>\n",
       "      <td>https://keys.craigslist.org/cto/d/summerland-k...</td>\n",
       "      <td>florida keys</td>\n",
       "      <td>https://keys.craigslist.org</td>\n",
       "      <td>21000</td>\n",
       "      <td>NaN</td>\n",
       "      <td>NaN</td>\n",
       "      <td>NaN</td>\n",
       "      <td>NaN</td>\n",
       "      <td>NaN</td>\n",
       "      <td>...</td>\n",
       "      <td>NaN</td>\n",
       "      <td>NaN</td>\n",
       "      <td>NaN</td>\n",
       "      <td>NaN</td>\n",
       "      <td>NaN</td>\n",
       "      <td>NaN</td>\n",
       "      <td>fl</td>\n",
       "      <td>NaN</td>\n",
       "      <td>NaN</td>\n",
       "      <td>NaN</td>\n",
       "    </tr>\n",
       "    <tr>\n",
       "      <th>3</th>\n",
       "      <td>7222270760</td>\n",
       "      <td>https://worcester.craigslist.org/cto/d/west-br...</td>\n",
       "      <td>worcester / central MA</td>\n",
       "      <td>https://worcester.craigslist.org</td>\n",
       "      <td>1500</td>\n",
       "      <td>NaN</td>\n",
       "      <td>NaN</td>\n",
       "      <td>NaN</td>\n",
       "      <td>NaN</td>\n",
       "      <td>NaN</td>\n",
       "      <td>...</td>\n",
       "      <td>NaN</td>\n",
       "      <td>NaN</td>\n",
       "      <td>NaN</td>\n",
       "      <td>NaN</td>\n",
       "      <td>NaN</td>\n",
       "      <td>NaN</td>\n",
       "      <td>ma</td>\n",
       "      <td>NaN</td>\n",
       "      <td>NaN</td>\n",
       "      <td>NaN</td>\n",
       "    </tr>\n",
       "    <tr>\n",
       "      <th>4</th>\n",
       "      <td>7210384030</td>\n",
       "      <td>https://greensboro.craigslist.org/cto/d/trinit...</td>\n",
       "      <td>greensboro</td>\n",
       "      <td>https://greensboro.craigslist.org</td>\n",
       "      <td>4900</td>\n",
       "      <td>NaN</td>\n",
       "      <td>NaN</td>\n",
       "      <td>NaN</td>\n",
       "      <td>NaN</td>\n",
       "      <td>NaN</td>\n",
       "      <td>...</td>\n",
       "      <td>NaN</td>\n",
       "      <td>NaN</td>\n",
       "      <td>NaN</td>\n",
       "      <td>NaN</td>\n",
       "      <td>NaN</td>\n",
       "      <td>NaN</td>\n",
       "      <td>nc</td>\n",
       "      <td>NaN</td>\n",
       "      <td>NaN</td>\n",
       "      <td>NaN</td>\n",
       "    </tr>\n",
       "  </tbody>\n",
       "</table>\n",
       "<p>5 rows × 26 columns</p>\n",
       "</div>"
      ],
      "text/plain": [
       "           id                                                url  \\\n",
       "0  7222695916  https://prescott.craigslist.org/cto/d/prescott...   \n",
       "1  7218891961  https://fayar.craigslist.org/ctd/d/bentonville...   \n",
       "2  7221797935  https://keys.craigslist.org/cto/d/summerland-k...   \n",
       "3  7222270760  https://worcester.craigslist.org/cto/d/west-br...   \n",
       "4  7210384030  https://greensboro.craigslist.org/cto/d/trinit...   \n",
       "\n",
       "                   region                         region_url  price  year  \\\n",
       "0                prescott    https://prescott.craigslist.org   6000   NaN   \n",
       "1            fayetteville       https://fayar.craigslist.org  11900   NaN   \n",
       "2            florida keys        https://keys.craigslist.org  21000   NaN   \n",
       "3  worcester / central MA   https://worcester.craigslist.org   1500   NaN   \n",
       "4              greensboro  https://greensboro.craigslist.org   4900   NaN   \n",
       "\n",
       "  manufacturer model condition cylinders  ... size  type paint_color  \\\n",
       "0          NaN   NaN       NaN       NaN  ...  NaN   NaN         NaN   \n",
       "1          NaN   NaN       NaN       NaN  ...  NaN   NaN         NaN   \n",
       "2          NaN   NaN       NaN       NaN  ...  NaN   NaN         NaN   \n",
       "3          NaN   NaN       NaN       NaN  ...  NaN   NaN         NaN   \n",
       "4          NaN   NaN       NaN       NaN  ...  NaN   NaN         NaN   \n",
       "\n",
       "  image_url description county state lat long posting_date  \n",
       "0       NaN         NaN    NaN    az NaN  NaN          NaN  \n",
       "1       NaN         NaN    NaN    ar NaN  NaN          NaN  \n",
       "2       NaN         NaN    NaN    fl NaN  NaN          NaN  \n",
       "3       NaN         NaN    NaN    ma NaN  NaN          NaN  \n",
       "4       NaN         NaN    NaN    nc NaN  NaN          NaN  \n",
       "\n",
       "[5 rows x 26 columns]"
      ]
     },
     "execution_count": 2,
     "metadata": {},
     "output_type": "execute_result"
    }
   ],
   "source": [
    "data=pd.read_csv(\"vehicles.csv\")\n",
    "data.head()"
   ]
  },
  {
   "cell_type": "markdown",
   "id": "6b1827dd",
   "metadata": {},
   "source": [
    "# Izbacivanje značajki"
   ]
  },
  {
   "cell_type": "markdown",
   "id": "1e287b91",
   "metadata": {},
   "source": [
    "Prvo pogledajmo koje to sve značajke naši podatci posjeduju i kojeg su one tipa."
   ]
  },
  {
   "cell_type": "code",
   "execution_count": 3,
   "id": "77c842f8",
   "metadata": {},
   "outputs": [
    {
     "name": "stdout",
     "output_type": "stream",
     "text": [
      "<class 'pandas.core.frame.DataFrame'>\n",
      "RangeIndex: 426880 entries, 0 to 426879\n",
      "Data columns (total 26 columns):\n",
      " #   Column        Non-Null Count   Dtype  \n",
      "---  ------        --------------   -----  \n",
      " 0   id            426880 non-null  int64  \n",
      " 1   url           426880 non-null  object \n",
      " 2   region        426880 non-null  object \n",
      " 3   region_url    426880 non-null  object \n",
      " 4   price         426880 non-null  int64  \n",
      " 5   year          425675 non-null  float64\n",
      " 6   manufacturer  409234 non-null  object \n",
      " 7   model         421603 non-null  object \n",
      " 8   condition     252776 non-null  object \n",
      " 9   cylinders     249202 non-null  object \n",
      " 10  fuel          423867 non-null  object \n",
      " 11  odometer      422480 non-null  float64\n",
      " 12  title_status  418638 non-null  object \n",
      " 13  transmission  424324 non-null  object \n",
      " 14  VIN           265838 non-null  object \n",
      " 15  drive         296313 non-null  object \n",
      " 16  size          120519 non-null  object \n",
      " 17  type          334022 non-null  object \n",
      " 18  paint_color   296677 non-null  object \n",
      " 19  image_url     426812 non-null  object \n",
      " 20  description   426810 non-null  object \n",
      " 21  county        0 non-null       float64\n",
      " 22  state         426880 non-null  object \n",
      " 23  lat           420331 non-null  float64\n",
      " 24  long          420331 non-null  float64\n",
      " 25  posting_date  426812 non-null  object \n",
      "dtypes: float64(5), int64(2), object(19)\n",
      "memory usage: 84.7+ MB\n"
     ]
    }
   ],
   "source": [
    "data.info()"
   ]
  },
  {
   "cell_type": "markdown",
   "id": "f2b1bb3a",
   "metadata": {},
   "source": [
    "Dakle, imamo 26 značajki od kojih je 5 tipa float, 2 su tipa int a ostale su tipa object. Odmah uočimo da tablica sadrži podatke o url adresi, kao i region_url, image_url, VIN (Vehicle Identification Number) te id oglasa. Kako je cilj našeg zadatka predviđanje cijene automobila, ove značajke možemo ukloniti iz tablice. Naime, sve navedene značajke su samo oznake pridružene svakom pojedinačnom podatku, slici i području i ne odgovaraju stvarnim značajkama automobila, koje bi mogle igrati ulogu u određivanju cijene.\n",
    "\n",
    "Osim toga, izbacujemo i značajku 'description' jer ju ne bismo mogli na jednostavan način transformirati u numeričku značajku. Ne očekujemo da ćemo time izgubiti previše informacija jer se po svojoj prirodi ta značajka čini manje relevantnom od preostalih."
   ]
  },
  {
   "cell_type": "code",
   "execution_count": 4,
   "id": "928e7f7d",
   "metadata": {},
   "outputs": [
    {
     "data": {
      "text/html": [
       "<div>\n",
       "<style scoped>\n",
       "    .dataframe tbody tr th:only-of-type {\n",
       "        vertical-align: middle;\n",
       "    }\n",
       "\n",
       "    .dataframe tbody tr th {\n",
       "        vertical-align: top;\n",
       "    }\n",
       "\n",
       "    .dataframe thead th {\n",
       "        text-align: right;\n",
       "    }\n",
       "</style>\n",
       "<table border=\"1\" class=\"dataframe\">\n",
       "  <thead>\n",
       "    <tr style=\"text-align: right;\">\n",
       "      <th></th>\n",
       "      <th>region</th>\n",
       "      <th>price</th>\n",
       "      <th>year</th>\n",
       "      <th>manufacturer</th>\n",
       "      <th>model</th>\n",
       "      <th>condition</th>\n",
       "      <th>cylinders</th>\n",
       "      <th>fuel</th>\n",
       "      <th>odometer</th>\n",
       "      <th>title_status</th>\n",
       "      <th>transmission</th>\n",
       "      <th>drive</th>\n",
       "      <th>size</th>\n",
       "      <th>type</th>\n",
       "      <th>paint_color</th>\n",
       "      <th>county</th>\n",
       "      <th>state</th>\n",
       "      <th>lat</th>\n",
       "      <th>long</th>\n",
       "      <th>posting_date</th>\n",
       "    </tr>\n",
       "  </thead>\n",
       "  <tbody>\n",
       "    <tr>\n",
       "      <th>0</th>\n",
       "      <td>prescott</td>\n",
       "      <td>6000</td>\n",
       "      <td>NaN</td>\n",
       "      <td>NaN</td>\n",
       "      <td>NaN</td>\n",
       "      <td>NaN</td>\n",
       "      <td>NaN</td>\n",
       "      <td>NaN</td>\n",
       "      <td>NaN</td>\n",
       "      <td>NaN</td>\n",
       "      <td>NaN</td>\n",
       "      <td>NaN</td>\n",
       "      <td>NaN</td>\n",
       "      <td>NaN</td>\n",
       "      <td>NaN</td>\n",
       "      <td>NaN</td>\n",
       "      <td>az</td>\n",
       "      <td>NaN</td>\n",
       "      <td>NaN</td>\n",
       "      <td>NaN</td>\n",
       "    </tr>\n",
       "    <tr>\n",
       "      <th>1</th>\n",
       "      <td>fayetteville</td>\n",
       "      <td>11900</td>\n",
       "      <td>NaN</td>\n",
       "      <td>NaN</td>\n",
       "      <td>NaN</td>\n",
       "      <td>NaN</td>\n",
       "      <td>NaN</td>\n",
       "      <td>NaN</td>\n",
       "      <td>NaN</td>\n",
       "      <td>NaN</td>\n",
       "      <td>NaN</td>\n",
       "      <td>NaN</td>\n",
       "      <td>NaN</td>\n",
       "      <td>NaN</td>\n",
       "      <td>NaN</td>\n",
       "      <td>NaN</td>\n",
       "      <td>ar</td>\n",
       "      <td>NaN</td>\n",
       "      <td>NaN</td>\n",
       "      <td>NaN</td>\n",
       "    </tr>\n",
       "    <tr>\n",
       "      <th>2</th>\n",
       "      <td>florida keys</td>\n",
       "      <td>21000</td>\n",
       "      <td>NaN</td>\n",
       "      <td>NaN</td>\n",
       "      <td>NaN</td>\n",
       "      <td>NaN</td>\n",
       "      <td>NaN</td>\n",
       "      <td>NaN</td>\n",
       "      <td>NaN</td>\n",
       "      <td>NaN</td>\n",
       "      <td>NaN</td>\n",
       "      <td>NaN</td>\n",
       "      <td>NaN</td>\n",
       "      <td>NaN</td>\n",
       "      <td>NaN</td>\n",
       "      <td>NaN</td>\n",
       "      <td>fl</td>\n",
       "      <td>NaN</td>\n",
       "      <td>NaN</td>\n",
       "      <td>NaN</td>\n",
       "    </tr>\n",
       "    <tr>\n",
       "      <th>3</th>\n",
       "      <td>worcester / central MA</td>\n",
       "      <td>1500</td>\n",
       "      <td>NaN</td>\n",
       "      <td>NaN</td>\n",
       "      <td>NaN</td>\n",
       "      <td>NaN</td>\n",
       "      <td>NaN</td>\n",
       "      <td>NaN</td>\n",
       "      <td>NaN</td>\n",
       "      <td>NaN</td>\n",
       "      <td>NaN</td>\n",
       "      <td>NaN</td>\n",
       "      <td>NaN</td>\n",
       "      <td>NaN</td>\n",
       "      <td>NaN</td>\n",
       "      <td>NaN</td>\n",
       "      <td>ma</td>\n",
       "      <td>NaN</td>\n",
       "      <td>NaN</td>\n",
       "      <td>NaN</td>\n",
       "    </tr>\n",
       "    <tr>\n",
       "      <th>4</th>\n",
       "      <td>greensboro</td>\n",
       "      <td>4900</td>\n",
       "      <td>NaN</td>\n",
       "      <td>NaN</td>\n",
       "      <td>NaN</td>\n",
       "      <td>NaN</td>\n",
       "      <td>NaN</td>\n",
       "      <td>NaN</td>\n",
       "      <td>NaN</td>\n",
       "      <td>NaN</td>\n",
       "      <td>NaN</td>\n",
       "      <td>NaN</td>\n",
       "      <td>NaN</td>\n",
       "      <td>NaN</td>\n",
       "      <td>NaN</td>\n",
       "      <td>NaN</td>\n",
       "      <td>nc</td>\n",
       "      <td>NaN</td>\n",
       "      <td>NaN</td>\n",
       "      <td>NaN</td>\n",
       "    </tr>\n",
       "  </tbody>\n",
       "</table>\n",
       "</div>"
      ],
      "text/plain": [
       "                   region  price  year manufacturer model condition cylinders  \\\n",
       "0                prescott   6000   NaN          NaN   NaN       NaN       NaN   \n",
       "1            fayetteville  11900   NaN          NaN   NaN       NaN       NaN   \n",
       "2            florida keys  21000   NaN          NaN   NaN       NaN       NaN   \n",
       "3  worcester / central MA   1500   NaN          NaN   NaN       NaN       NaN   \n",
       "4              greensboro   4900   NaN          NaN   NaN       NaN       NaN   \n",
       "\n",
       "  fuel  odometer title_status transmission drive size type paint_color  \\\n",
       "0  NaN       NaN          NaN          NaN   NaN  NaN  NaN         NaN   \n",
       "1  NaN       NaN          NaN          NaN   NaN  NaN  NaN         NaN   \n",
       "2  NaN       NaN          NaN          NaN   NaN  NaN  NaN         NaN   \n",
       "3  NaN       NaN          NaN          NaN   NaN  NaN  NaN         NaN   \n",
       "4  NaN       NaN          NaN          NaN   NaN  NaN  NaN         NaN   \n",
       "\n",
       "   county state  lat  long posting_date  \n",
       "0     NaN    az  NaN   NaN          NaN  \n",
       "1     NaN    ar  NaN   NaN          NaN  \n",
       "2     NaN    fl  NaN   NaN          NaN  \n",
       "3     NaN    ma  NaN   NaN          NaN  \n",
       "4     NaN    nc  NaN   NaN          NaN  "
      ]
     },
     "execution_count": 4,
     "metadata": {},
     "output_type": "execute_result"
    }
   ],
   "source": [
    "to_drop=['id','url','region_url','image_url','description','VIN']\n",
    "data.drop(to_drop, inplace=True, axis=1)\n",
    "data.head()"
   ]
  },
  {
   "cell_type": "markdown",
   "id": "46dc34a6",
   "metadata": {},
   "source": [
    "Iz gornjeg prikaza početnih vrijednosti u tablici, a i iz prikaza značajki vidimo da tablica, pogotovo u određenim retcima, sadrži dosta NaN vrijednosti. Pogledajmo još jednom detaljnije broj NaN vrijednosti i broj različitih vrijednosti koje poprima svaka značajka."
   ]
  },
  {
   "cell_type": "code",
   "execution_count": 5,
   "id": "29d9d8fd",
   "metadata": {},
   "outputs": [
    {
     "data": {
      "text/plain": [
       "region               0\n",
       "price                0\n",
       "year              1205\n",
       "manufacturer     17646\n",
       "model             5277\n",
       "condition       174104\n",
       "cylinders       177678\n",
       "fuel              3013\n",
       "odometer          4400\n",
       "title_status      8242\n",
       "transmission      2556\n",
       "drive           130567\n",
       "size            306361\n",
       "type             92858\n",
       "paint_color     130203\n",
       "county          426880\n",
       "state                0\n",
       "lat               6549\n",
       "long              6549\n",
       "posting_date        68\n",
       "dtype: int64"
      ]
     },
     "execution_count": 5,
     "metadata": {},
     "output_type": "execute_result"
    }
   ],
   "source": [
    "data.isna().sum()"
   ]
  },
  {
   "cell_type": "code",
   "execution_count": 6,
   "id": "187d82f0",
   "metadata": {},
   "outputs": [
    {
     "data": {
      "text/plain": [
       "region             404\n",
       "price            15655\n",
       "year               114\n",
       "manufacturer        42\n",
       "model            29667\n",
       "condition            6\n",
       "cylinders            8\n",
       "fuel                 5\n",
       "odometer        104870\n",
       "title_status         6\n",
       "transmission         3\n",
       "drive                3\n",
       "size                 4\n",
       "type                13\n",
       "paint_color         12\n",
       "county               0\n",
       "state               51\n",
       "lat              53181\n",
       "long             53772\n",
       "posting_date    381536\n",
       "dtype: int64"
      ]
     },
     "execution_count": 6,
     "metadata": {},
     "output_type": "execute_result"
    }
   ],
   "source": [
    "data.nunique(axis=0, dropna=True)"
   ]
  },
  {
   "cell_type": "markdown",
   "id": "b7242b85",
   "metadata": {},
   "source": [
    "Primijetimo da stupac \"county\" sadrži samo NaN vrijednosti, pa ga izbacujemo."
   ]
  },
  {
   "cell_type": "code",
   "execution_count": 7,
   "id": "2512bf6c",
   "metadata": {},
   "outputs": [],
   "source": [
    "data.drop('county', inplace=True, axis=1)"
   ]
  },
  {
   "cell_type": "markdown",
   "id": "75de4d3b",
   "metadata": {},
   "source": [
    "Pogledajmo kako sada izgleda začelje tablice."
   ]
  },
  {
   "cell_type": "code",
   "execution_count": 8,
   "id": "d4f65e9a",
   "metadata": {},
   "outputs": [
    {
     "data": {
      "text/html": [
       "<div>\n",
       "<style scoped>\n",
       "    .dataframe tbody tr th:only-of-type {\n",
       "        vertical-align: middle;\n",
       "    }\n",
       "\n",
       "    .dataframe tbody tr th {\n",
       "        vertical-align: top;\n",
       "    }\n",
       "\n",
       "    .dataframe thead th {\n",
       "        text-align: right;\n",
       "    }\n",
       "</style>\n",
       "<table border=\"1\" class=\"dataframe\">\n",
       "  <thead>\n",
       "    <tr style=\"text-align: right;\">\n",
       "      <th></th>\n",
       "      <th>region</th>\n",
       "      <th>price</th>\n",
       "      <th>year</th>\n",
       "      <th>manufacturer</th>\n",
       "      <th>model</th>\n",
       "      <th>condition</th>\n",
       "      <th>cylinders</th>\n",
       "      <th>fuel</th>\n",
       "      <th>odometer</th>\n",
       "      <th>title_status</th>\n",
       "      <th>transmission</th>\n",
       "      <th>drive</th>\n",
       "      <th>size</th>\n",
       "      <th>type</th>\n",
       "      <th>paint_color</th>\n",
       "      <th>state</th>\n",
       "      <th>lat</th>\n",
       "      <th>long</th>\n",
       "      <th>posting_date</th>\n",
       "    </tr>\n",
       "  </thead>\n",
       "  <tbody>\n",
       "    <tr>\n",
       "      <th>426875</th>\n",
       "      <td>wyoming</td>\n",
       "      <td>23590</td>\n",
       "      <td>2019.0</td>\n",
       "      <td>nissan</td>\n",
       "      <td>maxima s sedan 4d</td>\n",
       "      <td>good</td>\n",
       "      <td>6 cylinders</td>\n",
       "      <td>gas</td>\n",
       "      <td>32226.0</td>\n",
       "      <td>clean</td>\n",
       "      <td>other</td>\n",
       "      <td>fwd</td>\n",
       "      <td>NaN</td>\n",
       "      <td>sedan</td>\n",
       "      <td>NaN</td>\n",
       "      <td>wy</td>\n",
       "      <td>33.786500</td>\n",
       "      <td>-84.445400</td>\n",
       "      <td>2021-04-04T03:21:31-0600</td>\n",
       "    </tr>\n",
       "    <tr>\n",
       "      <th>426876</th>\n",
       "      <td>wyoming</td>\n",
       "      <td>30590</td>\n",
       "      <td>2020.0</td>\n",
       "      <td>volvo</td>\n",
       "      <td>s60 t5 momentum sedan 4d</td>\n",
       "      <td>good</td>\n",
       "      <td>NaN</td>\n",
       "      <td>gas</td>\n",
       "      <td>12029.0</td>\n",
       "      <td>clean</td>\n",
       "      <td>other</td>\n",
       "      <td>fwd</td>\n",
       "      <td>NaN</td>\n",
       "      <td>sedan</td>\n",
       "      <td>red</td>\n",
       "      <td>wy</td>\n",
       "      <td>33.786500</td>\n",
       "      <td>-84.445400</td>\n",
       "      <td>2021-04-04T03:21:29-0600</td>\n",
       "    </tr>\n",
       "    <tr>\n",
       "      <th>426877</th>\n",
       "      <td>wyoming</td>\n",
       "      <td>34990</td>\n",
       "      <td>2020.0</td>\n",
       "      <td>cadillac</td>\n",
       "      <td>xt4 sport suv 4d</td>\n",
       "      <td>good</td>\n",
       "      <td>NaN</td>\n",
       "      <td>diesel</td>\n",
       "      <td>4174.0</td>\n",
       "      <td>clean</td>\n",
       "      <td>other</td>\n",
       "      <td>NaN</td>\n",
       "      <td>NaN</td>\n",
       "      <td>hatchback</td>\n",
       "      <td>white</td>\n",
       "      <td>wy</td>\n",
       "      <td>33.779214</td>\n",
       "      <td>-84.411811</td>\n",
       "      <td>2021-04-04T03:21:17-0600</td>\n",
       "    </tr>\n",
       "    <tr>\n",
       "      <th>426878</th>\n",
       "      <td>wyoming</td>\n",
       "      <td>28990</td>\n",
       "      <td>2018.0</td>\n",
       "      <td>lexus</td>\n",
       "      <td>es 350 sedan 4d</td>\n",
       "      <td>good</td>\n",
       "      <td>6 cylinders</td>\n",
       "      <td>gas</td>\n",
       "      <td>30112.0</td>\n",
       "      <td>clean</td>\n",
       "      <td>other</td>\n",
       "      <td>fwd</td>\n",
       "      <td>NaN</td>\n",
       "      <td>sedan</td>\n",
       "      <td>silver</td>\n",
       "      <td>wy</td>\n",
       "      <td>33.786500</td>\n",
       "      <td>-84.445400</td>\n",
       "      <td>2021-04-04T03:21:11-0600</td>\n",
       "    </tr>\n",
       "    <tr>\n",
       "      <th>426879</th>\n",
       "      <td>wyoming</td>\n",
       "      <td>30590</td>\n",
       "      <td>2019.0</td>\n",
       "      <td>bmw</td>\n",
       "      <td>4 series 430i gran coupe</td>\n",
       "      <td>good</td>\n",
       "      <td>NaN</td>\n",
       "      <td>gas</td>\n",
       "      <td>22716.0</td>\n",
       "      <td>clean</td>\n",
       "      <td>other</td>\n",
       "      <td>rwd</td>\n",
       "      <td>NaN</td>\n",
       "      <td>coupe</td>\n",
       "      <td>NaN</td>\n",
       "      <td>wy</td>\n",
       "      <td>33.779214</td>\n",
       "      <td>-84.411811</td>\n",
       "      <td>2021-04-04T03:21:07-0600</td>\n",
       "    </tr>\n",
       "  </tbody>\n",
       "</table>\n",
       "</div>"
      ],
      "text/plain": [
       "         region  price    year manufacturer                     model  \\\n",
       "426875  wyoming  23590  2019.0       nissan         maxima s sedan 4d   \n",
       "426876  wyoming  30590  2020.0        volvo  s60 t5 momentum sedan 4d   \n",
       "426877  wyoming  34990  2020.0     cadillac          xt4 sport suv 4d   \n",
       "426878  wyoming  28990  2018.0        lexus           es 350 sedan 4d   \n",
       "426879  wyoming  30590  2019.0          bmw  4 series 430i gran coupe   \n",
       "\n",
       "       condition    cylinders    fuel  odometer title_status transmission  \\\n",
       "426875      good  6 cylinders     gas   32226.0        clean        other   \n",
       "426876      good          NaN     gas   12029.0        clean        other   \n",
       "426877      good          NaN  diesel    4174.0        clean        other   \n",
       "426878      good  6 cylinders     gas   30112.0        clean        other   \n",
       "426879      good          NaN     gas   22716.0        clean        other   \n",
       "\n",
       "       drive size       type paint_color state        lat       long  \\\n",
       "426875   fwd  NaN      sedan         NaN    wy  33.786500 -84.445400   \n",
       "426876   fwd  NaN      sedan         red    wy  33.786500 -84.445400   \n",
       "426877   NaN  NaN  hatchback       white    wy  33.779214 -84.411811   \n",
       "426878   fwd  NaN      sedan      silver    wy  33.786500 -84.445400   \n",
       "426879   rwd  NaN      coupe         NaN    wy  33.779214 -84.411811   \n",
       "\n",
       "                    posting_date  \n",
       "426875  2021-04-04T03:21:31-0600  \n",
       "426876  2021-04-04T03:21:29-0600  \n",
       "426877  2021-04-04T03:21:17-0600  \n",
       "426878  2021-04-04T03:21:11-0600  \n",
       "426879  2021-04-04T03:21:07-0600  "
      ]
     },
     "execution_count": 8,
     "metadata": {},
     "output_type": "execute_result"
    }
   ],
   "source": [
    "data.tail()"
   ]
  },
  {
   "cell_type": "markdown",
   "id": "4738a5e0",
   "metadata": {},
   "source": [
    "Posljednji stupac, 'posting_date', predstavlja trenutak objavljivanja oglasa, uzevši u obzir i vremensku zonu. Posting_date bi nam mogao biti od koristi samo ako dolazi iz velikog intervala - npr. ako je u pitanju više različitih godina. Provjerimo zato iz kojeg intervala dolaze ti podatci. "
   ]
  },
  {
   "cell_type": "code",
   "execution_count": 9,
   "id": "fa7680c4",
   "metadata": {},
   "outputs": [
    {
     "data": {
      "text/plain": [
       "count    426812.0\n",
       "mean       2021.0\n",
       "std           0.0\n",
       "min        2021.0\n",
       "25%        2021.0\n",
       "50%        2021.0\n",
       "75%        2021.0\n",
       "max        2021.0\n",
       "Name: posting_date, dtype: float64"
      ]
     },
     "execution_count": 9,
     "metadata": {},
     "output_type": "execute_result"
    }
   ],
   "source": [
    "vremena=pd.to_datetime(data[\"posting_date\"],utc=True)\n",
    "vremena=vremena.dt.strftime('%Y')\n",
    "vremena=vremena[vremena.notna()]\n",
    "vremena=vremena.astype(int)\n",
    "vremena.describe()"
   ]
  },
  {
   "cell_type": "markdown",
   "id": "d1a53eb7",
   "metadata": {},
   "source": [
    "Vidimo da su zapravo da su u pitanju samo oglasi objavljeni u 2021 godini, pa taj stupac također izbacujemo."
   ]
  },
  {
   "cell_type": "code",
   "execution_count": 10,
   "id": "569dfc01",
   "metadata": {},
   "outputs": [],
   "source": [
    "data.drop('posting_date', inplace=True, axis=1)"
   ]
  },
  {
   "cell_type": "markdown",
   "id": "9b72d7c8",
   "metadata": {},
   "source": [
    "Prije transformiranja podataka izbacimo i stupce 'lat' i 'long' koji nam daju koordinate."
   ]
  },
  {
   "cell_type": "code",
   "execution_count": 11,
   "id": "7357f673",
   "metadata": {},
   "outputs": [],
   "source": [
    "to_drop=['lat','long']\n",
    "data.drop(to_drop, inplace=True, axis=1)"
   ]
  },
  {
   "cell_type": "code",
   "execution_count": 12,
   "id": "e2f67db0",
   "metadata": {},
   "outputs": [
    {
     "data": {
      "text/html": [
       "<div>\n",
       "<style scoped>\n",
       "    .dataframe tbody tr th:only-of-type {\n",
       "        vertical-align: middle;\n",
       "    }\n",
       "\n",
       "    .dataframe tbody tr th {\n",
       "        vertical-align: top;\n",
       "    }\n",
       "\n",
       "    .dataframe thead th {\n",
       "        text-align: right;\n",
       "    }\n",
       "</style>\n",
       "<table border=\"1\" class=\"dataframe\">\n",
       "  <thead>\n",
       "    <tr style=\"text-align: right;\">\n",
       "      <th></th>\n",
       "      <th>region</th>\n",
       "      <th>price</th>\n",
       "      <th>year</th>\n",
       "      <th>manufacturer</th>\n",
       "      <th>model</th>\n",
       "      <th>condition</th>\n",
       "      <th>cylinders</th>\n",
       "      <th>fuel</th>\n",
       "      <th>odometer</th>\n",
       "      <th>title_status</th>\n",
       "      <th>transmission</th>\n",
       "      <th>drive</th>\n",
       "      <th>size</th>\n",
       "      <th>type</th>\n",
       "      <th>paint_color</th>\n",
       "      <th>state</th>\n",
       "    </tr>\n",
       "  </thead>\n",
       "  <tbody>\n",
       "    <tr>\n",
       "      <th>426875</th>\n",
       "      <td>wyoming</td>\n",
       "      <td>23590</td>\n",
       "      <td>2019.0</td>\n",
       "      <td>nissan</td>\n",
       "      <td>maxima s sedan 4d</td>\n",
       "      <td>good</td>\n",
       "      <td>6 cylinders</td>\n",
       "      <td>gas</td>\n",
       "      <td>32226.0</td>\n",
       "      <td>clean</td>\n",
       "      <td>other</td>\n",
       "      <td>fwd</td>\n",
       "      <td>NaN</td>\n",
       "      <td>sedan</td>\n",
       "      <td>NaN</td>\n",
       "      <td>wy</td>\n",
       "    </tr>\n",
       "    <tr>\n",
       "      <th>426876</th>\n",
       "      <td>wyoming</td>\n",
       "      <td>30590</td>\n",
       "      <td>2020.0</td>\n",
       "      <td>volvo</td>\n",
       "      <td>s60 t5 momentum sedan 4d</td>\n",
       "      <td>good</td>\n",
       "      <td>NaN</td>\n",
       "      <td>gas</td>\n",
       "      <td>12029.0</td>\n",
       "      <td>clean</td>\n",
       "      <td>other</td>\n",
       "      <td>fwd</td>\n",
       "      <td>NaN</td>\n",
       "      <td>sedan</td>\n",
       "      <td>red</td>\n",
       "      <td>wy</td>\n",
       "    </tr>\n",
       "    <tr>\n",
       "      <th>426877</th>\n",
       "      <td>wyoming</td>\n",
       "      <td>34990</td>\n",
       "      <td>2020.0</td>\n",
       "      <td>cadillac</td>\n",
       "      <td>xt4 sport suv 4d</td>\n",
       "      <td>good</td>\n",
       "      <td>NaN</td>\n",
       "      <td>diesel</td>\n",
       "      <td>4174.0</td>\n",
       "      <td>clean</td>\n",
       "      <td>other</td>\n",
       "      <td>NaN</td>\n",
       "      <td>NaN</td>\n",
       "      <td>hatchback</td>\n",
       "      <td>white</td>\n",
       "      <td>wy</td>\n",
       "    </tr>\n",
       "    <tr>\n",
       "      <th>426878</th>\n",
       "      <td>wyoming</td>\n",
       "      <td>28990</td>\n",
       "      <td>2018.0</td>\n",
       "      <td>lexus</td>\n",
       "      <td>es 350 sedan 4d</td>\n",
       "      <td>good</td>\n",
       "      <td>6 cylinders</td>\n",
       "      <td>gas</td>\n",
       "      <td>30112.0</td>\n",
       "      <td>clean</td>\n",
       "      <td>other</td>\n",
       "      <td>fwd</td>\n",
       "      <td>NaN</td>\n",
       "      <td>sedan</td>\n",
       "      <td>silver</td>\n",
       "      <td>wy</td>\n",
       "    </tr>\n",
       "    <tr>\n",
       "      <th>426879</th>\n",
       "      <td>wyoming</td>\n",
       "      <td>30590</td>\n",
       "      <td>2019.0</td>\n",
       "      <td>bmw</td>\n",
       "      <td>4 series 430i gran coupe</td>\n",
       "      <td>good</td>\n",
       "      <td>NaN</td>\n",
       "      <td>gas</td>\n",
       "      <td>22716.0</td>\n",
       "      <td>clean</td>\n",
       "      <td>other</td>\n",
       "      <td>rwd</td>\n",
       "      <td>NaN</td>\n",
       "      <td>coupe</td>\n",
       "      <td>NaN</td>\n",
       "      <td>wy</td>\n",
       "    </tr>\n",
       "  </tbody>\n",
       "</table>\n",
       "</div>"
      ],
      "text/plain": [
       "         region  price    year manufacturer                     model  \\\n",
       "426875  wyoming  23590  2019.0       nissan         maxima s sedan 4d   \n",
       "426876  wyoming  30590  2020.0        volvo  s60 t5 momentum sedan 4d   \n",
       "426877  wyoming  34990  2020.0     cadillac          xt4 sport suv 4d   \n",
       "426878  wyoming  28990  2018.0        lexus           es 350 sedan 4d   \n",
       "426879  wyoming  30590  2019.0          bmw  4 series 430i gran coupe   \n",
       "\n",
       "       condition    cylinders    fuel  odometer title_status transmission  \\\n",
       "426875      good  6 cylinders     gas   32226.0        clean        other   \n",
       "426876      good          NaN     gas   12029.0        clean        other   \n",
       "426877      good          NaN  diesel    4174.0        clean        other   \n",
       "426878      good  6 cylinders     gas   30112.0        clean        other   \n",
       "426879      good          NaN     gas   22716.0        clean        other   \n",
       "\n",
       "       drive size       type paint_color state  \n",
       "426875   fwd  NaN      sedan         NaN    wy  \n",
       "426876   fwd  NaN      sedan         red    wy  \n",
       "426877   NaN  NaN  hatchback       white    wy  \n",
       "426878   fwd  NaN      sedan      silver    wy  \n",
       "426879   rwd  NaN      coupe         NaN    wy  "
      ]
     },
     "execution_count": 12,
     "metadata": {},
     "output_type": "execute_result"
    }
   ],
   "source": [
    "data.tail()"
   ]
  },
  {
   "cell_type": "markdown",
   "id": "df9e1efe",
   "metadata": {},
   "source": [
    "Prije daljnjeg odabira značajki, izbacimo nepotrebne unose. Pogledajmo još jednom trenutni broj nul vrijednosti po svim značajkama."
   ]
  },
  {
   "cell_type": "code",
   "execution_count": 13,
   "id": "b81d0046",
   "metadata": {},
   "outputs": [
    {
     "data": {
      "text/plain": [
       "region               0\n",
       "price                0\n",
       "year              1205\n",
       "manufacturer     17646\n",
       "model             5277\n",
       "condition       174104\n",
       "cylinders       177678\n",
       "fuel              3013\n",
       "odometer          4400\n",
       "title_status      8242\n",
       "transmission      2556\n",
       "drive           130567\n",
       "size            306361\n",
       "type             92858\n",
       "paint_color     130203\n",
       "state                0\n",
       "dtype: int64"
      ]
     },
     "execution_count": 13,
     "metadata": {},
     "output_type": "execute_result"
    }
   ],
   "source": [
    "data.isna().sum()"
   ]
  },
  {
   "cell_type": "markdown",
   "id": "04262aa1",
   "metadata": {},
   "source": [
    "Primijetimo da neke značajke (condition, cylinders, drive, size, paint_color) u trećini ili više slučajeva imaju NaN vrijednost. Pogledom na prvih 10 unosa tablice vidimo da potencijalno imamo dosta unosa koji za većinu značajki imaju NaN vrijednost."
   ]
  },
  {
   "cell_type": "code",
   "execution_count": 14,
   "id": "dface122",
   "metadata": {},
   "outputs": [
    {
     "data": {
      "text/html": [
       "<div>\n",
       "<style scoped>\n",
       "    .dataframe tbody tr th:only-of-type {\n",
       "        vertical-align: middle;\n",
       "    }\n",
       "\n",
       "    .dataframe tbody tr th {\n",
       "        vertical-align: top;\n",
       "    }\n",
       "\n",
       "    .dataframe thead th {\n",
       "        text-align: right;\n",
       "    }\n",
       "</style>\n",
       "<table border=\"1\" class=\"dataframe\">\n",
       "  <thead>\n",
       "    <tr style=\"text-align: right;\">\n",
       "      <th></th>\n",
       "      <th>region</th>\n",
       "      <th>price</th>\n",
       "      <th>year</th>\n",
       "      <th>manufacturer</th>\n",
       "      <th>model</th>\n",
       "      <th>condition</th>\n",
       "      <th>cylinders</th>\n",
       "      <th>fuel</th>\n",
       "      <th>odometer</th>\n",
       "      <th>title_status</th>\n",
       "      <th>transmission</th>\n",
       "      <th>drive</th>\n",
       "      <th>size</th>\n",
       "      <th>type</th>\n",
       "      <th>paint_color</th>\n",
       "      <th>state</th>\n",
       "    </tr>\n",
       "  </thead>\n",
       "  <tbody>\n",
       "    <tr>\n",
       "      <th>0</th>\n",
       "      <td>prescott</td>\n",
       "      <td>6000</td>\n",
       "      <td>NaN</td>\n",
       "      <td>NaN</td>\n",
       "      <td>NaN</td>\n",
       "      <td>NaN</td>\n",
       "      <td>NaN</td>\n",
       "      <td>NaN</td>\n",
       "      <td>NaN</td>\n",
       "      <td>NaN</td>\n",
       "      <td>NaN</td>\n",
       "      <td>NaN</td>\n",
       "      <td>NaN</td>\n",
       "      <td>NaN</td>\n",
       "      <td>NaN</td>\n",
       "      <td>az</td>\n",
       "    </tr>\n",
       "    <tr>\n",
       "      <th>1</th>\n",
       "      <td>fayetteville</td>\n",
       "      <td>11900</td>\n",
       "      <td>NaN</td>\n",
       "      <td>NaN</td>\n",
       "      <td>NaN</td>\n",
       "      <td>NaN</td>\n",
       "      <td>NaN</td>\n",
       "      <td>NaN</td>\n",
       "      <td>NaN</td>\n",
       "      <td>NaN</td>\n",
       "      <td>NaN</td>\n",
       "      <td>NaN</td>\n",
       "      <td>NaN</td>\n",
       "      <td>NaN</td>\n",
       "      <td>NaN</td>\n",
       "      <td>ar</td>\n",
       "    </tr>\n",
       "    <tr>\n",
       "      <th>2</th>\n",
       "      <td>florida keys</td>\n",
       "      <td>21000</td>\n",
       "      <td>NaN</td>\n",
       "      <td>NaN</td>\n",
       "      <td>NaN</td>\n",
       "      <td>NaN</td>\n",
       "      <td>NaN</td>\n",
       "      <td>NaN</td>\n",
       "      <td>NaN</td>\n",
       "      <td>NaN</td>\n",
       "      <td>NaN</td>\n",
       "      <td>NaN</td>\n",
       "      <td>NaN</td>\n",
       "      <td>NaN</td>\n",
       "      <td>NaN</td>\n",
       "      <td>fl</td>\n",
       "    </tr>\n",
       "    <tr>\n",
       "      <th>3</th>\n",
       "      <td>worcester / central MA</td>\n",
       "      <td>1500</td>\n",
       "      <td>NaN</td>\n",
       "      <td>NaN</td>\n",
       "      <td>NaN</td>\n",
       "      <td>NaN</td>\n",
       "      <td>NaN</td>\n",
       "      <td>NaN</td>\n",
       "      <td>NaN</td>\n",
       "      <td>NaN</td>\n",
       "      <td>NaN</td>\n",
       "      <td>NaN</td>\n",
       "      <td>NaN</td>\n",
       "      <td>NaN</td>\n",
       "      <td>NaN</td>\n",
       "      <td>ma</td>\n",
       "    </tr>\n",
       "    <tr>\n",
       "      <th>4</th>\n",
       "      <td>greensboro</td>\n",
       "      <td>4900</td>\n",
       "      <td>NaN</td>\n",
       "      <td>NaN</td>\n",
       "      <td>NaN</td>\n",
       "      <td>NaN</td>\n",
       "      <td>NaN</td>\n",
       "      <td>NaN</td>\n",
       "      <td>NaN</td>\n",
       "      <td>NaN</td>\n",
       "      <td>NaN</td>\n",
       "      <td>NaN</td>\n",
       "      <td>NaN</td>\n",
       "      <td>NaN</td>\n",
       "      <td>NaN</td>\n",
       "      <td>nc</td>\n",
       "    </tr>\n",
       "    <tr>\n",
       "      <th>5</th>\n",
       "      <td>hudson valley</td>\n",
       "      <td>1600</td>\n",
       "      <td>NaN</td>\n",
       "      <td>NaN</td>\n",
       "      <td>NaN</td>\n",
       "      <td>NaN</td>\n",
       "      <td>NaN</td>\n",
       "      <td>NaN</td>\n",
       "      <td>NaN</td>\n",
       "      <td>NaN</td>\n",
       "      <td>NaN</td>\n",
       "      <td>NaN</td>\n",
       "      <td>NaN</td>\n",
       "      <td>NaN</td>\n",
       "      <td>NaN</td>\n",
       "      <td>ny</td>\n",
       "    </tr>\n",
       "    <tr>\n",
       "      <th>6</th>\n",
       "      <td>hudson valley</td>\n",
       "      <td>1000</td>\n",
       "      <td>NaN</td>\n",
       "      <td>NaN</td>\n",
       "      <td>NaN</td>\n",
       "      <td>NaN</td>\n",
       "      <td>NaN</td>\n",
       "      <td>NaN</td>\n",
       "      <td>NaN</td>\n",
       "      <td>NaN</td>\n",
       "      <td>NaN</td>\n",
       "      <td>NaN</td>\n",
       "      <td>NaN</td>\n",
       "      <td>NaN</td>\n",
       "      <td>NaN</td>\n",
       "      <td>ny</td>\n",
       "    </tr>\n",
       "    <tr>\n",
       "      <th>7</th>\n",
       "      <td>hudson valley</td>\n",
       "      <td>15995</td>\n",
       "      <td>NaN</td>\n",
       "      <td>NaN</td>\n",
       "      <td>NaN</td>\n",
       "      <td>NaN</td>\n",
       "      <td>NaN</td>\n",
       "      <td>NaN</td>\n",
       "      <td>NaN</td>\n",
       "      <td>NaN</td>\n",
       "      <td>NaN</td>\n",
       "      <td>NaN</td>\n",
       "      <td>NaN</td>\n",
       "      <td>NaN</td>\n",
       "      <td>NaN</td>\n",
       "      <td>ny</td>\n",
       "    </tr>\n",
       "    <tr>\n",
       "      <th>8</th>\n",
       "      <td>medford-ashland</td>\n",
       "      <td>5000</td>\n",
       "      <td>NaN</td>\n",
       "      <td>NaN</td>\n",
       "      <td>NaN</td>\n",
       "      <td>NaN</td>\n",
       "      <td>NaN</td>\n",
       "      <td>NaN</td>\n",
       "      <td>NaN</td>\n",
       "      <td>NaN</td>\n",
       "      <td>NaN</td>\n",
       "      <td>NaN</td>\n",
       "      <td>NaN</td>\n",
       "      <td>NaN</td>\n",
       "      <td>NaN</td>\n",
       "      <td>or</td>\n",
       "    </tr>\n",
       "    <tr>\n",
       "      <th>9</th>\n",
       "      <td>erie</td>\n",
       "      <td>3000</td>\n",
       "      <td>NaN</td>\n",
       "      <td>NaN</td>\n",
       "      <td>NaN</td>\n",
       "      <td>NaN</td>\n",
       "      <td>NaN</td>\n",
       "      <td>NaN</td>\n",
       "      <td>NaN</td>\n",
       "      <td>NaN</td>\n",
       "      <td>NaN</td>\n",
       "      <td>NaN</td>\n",
       "      <td>NaN</td>\n",
       "      <td>NaN</td>\n",
       "      <td>NaN</td>\n",
       "      <td>pa</td>\n",
       "    </tr>\n",
       "  </tbody>\n",
       "</table>\n",
       "</div>"
      ],
      "text/plain": [
       "                   region  price  year manufacturer model condition cylinders  \\\n",
       "0                prescott   6000   NaN          NaN   NaN       NaN       NaN   \n",
       "1            fayetteville  11900   NaN          NaN   NaN       NaN       NaN   \n",
       "2            florida keys  21000   NaN          NaN   NaN       NaN       NaN   \n",
       "3  worcester / central MA   1500   NaN          NaN   NaN       NaN       NaN   \n",
       "4              greensboro   4900   NaN          NaN   NaN       NaN       NaN   \n",
       "5           hudson valley   1600   NaN          NaN   NaN       NaN       NaN   \n",
       "6           hudson valley   1000   NaN          NaN   NaN       NaN       NaN   \n",
       "7           hudson valley  15995   NaN          NaN   NaN       NaN       NaN   \n",
       "8         medford-ashland   5000   NaN          NaN   NaN       NaN       NaN   \n",
       "9                    erie   3000   NaN          NaN   NaN       NaN       NaN   \n",
       "\n",
       "  fuel  odometer title_status transmission drive size type paint_color state  \n",
       "0  NaN       NaN          NaN          NaN   NaN  NaN  NaN         NaN    az  \n",
       "1  NaN       NaN          NaN          NaN   NaN  NaN  NaN         NaN    ar  \n",
       "2  NaN       NaN          NaN          NaN   NaN  NaN  NaN         NaN    fl  \n",
       "3  NaN       NaN          NaN          NaN   NaN  NaN  NaN         NaN    ma  \n",
       "4  NaN       NaN          NaN          NaN   NaN  NaN  NaN         NaN    nc  \n",
       "5  NaN       NaN          NaN          NaN   NaN  NaN  NaN         NaN    ny  \n",
       "6  NaN       NaN          NaN          NaN   NaN  NaN  NaN         NaN    ny  \n",
       "7  NaN       NaN          NaN          NaN   NaN  NaN  NaN         NaN    ny  \n",
       "8  NaN       NaN          NaN          NaN   NaN  NaN  NaN         NaN    or  \n",
       "9  NaN       NaN          NaN          NaN   NaN  NaN  NaN         NaN    pa  "
      ]
     },
     "execution_count": 14,
     "metadata": {},
     "output_type": "execute_result"
    }
   ],
   "source": [
    "data.head(10)"
   ]
  },
  {
   "cell_type": "markdown",
   "id": "9d0135ca",
   "metadata": {},
   "source": [
    "Da ne bismo svim ili većini značajki dodjeljivali slučajnu vrijednost, izbacimo unose koji imaju 6 (toliko je onih koje se ističu brojem NaN vrijednosti) ili više značajki sa NaN vrijednošću."
   ]
  },
  {
   "cell_type": "code",
   "execution_count": 15,
   "id": "f9610e23",
   "metadata": {
    "scrolled": true
   },
   "outputs": [],
   "source": [
    "data = data[data.isnull().sum(axis=1) < 6]"
   ]
  },
  {
   "cell_type": "markdown",
   "id": "4e27f6dd",
   "metadata": {},
   "source": [
    "Pogledajmo još jednom broj različitih vrijednosti koje poprimaju značajke 'model' i 'region'."
   ]
  },
  {
   "cell_type": "code",
   "execution_count": 16,
   "id": "09756c36",
   "metadata": {},
   "outputs": [
    {
     "data": {
      "text/plain": [
       "27101"
      ]
     },
     "execution_count": 16,
     "metadata": {},
     "output_type": "execute_result"
    }
   ],
   "source": [
    "data['model'].nunique()"
   ]
  },
  {
   "cell_type": "code",
   "execution_count": 17,
   "id": "af42425c",
   "metadata": {},
   "outputs": [
    {
     "data": {
      "text/plain": [
       "404"
      ]
     },
     "execution_count": 17,
     "metadata": {},
     "output_type": "execute_result"
    }
   ],
   "source": [
    "data['region'].nunique()"
   ]
  },
  {
   "cell_type": "markdown",
   "id": "caaf6209",
   "metadata": {},
   "source": [
    "Dakle, ove dvije značajke poprimaju 27101 odnosno 404 različite vrijednosti. Kada bismo ih transformirali u numeričke varijable, prirodno bi bilo transformirati ih koristeći one-hot encoding. To bi nam uvelike povećalo broj značajki i usporilo proces učenja. Također, pogledajmo npr doprinos najčešćih vrijednosti:"
   ]
  },
  {
   "cell_type": "code",
   "execution_count": 18,
   "id": "e7c020f0",
   "metadata": {},
   "outputs": [
    {
     "data": {
      "text/plain": [
       "299388"
      ]
     },
     "execution_count": 18,
     "metadata": {},
     "output_type": "execute_result"
    }
   ],
   "source": [
    "data['model'].value_counts()[:2000].sum()"
   ]
  },
  {
   "cell_type": "code",
   "execution_count": 19,
   "id": "2423cdd6",
   "metadata": {
    "scrolled": true
   },
   "outputs": [
    {
     "data": {
      "text/plain": [
       "245777"
      ]
     },
     "execution_count": 19,
     "metadata": {},
     "output_type": "execute_result"
    }
   ],
   "source": [
    "data['region'].value_counts()[:100].sum()"
   ]
  },
  {
   "cell_type": "markdown",
   "id": "ac6b81ae",
   "metadata": {},
   "source": [
    "Dakle, tek najčešćih 2000 (za značajku 'model') odnosno najčešćih 100 (za značajku 'region') vrijednosti nam daju preko 50% podataka. Iz tog razloga ćemo i ove značajke izbaciti iz tablice. Osim toga, značajke 'model' i 'region' su zapravo specifičnije verzije značajki 'manufacturer' i 'state' pa njih eventualno možemo koristiti u specifičnim modelima u kojima bi predviđali cijenu automobila određenog proizvođača odnosno iz određene savezne države."
   ]
  },
  {
   "cell_type": "code",
   "execution_count": 20,
   "id": "eb9fe81e",
   "metadata": {},
   "outputs": [],
   "source": [
    "to_drop=['model','region']\n",
    "data.drop(to_drop, inplace=True, axis=1)"
   ]
  },
  {
   "cell_type": "code",
   "execution_count": 21,
   "id": "4de96281",
   "metadata": {},
   "outputs": [
    {
     "data": {
      "text/plain": [
       "price                0\n",
       "year               877\n",
       "manufacturer     12754\n",
       "condition       130395\n",
       "cylinders       133484\n",
       "fuel              1658\n",
       "odometer          3271\n",
       "title_status      6942\n",
       "transmission      1516\n",
       "drive            86631\n",
       "size            261743\n",
       "type             49504\n",
       "paint_color      86273\n",
       "state                0\n",
       "dtype: int64"
      ]
     },
     "execution_count": 21,
     "metadata": {},
     "output_type": "execute_result"
    }
   ],
   "source": [
    "data.isna().sum()"
   ]
  },
  {
   "cell_type": "markdown",
   "id": "98399c5b",
   "metadata": {},
   "source": [
    "Pogledajmo sada detaljnije značajke 'size' i 'type'. Značajka size nedostaje u velikom broju unosa, njih preko 50 posto. Također, prirodno je očekivati da su 'size' i 'type' međusobno korelirane. Naprimjer, po prirodni podataka, svaki automobil tipa truck će biti označen kao full-size itd. Prikažimo moguće vrijednosti koje poprimaju ove značajke, te se uvjerimo u njihovu koreliranost."
   ]
  },
  {
   "cell_type": "code",
   "execution_count": 22,
   "id": "f6c9d6c8",
   "metadata": {},
   "outputs": [
    {
     "data": {
      "text/plain": [
       "full-size      63463\n",
       "mid-size       34476\n",
       "compact        19383\n",
       "sub-compact     3194\n",
       "Name: size, dtype: int64"
      ]
     },
     "execution_count": 22,
     "metadata": {},
     "output_type": "execute_result"
    }
   ],
   "source": [
    "data['size'].value_counts()"
   ]
  },
  {
   "cell_type": "code",
   "execution_count": 23,
   "id": "ca5d6a39",
   "metadata": {},
   "outputs": [
    {
     "data": {
      "text/plain": [
       "sedan          86767\n",
       "SUV            76997\n",
       "pickup         43367\n",
       "truck          35244\n",
       "other          21707\n",
       "coupe          19179\n",
       "hatchback      16575\n",
       "wagon          10741\n",
       "van             8525\n",
       "convertible     7712\n",
       "mini-van        4820\n",
       "offroad          609\n",
       "bus              512\n",
       "Name: type, dtype: int64"
      ]
     },
     "execution_count": 23,
     "metadata": {},
     "output_type": "execute_result"
    }
   ],
   "source": [
    "data['type'].value_counts()"
   ]
  },
  {
   "cell_type": "markdown",
   "id": "5fd68104",
   "metadata": {},
   "source": [
    "Da ispitamo koreliranost ovih značajki, koristit ćemo Chi2 test koreliranosti, sa razinom značajnosti od 95%, i nultom hipotezom koja tvrdi da ove dvije značajke nisu međusobno korelirane. Prvo gradimo tablicu frekvencija a zatim ju kao argument dajemo chi2_contingency funkciji."
   ]
  },
  {
   "cell_type": "code",
   "execution_count": 24,
   "id": "6af8a04e",
   "metadata": {},
   "outputs": [
    {
     "data": {
      "text/html": [
       "<div>\n",
       "<style scoped>\n",
       "    .dataframe tbody tr th:only-of-type {\n",
       "        vertical-align: middle;\n",
       "    }\n",
       "\n",
       "    .dataframe tbody tr th {\n",
       "        vertical-align: top;\n",
       "    }\n",
       "\n",
       "    .dataframe thead th {\n",
       "        text-align: right;\n",
       "    }\n",
       "</style>\n",
       "<table border=\"1\" class=\"dataframe\">\n",
       "  <thead>\n",
       "    <tr style=\"text-align: right;\">\n",
       "      <th>type</th>\n",
       "      <th>SUV</th>\n",
       "      <th>bus</th>\n",
       "      <th>convertible</th>\n",
       "      <th>coupe</th>\n",
       "      <th>hatchback</th>\n",
       "      <th>mini-van</th>\n",
       "      <th>offroad</th>\n",
       "      <th>other</th>\n",
       "      <th>pickup</th>\n",
       "      <th>sedan</th>\n",
       "      <th>truck</th>\n",
       "      <th>van</th>\n",
       "      <th>wagon</th>\n",
       "    </tr>\n",
       "    <tr>\n",
       "      <th>size</th>\n",
       "      <th></th>\n",
       "      <th></th>\n",
       "      <th></th>\n",
       "      <th></th>\n",
       "      <th></th>\n",
       "      <th></th>\n",
       "      <th></th>\n",
       "      <th></th>\n",
       "      <th></th>\n",
       "      <th></th>\n",
       "      <th></th>\n",
       "      <th></th>\n",
       "      <th></th>\n",
       "    </tr>\n",
       "  </thead>\n",
       "  <tbody>\n",
       "    <tr>\n",
       "      <th>compact</th>\n",
       "      <td>2289</td>\n",
       "      <td>33</td>\n",
       "      <td>1125</td>\n",
       "      <td>2235</td>\n",
       "      <td>2602</td>\n",
       "      <td>66</td>\n",
       "      <td>44</td>\n",
       "      <td>785</td>\n",
       "      <td>453</td>\n",
       "      <td>7577</td>\n",
       "      <td>263</td>\n",
       "      <td>203</td>\n",
       "      <td>1140</td>\n",
       "    </tr>\n",
       "    <tr>\n",
       "      <th>full-size</th>\n",
       "      <td>14738</td>\n",
       "      <td>211</td>\n",
       "      <td>574</td>\n",
       "      <td>1523</td>\n",
       "      <td>571</td>\n",
       "      <td>1450</td>\n",
       "      <td>232</td>\n",
       "      <td>666</td>\n",
       "      <td>8235</td>\n",
       "      <td>13748</td>\n",
       "      <td>15542</td>\n",
       "      <td>2777</td>\n",
       "      <td>622</td>\n",
       "    </tr>\n",
       "    <tr>\n",
       "      <th>mid-size</th>\n",
       "      <td>11727</td>\n",
       "      <td>27</td>\n",
       "      <td>1087</td>\n",
       "      <td>2260</td>\n",
       "      <td>1251</td>\n",
       "      <td>701</td>\n",
       "      <td>126</td>\n",
       "      <td>222</td>\n",
       "      <td>870</td>\n",
       "      <td>12325</td>\n",
       "      <td>1574</td>\n",
       "      <td>534</td>\n",
       "      <td>1022</td>\n",
       "    </tr>\n",
       "    <tr>\n",
       "      <th>sub-compact</th>\n",
       "      <td>225</td>\n",
       "      <td>1</td>\n",
       "      <td>493</td>\n",
       "      <td>911</td>\n",
       "      <td>540</td>\n",
       "      <td>26</td>\n",
       "      <td>7</td>\n",
       "      <td>50</td>\n",
       "      <td>25</td>\n",
       "      <td>784</td>\n",
       "      <td>22</td>\n",
       "      <td>4</td>\n",
       "      <td>44</td>\n",
       "    </tr>\n",
       "  </tbody>\n",
       "</table>\n",
       "</div>"
      ],
      "text/plain": [
       "type           SUV  bus  convertible  coupe  hatchback  mini-van  offroad  \\\n",
       "size                                                                        \n",
       "compact       2289   33         1125   2235       2602        66       44   \n",
       "full-size    14738  211          574   1523        571      1450      232   \n",
       "mid-size     11727   27         1087   2260       1251       701      126   \n",
       "sub-compact    225    1          493    911        540        26        7   \n",
       "\n",
       "type         other  pickup  sedan  truck   van  wagon  \n",
       "size                                                   \n",
       "compact        785     453   7577    263   203   1140  \n",
       "full-size      666    8235  13748  15542  2777    622  \n",
       "mid-size       222     870  12325   1574   534   1022  \n",
       "sub-compact     50      25    784     22     4     44  "
      ]
     },
     "execution_count": 24,
     "metadata": {},
     "output_type": "execute_result"
    }
   ],
   "source": [
    "contingency_table=pd.crosstab(data['size'], data['type'])\n",
    "contingency_table"
   ]
  },
  {
   "cell_type": "code",
   "execution_count": 25,
   "id": "20867bd5",
   "metadata": {},
   "outputs": [
    {
     "data": {
      "text/plain": [
       "Chi2ContingencyResult(statistic=38882.700759739375, pvalue=0.0, dof=36, expected_freq=array([[4.67768128e+03, 4.39052178e+01, 5.29283858e+02, 1.11845314e+03,\n",
       "        8.01270225e+02, 3.62056631e+02, 6.60192430e+01, 2.78120185e+02,\n",
       "        1.54685185e+03, 5.55820688e+03, 2.80880403e+03, 5.67862339e+02,\n",
       "        4.56485132e+02],\n",
       "       [1.51378865e+04, 1.42085826e+02, 1.71286552e+03, 3.61953193e+03,\n",
       "        2.59306632e+03, 1.17168569e+03, 2.13651113e+02, 9.00051020e+02,\n",
       "        5.00591348e+03, 1.79874387e+04, 9.08983622e+03, 1.83771299e+03,\n",
       "        1.47727469e+03],\n",
       "       [8.38477166e+03, 7.87003655e+01, 9.48744479e+02, 2.00483394e+03,\n",
       "        1.43628167e+03, 6.48988676e+02, 1.18339888e+02, 4.98532095e+02,\n",
       "        2.77274118e+03, 9.96311906e+03, 5.03479801e+03, 1.01789664e+03,\n",
       "        8.18252329e+02],\n",
       "       [7.78660524e+02, 7.30859114e+00, 8.81061409e+01, 1.86180985e+02,\n",
       "        1.33381788e+02, 6.02690071e+01, 1.09897565e+01, 4.62967005e+01,\n",
       "        2.57493488e+02, 9.25235394e+02, 4.67561744e+02, 9.45280280e+01,\n",
       "        7.59878520e+01]]))"
      ]
     },
     "execution_count": 25,
     "metadata": {},
     "output_type": "execute_result"
    }
   ],
   "source": [
    "val=stat.chi2_contingency(contingency_table)\n",
    "val"
   ]
  },
  {
   "cell_type": "markdown",
   "id": "47774a85",
   "metadata": {},
   "source": [
    "Kao rezultat smo dobili p vrijednosti 0.0 (preciznije, p < 0.0001) pa zaključujemo da su ove dvije značajke međusobno korelirane. Kao rezultat toga, apriori pretpostavke da tip automobila određuje njegovu veličinu, te činjenice da prevelik dio podataka ne sadrži informaciju o veličini automobila, značajku 'size' izbacujemo iz tablice."
   ]
  },
  {
   "cell_type": "code",
   "execution_count": 26,
   "id": "9fd04c70",
   "metadata": {},
   "outputs": [],
   "source": [
    "data.drop('size', inplace=True, axis=1)"
   ]
  },
  {
   "cell_type": "markdown",
   "id": "6453f638",
   "metadata": {},
   "source": [
    "Iako neke od preostalih značajki još uvijek imaju relativno dosta NaN vrijednosti (20-30%), nećemo ih izbacivati jer bi mogle imati značajnu ulogu u predviđanju, pa se isplati NaN vrijednosti riješiti na drugačiji način. Sve ćemo preostale značajke koristiti u predviđanju."
   ]
  },
  {
   "cell_type": "markdown",
   "id": "c9b0c0e6",
   "metadata": {},
   "source": [
    "# Čišćenje podataka"
   ]
  },
  {
   "cell_type": "markdown",
   "id": "ad84fd68",
   "metadata": {},
   "source": [
    "## Price"
   ]
  },
  {
   "cell_type": "markdown",
   "id": "186acc62",
   "metadata": {},
   "source": [
    "Posvetimo se sad čišćenju podataka od pogrešnih vrijednosti, outliera itd.\n",
    "Pogledajmo prvo kako se kreću cijene automobila (varijabla koju predviđamo)."
   ]
  },
  {
   "cell_type": "code",
   "execution_count": 27,
   "id": "71df2e86",
   "metadata": {},
   "outputs": [
    {
     "data": {
      "text/plain": [
       "count    3.822590e+05\n",
       "mean     5.747162e+04\n",
       "std      1.046069e+07\n",
       "min      0.000000e+00\n",
       "25%      6.000000e+03\n",
       "50%      1.450000e+04\n",
       "75%      2.699000e+04\n",
       "max      3.736929e+09\n",
       "Name: price, dtype: float64"
      ]
     },
     "execution_count": 27,
     "metadata": {},
     "output_type": "execute_result"
    }
   ],
   "source": [
    "data['price'].describe()"
   ]
  },
  {
   "cell_type": "markdown",
   "id": "4a3bcbdf",
   "metadata": {},
   "source": [
    "Za početak vidimo da su minimalne i maksimalne vrijednosti nerealne. Minimalna vrijednost je 0 (što bi predstavljalo besplatno djeljenje) a maksimalna se mjeri u milijardama dolara, što nisu realne cijene za automobile. To očito nisu obični outlieri neko rezultati pogrešnog unosa, lažnog oglasa itd. \n",
    "Pogledajmo za početak koliko automobila ima cijenu veću od npr. milijun dolara, što nam se čini kao prirodna ocjena za nerealnu cijenu automobila."
   ]
  },
  {
   "cell_type": "code",
   "execution_count": 28,
   "id": "ebc4067e",
   "metadata": {},
   "outputs": [
    {
     "data": {
      "text/html": [
       "<div>\n",
       "<style scoped>\n",
       "    .dataframe tbody tr th:only-of-type {\n",
       "        vertical-align: middle;\n",
       "    }\n",
       "\n",
       "    .dataframe tbody tr th {\n",
       "        vertical-align: top;\n",
       "    }\n",
       "\n",
       "    .dataframe thead th {\n",
       "        text-align: right;\n",
       "    }\n",
       "</style>\n",
       "<table border=\"1\" class=\"dataframe\">\n",
       "  <thead>\n",
       "    <tr style=\"text-align: right;\">\n",
       "      <th></th>\n",
       "      <th>price</th>\n",
       "      <th>year</th>\n",
       "      <th>manufacturer</th>\n",
       "      <th>condition</th>\n",
       "      <th>cylinders</th>\n",
       "      <th>fuel</th>\n",
       "      <th>odometer</th>\n",
       "      <th>title_status</th>\n",
       "      <th>transmission</th>\n",
       "      <th>drive</th>\n",
       "      <th>type</th>\n",
       "      <th>paint_color</th>\n",
       "      <th>state</th>\n",
       "    </tr>\n",
       "  </thead>\n",
       "  <tbody>\n",
       "    <tr>\n",
       "      <th>219241</th>\n",
       "      <td>1111111</td>\n",
       "      <td>1970.0</td>\n",
       "      <td>dodge</td>\n",
       "      <td>fair</td>\n",
       "      <td>8 cylinders</td>\n",
       "      <td>gas</td>\n",
       "      <td>42000.0</td>\n",
       "      <td>clean</td>\n",
       "      <td>automatic</td>\n",
       "      <td>rwd</td>\n",
       "      <td>coupe</td>\n",
       "      <td>blue</td>\n",
       "      <td>ms</td>\n",
       "    </tr>\n",
       "    <tr>\n",
       "      <th>283429</th>\n",
       "      <td>1111111</td>\n",
       "      <td>1994.0</td>\n",
       "      <td>chevrolet</td>\n",
       "      <td>NaN</td>\n",
       "      <td>8 cylinders</td>\n",
       "      <td>gas</td>\n",
       "      <td>1111111.0</td>\n",
       "      <td>clean</td>\n",
       "      <td>manual</td>\n",
       "      <td>NaN</td>\n",
       "      <td>NaN</td>\n",
       "      <td>NaN</td>\n",
       "      <td>nh</td>\n",
       "    </tr>\n",
       "    <tr>\n",
       "      <th>155421</th>\n",
       "      <td>1234567</td>\n",
       "      <td>2006.0</td>\n",
       "      <td>jeep</td>\n",
       "      <td>like new</td>\n",
       "      <td>6 cylinders</td>\n",
       "      <td>gas</td>\n",
       "      <td>123456.0</td>\n",
       "      <td>clean</td>\n",
       "      <td>automatic</td>\n",
       "      <td>4wd</td>\n",
       "      <td>SUV</td>\n",
       "      <td>custom</td>\n",
       "      <td>in</td>\n",
       "    </tr>\n",
       "    <tr>\n",
       "      <th>194292</th>\n",
       "      <td>1234567</td>\n",
       "      <td>2010.0</td>\n",
       "      <td>lincoln</td>\n",
       "      <td>like new</td>\n",
       "      <td>NaN</td>\n",
       "      <td>gas</td>\n",
       "      <td>85653.0</td>\n",
       "      <td>clean</td>\n",
       "      <td>automatic</td>\n",
       "      <td>NaN</td>\n",
       "      <td>SUV</td>\n",
       "      <td>custom</td>\n",
       "      <td>mi</td>\n",
       "    </tr>\n",
       "    <tr>\n",
       "      <th>68935</th>\n",
       "      <td>2000000</td>\n",
       "      <td>2002.0</td>\n",
       "      <td>saturn</td>\n",
       "      <td>good</td>\n",
       "      <td>4 cylinders</td>\n",
       "      <td>gas</td>\n",
       "      <td>164290.0</td>\n",
       "      <td>clean</td>\n",
       "      <td>automatic</td>\n",
       "      <td>fwd</td>\n",
       "      <td>sedan</td>\n",
       "      <td>green</td>\n",
       "      <td>ca</td>\n",
       "    </tr>\n",
       "    <tr>\n",
       "      <th>327938</th>\n",
       "      <td>3226714</td>\n",
       "      <td>2002.0</td>\n",
       "      <td>NaN</td>\n",
       "      <td>fair</td>\n",
       "      <td>8 cylinders</td>\n",
       "      <td>diesel</td>\n",
       "      <td>1234.0</td>\n",
       "      <td>clean</td>\n",
       "      <td>manual</td>\n",
       "      <td>4wd</td>\n",
       "      <td>sedan</td>\n",
       "      <td>blue</td>\n",
       "      <td>pa</td>\n",
       "    </tr>\n",
       "    <tr>\n",
       "      <th>105843</th>\n",
       "      <td>6995495</td>\n",
       "      <td>2014.0</td>\n",
       "      <td>dodge</td>\n",
       "      <td>NaN</td>\n",
       "      <td>4 cylinders</td>\n",
       "      <td>gas</td>\n",
       "      <td>135888.0</td>\n",
       "      <td>clean</td>\n",
       "      <td>automatic</td>\n",
       "      <td>fwd</td>\n",
       "      <td>SUV</td>\n",
       "      <td>NaN</td>\n",
       "      <td>fl</td>\n",
       "    </tr>\n",
       "    <tr>\n",
       "      <th>303014</th>\n",
       "      <td>12345678</td>\n",
       "      <td>2019.0</td>\n",
       "      <td>chevrolet</td>\n",
       "      <td>good</td>\n",
       "      <td>8 cylinders</td>\n",
       "      <td>gas</td>\n",
       "      <td>100000.0</td>\n",
       "      <td>clean</td>\n",
       "      <td>automatic</td>\n",
       "      <td>4wd</td>\n",
       "      <td>truck</td>\n",
       "      <td>black</td>\n",
       "      <td>oh</td>\n",
       "    </tr>\n",
       "    <tr>\n",
       "      <th>288400</th>\n",
       "      <td>12345678</td>\n",
       "      <td>2019.0</td>\n",
       "      <td>chevrolet</td>\n",
       "      <td>good</td>\n",
       "      <td>8 cylinders</td>\n",
       "      <td>gas</td>\n",
       "      <td>100000.0</td>\n",
       "      <td>clean</td>\n",
       "      <td>automatic</td>\n",
       "      <td>4wd</td>\n",
       "      <td>truck</td>\n",
       "      <td>black</td>\n",
       "      <td>oh</td>\n",
       "    </tr>\n",
       "    <tr>\n",
       "      <th>286324</th>\n",
       "      <td>12345678</td>\n",
       "      <td>2019.0</td>\n",
       "      <td>chevrolet</td>\n",
       "      <td>good</td>\n",
       "      <td>8 cylinders</td>\n",
       "      <td>gas</td>\n",
       "      <td>100000.0</td>\n",
       "      <td>clean</td>\n",
       "      <td>automatic</td>\n",
       "      <td>4wd</td>\n",
       "      <td>truck</td>\n",
       "      <td>black</td>\n",
       "      <td>oh</td>\n",
       "    </tr>\n",
       "    <tr>\n",
       "      <th>303644</th>\n",
       "      <td>12345678</td>\n",
       "      <td>2019.0</td>\n",
       "      <td>chevrolet</td>\n",
       "      <td>good</td>\n",
       "      <td>8 cylinders</td>\n",
       "      <td>gas</td>\n",
       "      <td>100000.0</td>\n",
       "      <td>clean</td>\n",
       "      <td>automatic</td>\n",
       "      <td>4wd</td>\n",
       "      <td>truck</td>\n",
       "      <td>black</td>\n",
       "      <td>oh</td>\n",
       "    </tr>\n",
       "    <tr>\n",
       "      <th>288401</th>\n",
       "      <td>12345678</td>\n",
       "      <td>2019.0</td>\n",
       "      <td>chevrolet</td>\n",
       "      <td>good</td>\n",
       "      <td>8 cylinders</td>\n",
       "      <td>gas</td>\n",
       "      <td>100000.0</td>\n",
       "      <td>clean</td>\n",
       "      <td>automatic</td>\n",
       "      <td>4wd</td>\n",
       "      <td>truck</td>\n",
       "      <td>black</td>\n",
       "      <td>oh</td>\n",
       "    </tr>\n",
       "    <tr>\n",
       "      <th>286323</th>\n",
       "      <td>12345678</td>\n",
       "      <td>2019.0</td>\n",
       "      <td>chevrolet</td>\n",
       "      <td>good</td>\n",
       "      <td>8 cylinders</td>\n",
       "      <td>gas</td>\n",
       "      <td>100000.0</td>\n",
       "      <td>clean</td>\n",
       "      <td>automatic</td>\n",
       "      <td>4wd</td>\n",
       "      <td>truck</td>\n",
       "      <td>black</td>\n",
       "      <td>oh</td>\n",
       "    </tr>\n",
       "    <tr>\n",
       "      <th>136516</th>\n",
       "      <td>17000000</td>\n",
       "      <td>2007.0</td>\n",
       "      <td>ram</td>\n",
       "      <td>good</td>\n",
       "      <td>8 cylinders</td>\n",
       "      <td>diesel</td>\n",
       "      <td>170000.0</td>\n",
       "      <td>rebuilt</td>\n",
       "      <td>automatic</td>\n",
       "      <td>4wd</td>\n",
       "      <td>pickup</td>\n",
       "      <td>black</td>\n",
       "      <td>id</td>\n",
       "    </tr>\n",
       "    <tr>\n",
       "      <th>379133</th>\n",
       "      <td>25003000</td>\n",
       "      <td>1991.0</td>\n",
       "      <td>chevrolet</td>\n",
       "      <td>fair</td>\n",
       "      <td>6 cylinders</td>\n",
       "      <td>gas</td>\n",
       "      <td>200000.0</td>\n",
       "      <td>clean</td>\n",
       "      <td>automatic</td>\n",
       "      <td>NaN</td>\n",
       "      <td>NaN</td>\n",
       "      <td>NaN</td>\n",
       "      <td>tx</td>\n",
       "    </tr>\n",
       "    <tr>\n",
       "      <th>207080</th>\n",
       "      <td>123456789</td>\n",
       "      <td>2003.0</td>\n",
       "      <td>NaN</td>\n",
       "      <td>good</td>\n",
       "      <td>8 cylinders</td>\n",
       "      <td>diesel</td>\n",
       "      <td>1234567.0</td>\n",
       "      <td>clean</td>\n",
       "      <td>automatic</td>\n",
       "      <td>fwd</td>\n",
       "      <td>pickup</td>\n",
       "      <td>NaN</td>\n",
       "      <td>mi</td>\n",
       "    </tr>\n",
       "    <tr>\n",
       "      <th>307488</th>\n",
       "      <td>123456789</td>\n",
       "      <td>1996.0</td>\n",
       "      <td>gmc</td>\n",
       "      <td>fair</td>\n",
       "      <td>8 cylinders</td>\n",
       "      <td>gas</td>\n",
       "      <td>320000.0</td>\n",
       "      <td>clean</td>\n",
       "      <td>automatic</td>\n",
       "      <td>4wd</td>\n",
       "      <td>pickup</td>\n",
       "      <td>black</td>\n",
       "      <td>ok</td>\n",
       "    </tr>\n",
       "    <tr>\n",
       "      <th>137807</th>\n",
       "      <td>123456789</td>\n",
       "      <td>1999.0</td>\n",
       "      <td>buick</td>\n",
       "      <td>like new</td>\n",
       "      <td>6 cylinders</td>\n",
       "      <td>gas</td>\n",
       "      <td>96000.0</td>\n",
       "      <td>clean</td>\n",
       "      <td>automatic</td>\n",
       "      <td>fwd</td>\n",
       "      <td>sedan</td>\n",
       "      <td>white</td>\n",
       "      <td>id</td>\n",
       "    </tr>\n",
       "    <tr>\n",
       "      <th>358555</th>\n",
       "      <td>123456789</td>\n",
       "      <td>2021.0</td>\n",
       "      <td>NaN</td>\n",
       "      <td>good</td>\n",
       "      <td>8 cylinders</td>\n",
       "      <td>gas</td>\n",
       "      <td>0.0</td>\n",
       "      <td>clean</td>\n",
       "      <td>other</td>\n",
       "      <td>rwd</td>\n",
       "      <td>NaN</td>\n",
       "      <td>NaN</td>\n",
       "      <td>tn</td>\n",
       "    </tr>\n",
       "    <tr>\n",
       "      <th>193736</th>\n",
       "      <td>123456789</td>\n",
       "      <td>2015.0</td>\n",
       "      <td>chevrolet</td>\n",
       "      <td>like new</td>\n",
       "      <td>NaN</td>\n",
       "      <td>gas</td>\n",
       "      <td>64181.0</td>\n",
       "      <td>clean</td>\n",
       "      <td>automatic</td>\n",
       "      <td>fwd</td>\n",
       "      <td>sedan</td>\n",
       "      <td>red</td>\n",
       "      <td>mi</td>\n",
       "    </tr>\n",
       "    <tr>\n",
       "      <th>230753</th>\n",
       "      <td>135008900</td>\n",
       "      <td>2008.0</td>\n",
       "      <td>nissan</td>\n",
       "      <td>like new</td>\n",
       "      <td>8 cylinders</td>\n",
       "      <td>gas</td>\n",
       "      <td>110500.0</td>\n",
       "      <td>clean</td>\n",
       "      <td>automatic</td>\n",
       "      <td>4wd</td>\n",
       "      <td>truck</td>\n",
       "      <td>grey</td>\n",
       "      <td>nc</td>\n",
       "    </tr>\n",
       "    <tr>\n",
       "      <th>29386</th>\n",
       "      <td>1111111111</td>\n",
       "      <td>1999.0</td>\n",
       "      <td>ford</td>\n",
       "      <td>good</td>\n",
       "      <td>8 cylinders</td>\n",
       "      <td>diesel</td>\n",
       "      <td>149000.0</td>\n",
       "      <td>clean</td>\n",
       "      <td>automatic</td>\n",
       "      <td>rwd</td>\n",
       "      <td>pickup</td>\n",
       "      <td>white</td>\n",
       "      <td>ca</td>\n",
       "    </tr>\n",
       "    <tr>\n",
       "      <th>153082</th>\n",
       "      <td>1234567890</td>\n",
       "      <td>2006.0</td>\n",
       "      <td>volvo</td>\n",
       "      <td>fair</td>\n",
       "      <td>NaN</td>\n",
       "      <td>other</td>\n",
       "      <td>200000.0</td>\n",
       "      <td>clean</td>\n",
       "      <td>manual</td>\n",
       "      <td>NaN</td>\n",
       "      <td>NaN</td>\n",
       "      <td>black</td>\n",
       "      <td>in</td>\n",
       "    </tr>\n",
       "    <tr>\n",
       "      <th>184704</th>\n",
       "      <td>1410065407</td>\n",
       "      <td>1989.0</td>\n",
       "      <td>jeep</td>\n",
       "      <td>NaN</td>\n",
       "      <td>NaN</td>\n",
       "      <td>diesel</td>\n",
       "      <td>103000.0</td>\n",
       "      <td>clean</td>\n",
       "      <td>manual</td>\n",
       "      <td>NaN</td>\n",
       "      <td>SUV</td>\n",
       "      <td>NaN</td>\n",
       "      <td>md</td>\n",
       "    </tr>\n",
       "    <tr>\n",
       "      <th>37410</th>\n",
       "      <td>3009548743</td>\n",
       "      <td>2021.0</td>\n",
       "      <td>chevrolet</td>\n",
       "      <td>NaN</td>\n",
       "      <td>8 cylinders</td>\n",
       "      <td>gas</td>\n",
       "      <td>1000.0</td>\n",
       "      <td>clean</td>\n",
       "      <td>automatic</td>\n",
       "      <td>4wd</td>\n",
       "      <td>NaN</td>\n",
       "      <td>NaN</td>\n",
       "      <td>ca</td>\n",
       "    </tr>\n",
       "    <tr>\n",
       "      <th>318592</th>\n",
       "      <td>3736928711</td>\n",
       "      <td>2007.0</td>\n",
       "      <td>toyota</td>\n",
       "      <td>excellent</td>\n",
       "      <td>8 cylinders</td>\n",
       "      <td>gas</td>\n",
       "      <td>164000.0</td>\n",
       "      <td>clean</td>\n",
       "      <td>automatic</td>\n",
       "      <td>4wd</td>\n",
       "      <td>pickup</td>\n",
       "      <td>silver</td>\n",
       "      <td>or</td>\n",
       "    </tr>\n",
       "    <tr>\n",
       "      <th>356716</th>\n",
       "      <td>3736928711</td>\n",
       "      <td>1999.0</td>\n",
       "      <td>toyota</td>\n",
       "      <td>fair</td>\n",
       "      <td>6 cylinders</td>\n",
       "      <td>gas</td>\n",
       "      <td>211000.0</td>\n",
       "      <td>clean</td>\n",
       "      <td>automatic</td>\n",
       "      <td>4wd</td>\n",
       "      <td>NaN</td>\n",
       "      <td>green</td>\n",
       "      <td>tn</td>\n",
       "    </tr>\n",
       "  </tbody>\n",
       "</table>\n",
       "</div>"
      ],
      "text/plain": [
       "             price    year manufacturer  condition    cylinders    fuel  \\\n",
       "219241     1111111  1970.0        dodge       fair  8 cylinders     gas   \n",
       "283429     1111111  1994.0    chevrolet        NaN  8 cylinders     gas   \n",
       "155421     1234567  2006.0         jeep   like new  6 cylinders     gas   \n",
       "194292     1234567  2010.0      lincoln   like new          NaN     gas   \n",
       "68935      2000000  2002.0       saturn       good  4 cylinders     gas   \n",
       "327938     3226714  2002.0          NaN       fair  8 cylinders  diesel   \n",
       "105843     6995495  2014.0        dodge        NaN  4 cylinders     gas   \n",
       "303014    12345678  2019.0    chevrolet       good  8 cylinders     gas   \n",
       "288400    12345678  2019.0    chevrolet       good  8 cylinders     gas   \n",
       "286324    12345678  2019.0    chevrolet       good  8 cylinders     gas   \n",
       "303644    12345678  2019.0    chevrolet       good  8 cylinders     gas   \n",
       "288401    12345678  2019.0    chevrolet       good  8 cylinders     gas   \n",
       "286323    12345678  2019.0    chevrolet       good  8 cylinders     gas   \n",
       "136516    17000000  2007.0          ram       good  8 cylinders  diesel   \n",
       "379133    25003000  1991.0    chevrolet       fair  6 cylinders     gas   \n",
       "207080   123456789  2003.0          NaN       good  8 cylinders  diesel   \n",
       "307488   123456789  1996.0          gmc       fair  8 cylinders     gas   \n",
       "137807   123456789  1999.0        buick   like new  6 cylinders     gas   \n",
       "358555   123456789  2021.0          NaN       good  8 cylinders     gas   \n",
       "193736   123456789  2015.0    chevrolet   like new          NaN     gas   \n",
       "230753   135008900  2008.0       nissan   like new  8 cylinders     gas   \n",
       "29386   1111111111  1999.0         ford       good  8 cylinders  diesel   \n",
       "153082  1234567890  2006.0        volvo       fair          NaN   other   \n",
       "184704  1410065407  1989.0         jeep        NaN          NaN  diesel   \n",
       "37410   3009548743  2021.0    chevrolet        NaN  8 cylinders     gas   \n",
       "318592  3736928711  2007.0       toyota  excellent  8 cylinders     gas   \n",
       "356716  3736928711  1999.0       toyota       fair  6 cylinders     gas   \n",
       "\n",
       "         odometer title_status transmission drive    type paint_color state  \n",
       "219241    42000.0        clean    automatic   rwd   coupe        blue    ms  \n",
       "283429  1111111.0        clean       manual   NaN     NaN         NaN    nh  \n",
       "155421   123456.0        clean    automatic   4wd     SUV      custom    in  \n",
       "194292    85653.0        clean    automatic   NaN     SUV      custom    mi  \n",
       "68935    164290.0        clean    automatic   fwd   sedan       green    ca  \n",
       "327938     1234.0        clean       manual   4wd   sedan        blue    pa  \n",
       "105843   135888.0        clean    automatic   fwd     SUV         NaN    fl  \n",
       "303014   100000.0        clean    automatic   4wd   truck       black    oh  \n",
       "288400   100000.0        clean    automatic   4wd   truck       black    oh  \n",
       "286324   100000.0        clean    automatic   4wd   truck       black    oh  \n",
       "303644   100000.0        clean    automatic   4wd   truck       black    oh  \n",
       "288401   100000.0        clean    automatic   4wd   truck       black    oh  \n",
       "286323   100000.0        clean    automatic   4wd   truck       black    oh  \n",
       "136516   170000.0      rebuilt    automatic   4wd  pickup       black    id  \n",
       "379133   200000.0        clean    automatic   NaN     NaN         NaN    tx  \n",
       "207080  1234567.0        clean    automatic   fwd  pickup         NaN    mi  \n",
       "307488   320000.0        clean    automatic   4wd  pickup       black    ok  \n",
       "137807    96000.0        clean    automatic   fwd   sedan       white    id  \n",
       "358555        0.0        clean        other   rwd     NaN         NaN    tn  \n",
       "193736    64181.0        clean    automatic   fwd   sedan         red    mi  \n",
       "230753   110500.0        clean    automatic   4wd   truck        grey    nc  \n",
       "29386    149000.0        clean    automatic   rwd  pickup       white    ca  \n",
       "153082   200000.0        clean       manual   NaN     NaN       black    in  \n",
       "184704   103000.0        clean       manual   NaN     SUV         NaN    md  \n",
       "37410      1000.0        clean    automatic   4wd     NaN         NaN    ca  \n",
       "318592   164000.0        clean    automatic   4wd  pickup      silver    or  \n",
       "356716   211000.0        clean    automatic   4wd     NaN       green    tn  "
      ]
     },
     "execution_count": 28,
     "metadata": {},
     "output_type": "execute_result"
    }
   ],
   "source": [
    "data[data['price']>=1e+6].sort_values(by='price')"
   ]
  },
  {
   "cell_type": "markdown",
   "id": "152495eb",
   "metadata": {},
   "source": [
    "Možemo primijetiti da ovakvih unosa nema previše, i da većinom predstavljaju unose koji se mjere u desetcima milijuna dolara i više, što su nerealni unosi. Oni unosi čija se cijena mjeri u nekoliko milijuna se također čine kao netočni unosi (svi su oblika '1111111', '1234567' itd.). Iz tog razloga ćemo prije nego pogledamo ostatak unosa, izbrisati sve unose sa cijenom preko milijun dolara."
   ]
  },
  {
   "cell_type": "code",
   "execution_count": 29,
   "id": "275d2531",
   "metadata": {},
   "outputs": [],
   "source": [
    "data=data[data['price']<1e+6]"
   ]
  },
  {
   "cell_type": "markdown",
   "id": "6530274e",
   "metadata": {},
   "source": [
    "Učinimo sad slično sa najnižim cijenama."
   ]
  },
  {
   "cell_type": "code",
   "execution_count": 30,
   "id": "bfc0e72c",
   "metadata": {},
   "outputs": [
    {
     "data": {
      "text/plain": [
       "0      28490\n",
       "1       1301\n",
       "99       812\n",
       "100      119\n",
       "85        27\n",
       "       ...  \n",
       "92         1\n",
       "28         1\n",
       "43         1\n",
       "59         1\n",
       "39         1\n",
       "Name: price, Length: 86, dtype: int64"
      ]
     },
     "execution_count": 30,
     "metadata": {},
     "output_type": "execute_result"
    }
   ],
   "source": [
    "data[data['price']<=100]['price'].value_counts()"
   ]
  },
  {
   "cell_type": "markdown",
   "id": "3216b981",
   "metadata": {},
   "source": [
    "Primijetimo da ako odaberemo unose sa cijenom manjom od 100 dolara, daleko najveći broj unosa za cijenu ima 0 ili 1 dolar. Ti unosi nam se također čine nerealnim, vjerojatno lažnim unosima. Pošto se takvi unosi čine kao namjerni, lažni unosi, izbacit ćemo ih iz skupa podataka, umjesto da cijenu mijenjamo u mean ili median. Naime, ako su stvarno lažni unosi, ne možemo očekivati da ćemo usporedbom s ostalim unosima dobiti neku relevantnu informaciju, pa iako ćemo time izgubiti relativno dosta podataka, to nam se čini kao bolja opcija."
   ]
  },
  {
   "cell_type": "code",
   "execution_count": 31,
   "id": "97a562c2",
   "metadata": {},
   "outputs": [],
   "source": [
    "data=data[data['price']>100]"
   ]
  },
  {
   "cell_type": "markdown",
   "id": "789a802a",
   "metadata": {},
   "source": [
    "Pogledajmo kakav je utjecaj ovo napravilo na skup podatak u odnosu na cijenu."
   ]
  },
  {
   "cell_type": "code",
   "execution_count": 32,
   "id": "88dbdcdb",
   "metadata": {},
   "outputs": [
    {
     "data": {
      "text/plain": [
       "count    351093.000000\n",
       "mean      19494.825380\n",
       "std       15583.319564\n",
       "min         101.000000\n",
       "25%        7950.000000\n",
       "50%       15995.000000\n",
       "75%       27990.000000\n",
       "max      999999.000000\n",
       "Name: price, dtype: float64"
      ]
     },
     "execution_count": 32,
     "metadata": {},
     "output_type": "execute_result"
    }
   ],
   "source": [
    "data['price'].describe()"
   ]
  },
  {
   "cell_type": "markdown",
   "id": "164772de",
   "metadata": {},
   "source": [
    "Vidimo da su se npr. mean i std značajno popravili, više nisu reda veličine 1e+4 i 1e-7, nego reda veličine 1e+2. Ipak, maksimalna cijena je još uvijek prevelika, pa pogledajmo možemo li bolje procijeniti gornju prihvatljivu granicu."
   ]
  },
  {
   "cell_type": "code",
   "execution_count": 33,
   "id": "523a4b32",
   "metadata": {},
   "outputs": [
    {
     "data": {
      "text/html": [
       "<div>\n",
       "<style scoped>\n",
       "    .dataframe tbody tr th:only-of-type {\n",
       "        vertical-align: middle;\n",
       "    }\n",
       "\n",
       "    .dataframe tbody tr th {\n",
       "        vertical-align: top;\n",
       "    }\n",
       "\n",
       "    .dataframe thead th {\n",
       "        text-align: right;\n",
       "    }\n",
       "</style>\n",
       "<table border=\"1\" class=\"dataframe\">\n",
       "  <thead>\n",
       "    <tr style=\"text-align: right;\">\n",
       "      <th></th>\n",
       "      <th>price</th>\n",
       "      <th>year</th>\n",
       "      <th>manufacturer</th>\n",
       "      <th>condition</th>\n",
       "      <th>cylinders</th>\n",
       "      <th>fuel</th>\n",
       "      <th>odometer</th>\n",
       "      <th>title_status</th>\n",
       "      <th>transmission</th>\n",
       "      <th>drive</th>\n",
       "      <th>type</th>\n",
       "      <th>paint_color</th>\n",
       "      <th>state</th>\n",
       "    </tr>\n",
       "  </thead>\n",
       "  <tbody>\n",
       "    <tr>\n",
       "      <th>88588</th>\n",
       "      <td>304995</td>\n",
       "      <td>2021.0</td>\n",
       "      <td>porsche</td>\n",
       "      <td>NaN</td>\n",
       "      <td>NaN</td>\n",
       "      <td>gas</td>\n",
       "      <td>22.0</td>\n",
       "      <td>clean</td>\n",
       "      <td>automatic</td>\n",
       "      <td>NaN</td>\n",
       "      <td>convertible</td>\n",
       "      <td>white</td>\n",
       "      <td>dc</td>\n",
       "    </tr>\n",
       "    <tr>\n",
       "      <th>90274</th>\n",
       "      <td>304995</td>\n",
       "      <td>2021.0</td>\n",
       "      <td>porsche</td>\n",
       "      <td>NaN</td>\n",
       "      <td>NaN</td>\n",
       "      <td>gas</td>\n",
       "      <td>22.0</td>\n",
       "      <td>clean</td>\n",
       "      <td>automatic</td>\n",
       "      <td>NaN</td>\n",
       "      <td>convertible</td>\n",
       "      <td>white</td>\n",
       "      <td>dc</td>\n",
       "    </tr>\n",
       "    <tr>\n",
       "      <th>399462</th>\n",
       "      <td>304995</td>\n",
       "      <td>2021.0</td>\n",
       "      <td>porsche</td>\n",
       "      <td>NaN</td>\n",
       "      <td>NaN</td>\n",
       "      <td>gas</td>\n",
       "      <td>22.0</td>\n",
       "      <td>clean</td>\n",
       "      <td>automatic</td>\n",
       "      <td>NaN</td>\n",
       "      <td>convertible</td>\n",
       "      <td>white</td>\n",
       "      <td>va</td>\n",
       "    </tr>\n",
       "    <tr>\n",
       "      <th>44387</th>\n",
       "      <td>347999</td>\n",
       "      <td>2020.0</td>\n",
       "      <td>ferrari</td>\n",
       "      <td>excellent</td>\n",
       "      <td>8 cylinders</td>\n",
       "      <td>gas</td>\n",
       "      <td>3000.0</td>\n",
       "      <td>clean</td>\n",
       "      <td>automatic</td>\n",
       "      <td>NaN</td>\n",
       "      <td>coupe</td>\n",
       "      <td>NaN</td>\n",
       "      <td>ca</td>\n",
       "    </tr>\n",
       "    <tr>\n",
       "      <th>45428</th>\n",
       "      <td>349999</td>\n",
       "      <td>2020.0</td>\n",
       "      <td>ferrari</td>\n",
       "      <td>excellent</td>\n",
       "      <td>8 cylinders</td>\n",
       "      <td>gas</td>\n",
       "      <td>2800.0</td>\n",
       "      <td>clean</td>\n",
       "      <td>automatic</td>\n",
       "      <td>NaN</td>\n",
       "      <td>coupe</td>\n",
       "      <td>NaN</td>\n",
       "      <td>ca</td>\n",
       "    </tr>\n",
       "    <tr>\n",
       "      <th>328193</th>\n",
       "      <td>400123</td>\n",
       "      <td>2003.0</td>\n",
       "      <td>NaN</td>\n",
       "      <td>fair</td>\n",
       "      <td>5 cylinders</td>\n",
       "      <td>diesel</td>\n",
       "      <td>123321.0</td>\n",
       "      <td>clean</td>\n",
       "      <td>automatic</td>\n",
       "      <td>4wd</td>\n",
       "      <td>pickup</td>\n",
       "      <td>blue</td>\n",
       "      <td>pa</td>\n",
       "    </tr>\n",
       "    <tr>\n",
       "      <th>133497</th>\n",
       "      <td>425000</td>\n",
       "      <td>1993.0</td>\n",
       "      <td>jeep</td>\n",
       "      <td>NaN</td>\n",
       "      <td>NaN</td>\n",
       "      <td>gas</td>\n",
       "      <td>380.0</td>\n",
       "      <td>clean</td>\n",
       "      <td>automatic</td>\n",
       "      <td>NaN</td>\n",
       "      <td>NaN</td>\n",
       "      <td>red</td>\n",
       "      <td>id</td>\n",
       "    </tr>\n",
       "    <tr>\n",
       "      <th>360604</th>\n",
       "      <td>449500</td>\n",
       "      <td>2019.0</td>\n",
       "      <td>ferrari</td>\n",
       "      <td>NaN</td>\n",
       "      <td>NaN</td>\n",
       "      <td>gas</td>\n",
       "      <td>500.0</td>\n",
       "      <td>clean</td>\n",
       "      <td>NaN</td>\n",
       "      <td>NaN</td>\n",
       "      <td>coupe</td>\n",
       "      <td>red</td>\n",
       "      <td>tn</td>\n",
       "    </tr>\n",
       "    <tr>\n",
       "      <th>113357</th>\n",
       "      <td>470000</td>\n",
       "      <td>2016.0</td>\n",
       "      <td>NaN</td>\n",
       "      <td>good</td>\n",
       "      <td>NaN</td>\n",
       "      <td>diesel</td>\n",
       "      <td>167268.0</td>\n",
       "      <td>clean</td>\n",
       "      <td>automatic</td>\n",
       "      <td>NaN</td>\n",
       "      <td>NaN</td>\n",
       "      <td>white</td>\n",
       "      <td>fl</td>\n",
       "    </tr>\n",
       "    <tr>\n",
       "      <th>106361</th>\n",
       "      <td>516999</td>\n",
       "      <td>2016.0</td>\n",
       "      <td>NaN</td>\n",
       "      <td>like new</td>\n",
       "      <td>12 cylinders</td>\n",
       "      <td>gas</td>\n",
       "      <td>9982.0</td>\n",
       "      <td>clean</td>\n",
       "      <td>automatic</td>\n",
       "      <td>4wd</td>\n",
       "      <td>convertible</td>\n",
       "      <td>white</td>\n",
       "      <td>fl</td>\n",
       "    </tr>\n",
       "    <tr>\n",
       "      <th>208617</th>\n",
       "      <td>554900</td>\n",
       "      <td>2019.0</td>\n",
       "      <td>NaN</td>\n",
       "      <td>excellent</td>\n",
       "      <td>8 cylinders</td>\n",
       "      <td>gas</td>\n",
       "      <td>25365.0</td>\n",
       "      <td>lien</td>\n",
       "      <td>automatic</td>\n",
       "      <td>4wd</td>\n",
       "      <td>pickup</td>\n",
       "      <td>white</td>\n",
       "      <td>mi</td>\n",
       "    </tr>\n",
       "    <tr>\n",
       "      <th>79088</th>\n",
       "      <td>655000</td>\n",
       "      <td>2010.0</td>\n",
       "      <td>chrysler</td>\n",
       "      <td>good</td>\n",
       "      <td>6 cylinders</td>\n",
       "      <td>gas</td>\n",
       "      <td>106000.0</td>\n",
       "      <td>clean</td>\n",
       "      <td>automatic</td>\n",
       "      <td>NaN</td>\n",
       "      <td>NaN</td>\n",
       "      <td>NaN</td>\n",
       "      <td>co</td>\n",
       "    </tr>\n",
       "    <tr>\n",
       "      <th>95119</th>\n",
       "      <td>990000</td>\n",
       "      <td>2017.0</td>\n",
       "      <td>mercedes-benz</td>\n",
       "      <td>NaN</td>\n",
       "      <td>8 cylinders</td>\n",
       "      <td>gas</td>\n",
       "      <td>4085.0</td>\n",
       "      <td>clean</td>\n",
       "      <td>automatic</td>\n",
       "      <td>4wd</td>\n",
       "      <td>SUV</td>\n",
       "      <td>white</td>\n",
       "      <td>fl</td>\n",
       "    </tr>\n",
       "    <tr>\n",
       "      <th>416145</th>\n",
       "      <td>999999</td>\n",
       "      <td>2006.0</td>\n",
       "      <td>ford</td>\n",
       "      <td>NaN</td>\n",
       "      <td>8 cylinders</td>\n",
       "      <td>diesel</td>\n",
       "      <td>204123.0</td>\n",
       "      <td>clean</td>\n",
       "      <td>automatic</td>\n",
       "      <td>NaN</td>\n",
       "      <td>NaN</td>\n",
       "      <td>NaN</td>\n",
       "      <td>wi</td>\n",
       "    </tr>\n",
       "  </tbody>\n",
       "</table>\n",
       "</div>"
      ],
      "text/plain": [
       "         price    year   manufacturer  condition     cylinders    fuel  \\\n",
       "88588   304995  2021.0        porsche        NaN           NaN     gas   \n",
       "90274   304995  2021.0        porsche        NaN           NaN     gas   \n",
       "399462  304995  2021.0        porsche        NaN           NaN     gas   \n",
       "44387   347999  2020.0        ferrari  excellent   8 cylinders     gas   \n",
       "45428   349999  2020.0        ferrari  excellent   8 cylinders     gas   \n",
       "328193  400123  2003.0            NaN       fair   5 cylinders  diesel   \n",
       "133497  425000  1993.0           jeep        NaN           NaN     gas   \n",
       "360604  449500  2019.0        ferrari        NaN           NaN     gas   \n",
       "113357  470000  2016.0            NaN       good           NaN  diesel   \n",
       "106361  516999  2016.0            NaN   like new  12 cylinders     gas   \n",
       "208617  554900  2019.0            NaN  excellent   8 cylinders     gas   \n",
       "79088   655000  2010.0       chrysler       good   6 cylinders     gas   \n",
       "95119   990000  2017.0  mercedes-benz        NaN   8 cylinders     gas   \n",
       "416145  999999  2006.0           ford        NaN   8 cylinders  diesel   \n",
       "\n",
       "        odometer title_status transmission drive         type paint_color  \\\n",
       "88588       22.0        clean    automatic   NaN  convertible       white   \n",
       "90274       22.0        clean    automatic   NaN  convertible       white   \n",
       "399462      22.0        clean    automatic   NaN  convertible       white   \n",
       "44387     3000.0        clean    automatic   NaN        coupe         NaN   \n",
       "45428     2800.0        clean    automatic   NaN        coupe         NaN   \n",
       "328193  123321.0        clean    automatic   4wd       pickup        blue   \n",
       "133497     380.0        clean    automatic   NaN          NaN         red   \n",
       "360604     500.0        clean          NaN   NaN        coupe         red   \n",
       "113357  167268.0        clean    automatic   NaN          NaN       white   \n",
       "106361    9982.0        clean    automatic   4wd  convertible       white   \n",
       "208617   25365.0         lien    automatic   4wd       pickup       white   \n",
       "79088   106000.0        clean    automatic   NaN          NaN         NaN   \n",
       "95119     4085.0        clean    automatic   4wd          SUV       white   \n",
       "416145  204123.0        clean    automatic   NaN          NaN         NaN   \n",
       "\n",
       "       state  \n",
       "88588     dc  \n",
       "90274     dc  \n",
       "399462    va  \n",
       "44387     ca  \n",
       "45428     ca  \n",
       "328193    pa  \n",
       "133497    id  \n",
       "360604    tn  \n",
       "113357    fl  \n",
       "106361    fl  \n",
       "208617    mi  \n",
       "79088     co  \n",
       "95119     fl  \n",
       "416145    wi  "
      ]
     },
     "execution_count": 33,
     "metadata": {},
     "output_type": "execute_result"
    }
   ],
   "source": [
    "data[data['price']>300000].sort_values(by='price')"
   ]
  },
  {
   "cell_type": "markdown",
   "id": "f643fe8d",
   "metadata": {},
   "source": [
    "Vidimo da postoji samo par vrijednosti preko 900000 dolara, a da ostali unosi sa cijenom npr. preko 400 tisuća (što je njih nekoliko), imaju sumnjive unose - ili su od nepoznatog proizvođača, ili nisu u sjajnom stanju (što ne opravdava cijenu). Izbacimo zato sve unose sa cijenom preko 400 tisuća."
   ]
  },
  {
   "cell_type": "code",
   "execution_count": 34,
   "id": "cd2cf92d",
   "metadata": {},
   "outputs": [],
   "source": [
    "data=data[data['price']<400000]"
   ]
  },
  {
   "cell_type": "code",
   "execution_count": 35,
   "id": "5ddab4d9",
   "metadata": {
    "scrolled": true
   },
   "outputs": [
    {
     "data": {
      "text/plain": [
       "count    351084.000000\n",
       "mean      19479.768961\n",
       "std       15256.706769\n",
       "min         101.000000\n",
       "25%        7950.000000\n",
       "50%       15995.000000\n",
       "75%       27990.000000\n",
       "max      349999.000000\n",
       "Name: price, dtype: float64"
      ]
     },
     "execution_count": 35,
     "metadata": {},
     "output_type": "execute_result"
    }
   ],
   "source": [
    "data['price'].describe()"
   ]
  },
  {
   "cell_type": "markdown",
   "id": "f2ffae9b",
   "metadata": {},
   "source": [
    "Činjenica da je std približno 15000, izbacivanje svih klasičnih outliera bi rezultiralo izbacivanjem previše relevantnih unosa, pa ćemo zasad zadržati sve preostale unose."
   ]
  },
  {
   "cell_type": "markdown",
   "id": "862ffdd4",
   "metadata": {},
   "source": [
    "## Year"
   ]
  },
  {
   "cell_type": "markdown",
   "id": "9bbb480f",
   "metadata": {},
   "source": [
    "Prisjetimo se koliko imamo nul vrijednosti za značajku 'year' i nekoliko takvih unosa."
   ]
  },
  {
   "cell_type": "code",
   "execution_count": 36,
   "id": "389c24bd",
   "metadata": {},
   "outputs": [
    {
     "data": {
      "text/plain": [
       "863"
      ]
     },
     "execution_count": 36,
     "metadata": {},
     "output_type": "execute_result"
    }
   ],
   "source": [
    "data['year'].isna().sum()"
   ]
  },
  {
   "cell_type": "code",
   "execution_count": 37,
   "id": "50b3022f",
   "metadata": {},
   "outputs": [
    {
     "data": {
      "text/html": [
       "<div>\n",
       "<style scoped>\n",
       "    .dataframe tbody tr th:only-of-type {\n",
       "        vertical-align: middle;\n",
       "    }\n",
       "\n",
       "    .dataframe tbody tr th {\n",
       "        vertical-align: top;\n",
       "    }\n",
       "\n",
       "    .dataframe thead th {\n",
       "        text-align: right;\n",
       "    }\n",
       "</style>\n",
       "<table border=\"1\" class=\"dataframe\">\n",
       "  <thead>\n",
       "    <tr style=\"text-align: right;\">\n",
       "      <th></th>\n",
       "      <th>price</th>\n",
       "      <th>year</th>\n",
       "      <th>manufacturer</th>\n",
       "      <th>condition</th>\n",
       "      <th>cylinders</th>\n",
       "      <th>fuel</th>\n",
       "      <th>odometer</th>\n",
       "      <th>title_status</th>\n",
       "      <th>transmission</th>\n",
       "      <th>drive</th>\n",
       "      <th>type</th>\n",
       "      <th>paint_color</th>\n",
       "      <th>state</th>\n",
       "    </tr>\n",
       "  </thead>\n",
       "  <tbody>\n",
       "    <tr>\n",
       "      <th>90089</th>\n",
       "      <td>28500</td>\n",
       "      <td>NaN</td>\n",
       "      <td>NaN</td>\n",
       "      <td>NaN</td>\n",
       "      <td>4 cylinders</td>\n",
       "      <td>gas</td>\n",
       "      <td>27148.0</td>\n",
       "      <td>clean</td>\n",
       "      <td>automatic</td>\n",
       "      <td>NaN</td>\n",
       "      <td>sedan</td>\n",
       "      <td>black</td>\n",
       "      <td>dc</td>\n",
       "    </tr>\n",
       "    <tr>\n",
       "      <th>161065</th>\n",
       "      <td>16995</td>\n",
       "      <td>NaN</td>\n",
       "      <td>NaN</td>\n",
       "      <td>NaN</td>\n",
       "      <td>4 cylinders</td>\n",
       "      <td>gas</td>\n",
       "      <td>23229.0</td>\n",
       "      <td>rebuilt</td>\n",
       "      <td>automatic</td>\n",
       "      <td>fwd</td>\n",
       "      <td>hatchback</td>\n",
       "      <td>black</td>\n",
       "      <td>ia</td>\n",
       "    </tr>\n",
       "    <tr>\n",
       "      <th>51633</th>\n",
       "      <td>45587</td>\n",
       "      <td>NaN</td>\n",
       "      <td>NaN</td>\n",
       "      <td>NaN</td>\n",
       "      <td>8 cylinders</td>\n",
       "      <td>gas</td>\n",
       "      <td>41380.0</td>\n",
       "      <td>clean</td>\n",
       "      <td>automatic</td>\n",
       "      <td>4wd</td>\n",
       "      <td>NaN</td>\n",
       "      <td>grey</td>\n",
       "      <td>ca</td>\n",
       "    </tr>\n",
       "    <tr>\n",
       "      <th>381610</th>\n",
       "      <td>84995</td>\n",
       "      <td>NaN</td>\n",
       "      <td>NaN</td>\n",
       "      <td>NaN</td>\n",
       "      <td>8 cylinders</td>\n",
       "      <td>diesel</td>\n",
       "      <td>71.0</td>\n",
       "      <td>clean</td>\n",
       "      <td>automatic</td>\n",
       "      <td>4wd</td>\n",
       "      <td>pickup</td>\n",
       "      <td>white</td>\n",
       "      <td>tx</td>\n",
       "    </tr>\n",
       "    <tr>\n",
       "      <th>161181</th>\n",
       "      <td>14495</td>\n",
       "      <td>NaN</td>\n",
       "      <td>NaN</td>\n",
       "      <td>NaN</td>\n",
       "      <td>4 cylinders</td>\n",
       "      <td>gas</td>\n",
       "      <td>10964.0</td>\n",
       "      <td>rebuilt</td>\n",
       "      <td>automatic</td>\n",
       "      <td>NaN</td>\n",
       "      <td>hatchback</td>\n",
       "      <td>white</td>\n",
       "      <td>ia</td>\n",
       "    </tr>\n",
       "  </tbody>\n",
       "</table>\n",
       "</div>"
      ],
      "text/plain": [
       "        price  year manufacturer condition    cylinders    fuel  odometer  \\\n",
       "90089   28500   NaN          NaN       NaN  4 cylinders     gas   27148.0   \n",
       "161065  16995   NaN          NaN       NaN  4 cylinders     gas   23229.0   \n",
       "51633   45587   NaN          NaN       NaN  8 cylinders     gas   41380.0   \n",
       "381610  84995   NaN          NaN       NaN  8 cylinders  diesel      71.0   \n",
       "161181  14495   NaN          NaN       NaN  4 cylinders     gas   10964.0   \n",
       "\n",
       "       title_status transmission drive       type paint_color state  \n",
       "90089         clean    automatic   NaN      sedan       black    dc  \n",
       "161065      rebuilt    automatic   fwd  hatchback       black    ia  \n",
       "51633         clean    automatic   4wd        NaN        grey    ca  \n",
       "381610        clean    automatic   4wd     pickup       white    tx  \n",
       "161181      rebuilt    automatic   NaN  hatchback       white    ia  "
      ]
     },
     "execution_count": 37,
     "metadata": {},
     "output_type": "execute_result"
    }
   ],
   "source": [
    "data[data['year'].isna()].sample(5)"
   ]
  },
  {
   "cell_type": "markdown",
   "id": "bfc441e5",
   "metadata": {},
   "source": [
    "Primijetimo da u danom uzorku unosa, svi unosi bez značajke 'year', također imaju NaN vrijednost u značajkama 'manufacturer' i 'condition'. Provjerimo je li to slučajnost."
   ]
  },
  {
   "cell_type": "markdown",
   "id": "f3915382",
   "metadata": {},
   "source": [
    "Vidimo da je mean jednak 2011, a najmanja vrijednost je 1900. Dakle, većina automobila je novija. Pogledajmo kakva je prosječna cijena automobila bez značajke 'year', te automobila starijih odnosno mlađih od 1990."
   ]
  },
  {
   "cell_type": "code",
   "execution_count": 38,
   "id": "826e5f26",
   "metadata": {},
   "outputs": [
    {
     "data": {
      "text/plain": [
       "859"
      ]
     },
     "execution_count": 38,
     "metadata": {},
     "output_type": "execute_result"
    }
   ],
   "source": [
    "len(data[data['year'].isna() & data['manufacturer'].isna() & data['condition'].isna()])"
   ]
  },
  {
   "cell_type": "markdown",
   "id": "70e77294",
   "metadata": {},
   "source": [
    "Dakle, od 863 unosa, njih 859 ima NaN vrijednosti i za manufacturer i condition. Dakle, za takve unose bismo morali postaviti nove vrijednosti svih tih značajki. Umjesto toga, izbacit ćemo ih sve iz skupa podataka, kako ne bismo unosili previše nasumičnih vrijednosti u skup podataka."
   ]
  },
  {
   "cell_type": "code",
   "execution_count": 39,
   "id": "1710d5aa",
   "metadata": {},
   "outputs": [],
   "source": [
    "data=data[data['year'].notna()]"
   ]
  },
  {
   "cell_type": "markdown",
   "id": "4da4788d",
   "metadata": {},
   "source": [
    "## Manufacturer"
   ]
  },
  {
   "cell_type": "code",
   "execution_count": 40,
   "id": "8f8a173a",
   "metadata": {
    "scrolled": true
   },
   "outputs": [
    {
     "data": {
      "text/plain": [
       "11291"
      ]
     },
     "execution_count": 40,
     "metadata": {},
     "output_type": "execute_result"
    }
   ],
   "source": [
    "data['manufacturer'].isna().sum()"
   ]
  },
  {
   "cell_type": "markdown",
   "id": "19a4292c",
   "metadata": {},
   "source": [
    "Pogledajmo kakav je median po proizvođačima te po unosima bez značajke 'manufacturer'. Koristimo median jer je std cijene prevelika, tj. podatci su pozitivno skewed."
   ]
  },
  {
   "cell_type": "code",
   "execution_count": 41,
   "id": "fe6e0a5f",
   "metadata": {},
   "outputs": [
    {
     "data": {
      "text/plain": [
       "manufacturer\n",
       "ferrari            105000.0\n",
       "aston-martin        52000.0\n",
       "tesla               37990.0\n",
       "porsche             30000.0\n",
       "ram                 29995.0\n",
       "alfa-romeo          29590.0\n",
       "jaguar              28990.0\n",
       "rover               25972.5\n",
       "audi                24990.5\n",
       "gmc                 24590.0\n",
       "infiniti            21990.0\n",
       "acura               20590.0\n",
       "lexus               20590.0\n",
       "lincoln             19999.0\n",
       "mercedes-benz       19900.0\n",
       "morgan              19150.0\n",
       "jeep                18989.0\n",
       "bmw                 18725.0\n",
       "cadillac            18490.0\n",
       "datsun              17900.0\n",
       "ford                17530.0\n",
       "chevrolet           16884.0\n",
       "mitsubishi          15990.0\n",
       "volvo               14997.0\n",
       "toyota              14500.0\n",
       "buick               13905.5\n",
       "dodge               13217.5\n",
       "mini                12998.0\n",
       "volkswagen          12400.0\n",
       "kia                 11995.0\n",
       "harley-davidson     11975.0\n",
       "subaru              11900.0\n",
       "nissan              10995.0\n",
       "mazda               10995.0\n",
       "hyundai             10990.0\n",
       "fiat                10970.0\n",
       "honda                9500.0\n",
       "chrysler             8500.0\n",
       "land rover           7497.5\n",
       "pontiac              4995.0\n",
       "mercury              4500.0\n",
       "saturn               4000.0\n",
       "Name: price, dtype: float64"
      ]
     },
     "execution_count": 41,
     "metadata": {},
     "output_type": "execute_result"
    }
   ],
   "source": [
    "data.groupby('manufacturer')['price'].median().sort_values(ascending=False)"
   ]
  },
  {
   "cell_type": "code",
   "execution_count": 42,
   "id": "2f18e334",
   "metadata": {},
   "outputs": [
    {
     "data": {
      "text/plain": [
       "14150.0"
      ]
     },
     "execution_count": 42,
     "metadata": {},
     "output_type": "execute_result"
    }
   ],
   "source": [
    "data[data['manufacturer'].isna()]['price'].median()"
   ]
  },
  {
   "cell_type": "markdown",
   "id": "f7fdcd37",
   "metadata": {},
   "source": [
    "Pogledajmo nekoliko proizvođača za koje je mean najbliži meanu od skupa podataka sa NaN vrijednošću značajke 'manufacturer'. Sve podatke sa NaN manufacturerom ćemo onda pridružiti najzastupljenijem proizvođaču od njih, kako ne bismo slučajno odabrali proizvođača sa relativno malo unosa."
   ]
  },
  {
   "cell_type": "code",
   "execution_count": 43,
   "id": "55ad85c1",
   "metadata": {},
   "outputs": [
    {
     "data": {
      "text/plain": [
       "toyota    29191\n",
       "dodge     10746\n",
       "buick      4636\n",
       "volvo      2960\n",
       "mini       2149\n",
       "Name: manufacturer, dtype: int64"
      ]
     },
     "execution_count": 43,
     "metadata": {},
     "output_type": "execute_result"
    }
   ],
   "source": [
    "najblizi=['volvo','toyota','buick','dodge','mini']\n",
    "data[data['manufacturer'].isin(najblizi)]['manufacturer'].value_counts()"
   ]
  },
  {
   "cell_type": "markdown",
   "id": "eebf9c8e",
   "metadata": {},
   "source": [
    "Vidimo da je najviše toyota u danom skupu, pa tako provodimo imputation."
   ]
  },
  {
   "cell_type": "code",
   "execution_count": 44,
   "id": "c5026d6f",
   "metadata": {},
   "outputs": [],
   "source": [
    "data['manufacturer'].fillna('toyota', inplace=True)"
   ]
  },
  {
   "cell_type": "markdown",
   "id": "d152fcd7",
   "metadata": {},
   "source": [
    "## Fuel"
   ]
  },
  {
   "cell_type": "markdown",
   "id": "844258b8",
   "metadata": {},
   "source": [
    "Ponovimo isto postupak za značajku 'fuel' kao i za 'title_status' i 'transmission' u nastavku,"
   ]
  },
  {
   "cell_type": "code",
   "execution_count": 45,
   "id": "1dc2fdef",
   "metadata": {},
   "outputs": [
    {
     "data": {
      "text/plain": [
       "gas         294008\n",
       "other        26944\n",
       "diesel       21632\n",
       "hybrid        4533\n",
       "electric      1548\n",
       "Name: fuel, dtype: int64"
      ]
     },
     "execution_count": 45,
     "metadata": {},
     "output_type": "execute_result"
    }
   ],
   "source": [
    "data['fuel'].value_counts()"
   ]
  },
  {
   "cell_type": "code",
   "execution_count": 46,
   "id": "b951072c",
   "metadata": {},
   "outputs": [
    {
     "data": {
      "text/plain": [
       "clean         332132\n",
       "rebuilt         6182\n",
       "salvage         3229\n",
       "lien            1335\n",
       "missing          534\n",
       "parts only       122\n",
       "Name: title_status, dtype: int64"
      ]
     },
     "execution_count": 46,
     "metadata": {},
     "output_type": "execute_result"
    }
   ],
   "source": [
    "data['title_status'].value_counts()"
   ]
  },
  {
   "cell_type": "code",
   "execution_count": 47,
   "id": "43e219d9",
   "metadata": {},
   "outputs": [
    {
     "data": {
      "text/plain": [
       "fuel\n",
       "diesel      30990.0\n",
       "other       27990.0\n",
       "electric    25590.0\n",
       "gas         14000.0\n",
       "hybrid      12995.0\n",
       "Name: price, dtype: float64"
      ]
     },
     "execution_count": 47,
     "metadata": {},
     "output_type": "execute_result"
    }
   ],
   "source": [
    "data.groupby('fuel')['price'].median().sort_values(ascending=False)"
   ]
  },
  {
   "cell_type": "code",
   "execution_count": 48,
   "id": "7f887cc2",
   "metadata": {},
   "outputs": [
    {
     "data": {
      "text/plain": [
       "17914.5"
      ]
     },
     "execution_count": 48,
     "metadata": {},
     "output_type": "execute_result"
    }
   ],
   "source": [
    "data[data['fuel'].isna()]['price'].median()"
   ]
  },
  {
   "cell_type": "markdown",
   "id": "409da237",
   "metadata": {},
   "source": [
    "Vidimo da je median cijene za unose kojima nedostaje oznaka za 'fuel' najbliži medianu cijene za 'gas'. Imputati trebamo vrijednost za samo 1556 unosa, pa uzevši u obzir da je automobila sa vrijednošču 'gas' daleko najviše, tako i postupamo."
   ]
  },
  {
   "cell_type": "code",
   "execution_count": 49,
   "id": "ea662ced",
   "metadata": {},
   "outputs": [],
   "source": [
    "data['fuel'].fillna('gas', inplace=True)"
   ]
  },
  {
   "cell_type": "markdown",
   "id": "2a6eaa6b",
   "metadata": {},
   "source": [
    "## Title_status"
   ]
  },
  {
   "cell_type": "code",
   "execution_count": 50,
   "id": "b5dbc2e3",
   "metadata": {},
   "outputs": [
    {
     "data": {
      "text/plain": [
       "clean         332132\n",
       "rebuilt         6182\n",
       "salvage         3229\n",
       "lien            1335\n",
       "missing          534\n",
       "parts only       122\n",
       "Name: title_status, dtype: int64"
      ]
     },
     "execution_count": 50,
     "metadata": {},
     "output_type": "execute_result"
    }
   ],
   "source": [
    "data['title_status'].value_counts()"
   ]
  },
  {
   "cell_type": "code",
   "execution_count": 51,
   "id": "9dab0192",
   "metadata": {},
   "outputs": [
    {
     "data": {
      "text/plain": [
       "6687"
      ]
     },
     "execution_count": 51,
     "metadata": {},
     "output_type": "execute_result"
    }
   ],
   "source": [
    "data['title_status'].isna().sum()"
   ]
  },
  {
   "cell_type": "markdown",
   "id": "e3059455",
   "metadata": {},
   "source": [
    "U ovom slučaju je broj oznaka 'clean' daleko veći od svih ostalih, pa ćemo imputation provesti odmah u značajku 'clean'. Naime, broj podataka koje imputamo je veći od trenutnog broja svih ostalih oznaka za značajku 'title_status' pa bi promjena bila prevelika."
   ]
  },
  {
   "cell_type": "code",
   "execution_count": 52,
   "id": "d7c4fd8e",
   "metadata": {},
   "outputs": [],
   "source": [
    "data['title_status'].fillna('clean', inplace=True)"
   ]
  },
  {
   "cell_type": "markdown",
   "id": "b6663f77",
   "metadata": {},
   "source": [
    "## Transmission"
   ]
  },
  {
   "cell_type": "code",
   "execution_count": 53,
   "id": "676edd86",
   "metadata": {},
   "outputs": [
    {
     "data": {
      "text/plain": [
       "automatic    268280\n",
       "other         60181\n",
       "manual        20428\n",
       "Name: transmission, dtype: int64"
      ]
     },
     "execution_count": 53,
     "metadata": {},
     "output_type": "execute_result"
    }
   ],
   "source": [
    "data['transmission'].value_counts()"
   ]
  },
  {
   "cell_type": "code",
   "execution_count": 54,
   "id": "668e95e8",
   "metadata": {},
   "outputs": [
    {
     "data": {
      "text/plain": [
       "1332"
      ]
     },
     "execution_count": 54,
     "metadata": {},
     "output_type": "execute_result"
    }
   ],
   "source": [
    "data['transmission'].isna().sum()"
   ]
  },
  {
   "cell_type": "code",
   "execution_count": 55,
   "id": "79ec3157",
   "metadata": {},
   "outputs": [
    {
     "data": {
      "text/plain": [
       "transmission\n",
       "other        28590.0\n",
       "automatic    13490.0\n",
       "manual       10000.0\n",
       "Name: price, dtype: float64"
      ]
     },
     "execution_count": 55,
     "metadata": {},
     "output_type": "execute_result"
    }
   ],
   "source": [
    "data.groupby('transmission')['price'].median().sort_values(ascending=False)"
   ]
  },
  {
   "cell_type": "code",
   "execution_count": 56,
   "id": "1736d679",
   "metadata": {},
   "outputs": [
    {
     "data": {
      "text/plain": [
       "16995.0"
      ]
     },
     "execution_count": 56,
     "metadata": {},
     "output_type": "execute_result"
    }
   ],
   "source": [
    "data[data['transmission'].isna()]['price'].median()"
   ]
  },
  {
   "cell_type": "markdown",
   "id": "fb5fc290",
   "metadata": {},
   "source": [
    "Vidimo da je median cijene za podatke kojima nedostaje oznaka za transmission najbliži onima sa oznakom 'automatic'. Kako je takvih ujedno i daleko najviše, imputing radimo sa oznakom 'automatic'."
   ]
  },
  {
   "cell_type": "code",
   "execution_count": 57,
   "id": "bf3d1028",
   "metadata": {},
   "outputs": [],
   "source": [
    "data['transmission'].fillna('automatic', inplace=True)"
   ]
  },
  {
   "cell_type": "markdown",
   "id": "89a35a32",
   "metadata": {},
   "source": [
    "## Odometer"
   ]
  },
  {
   "cell_type": "markdown",
   "id": "492a6a4f",
   "metadata": {},
   "source": [
    "Odometer je zadan kao numerička značajka pa ćemo prvo provjeriti kako su vrijednosti raspoređene."
   ]
  },
  {
   "cell_type": "code",
   "execution_count": 58,
   "id": "4157cbb8",
   "metadata": {},
   "outputs": [
    {
     "data": {
      "text/plain": [
       "count    3.483520e+05\n",
       "mean     9.477599e+04\n",
       "std      1.685381e+05\n",
       "min      0.000000e+00\n",
       "25%      3.642700e+04\n",
       "50%      8.410300e+04\n",
       "75%      1.325660e+05\n",
       "max      1.000000e+07\n",
       "Name: odometer, dtype: float64"
      ]
     },
     "execution_count": 58,
     "metadata": {},
     "output_type": "execute_result"
    }
   ],
   "source": [
    "data['odometer'].describe()"
   ]
  },
  {
   "cell_type": "markdown",
   "id": "28301b93",
   "metadata": {},
   "source": [
    "Primijetimo da je maksimalna vrijednost jednaka 10 milijuna. Kako preko 20 tisuća kilometara godišnje smatramo iznadprosječnom kilometražom, vidimo da su vrijednosti milijunske kilometraže vjerojatno lažne vrijednosti. Provjerimo pobliže takve slučajeve."
   ]
  },
  {
   "cell_type": "code",
   "execution_count": 59,
   "id": "cb4e8ae1",
   "metadata": {},
   "outputs": [
    {
     "data": {
      "text/html": [
       "<div>\n",
       "<style scoped>\n",
       "    .dataframe tbody tr th:only-of-type {\n",
       "        vertical-align: middle;\n",
       "    }\n",
       "\n",
       "    .dataframe tbody tr th {\n",
       "        vertical-align: top;\n",
       "    }\n",
       "\n",
       "    .dataframe thead th {\n",
       "        text-align: right;\n",
       "    }\n",
       "</style>\n",
       "<table border=\"1\" class=\"dataframe\">\n",
       "  <thead>\n",
       "    <tr style=\"text-align: right;\">\n",
       "      <th></th>\n",
       "      <th>price</th>\n",
       "      <th>year</th>\n",
       "      <th>manufacturer</th>\n",
       "      <th>condition</th>\n",
       "      <th>cylinders</th>\n",
       "      <th>fuel</th>\n",
       "      <th>odometer</th>\n",
       "      <th>title_status</th>\n",
       "      <th>transmission</th>\n",
       "      <th>drive</th>\n",
       "      <th>type</th>\n",
       "      <th>paint_color</th>\n",
       "      <th>state</th>\n",
       "    </tr>\n",
       "  </thead>\n",
       "  <tbody>\n",
       "    <tr>\n",
       "      <th>292399</th>\n",
       "      <td>1300</td>\n",
       "      <td>1950.0</td>\n",
       "      <td>chevrolet</td>\n",
       "      <td>fair</td>\n",
       "      <td>8 cylinders</td>\n",
       "      <td>gas</td>\n",
       "      <td>10000000.0</td>\n",
       "      <td>clean</td>\n",
       "      <td>automatic</td>\n",
       "      <td>rwd</td>\n",
       "      <td>sedan</td>\n",
       "      <td>red</td>\n",
       "      <td>oh</td>\n",
       "    </tr>\n",
       "    <tr>\n",
       "      <th>191629</th>\n",
       "      <td>7500</td>\n",
       "      <td>1970.0</td>\n",
       "      <td>chevrolet</td>\n",
       "      <td>fair</td>\n",
       "      <td>8 cylinders</td>\n",
       "      <td>gas</td>\n",
       "      <td>10000000.0</td>\n",
       "      <td>parts only</td>\n",
       "      <td>automatic</td>\n",
       "      <td>rwd</td>\n",
       "      <td>coupe</td>\n",
       "      <td>red</td>\n",
       "      <td>ma</td>\n",
       "    </tr>\n",
       "    <tr>\n",
       "      <th>305172</th>\n",
       "      <td>4500</td>\n",
       "      <td>1995.0</td>\n",
       "      <td>chevrolet</td>\n",
       "      <td>fair</td>\n",
       "      <td>8 cylinders</td>\n",
       "      <td>gas</td>\n",
       "      <td>10000000.0</td>\n",
       "      <td>clean</td>\n",
       "      <td>automatic</td>\n",
       "      <td>rwd</td>\n",
       "      <td>sedan</td>\n",
       "      <td>custom</td>\n",
       "      <td>ok</td>\n",
       "    </tr>\n",
       "    <tr>\n",
       "      <th>81327</th>\n",
       "      <td>15000</td>\n",
       "      <td>1973.0</td>\n",
       "      <td>chevrolet</td>\n",
       "      <td>good</td>\n",
       "      <td>8 cylinders</td>\n",
       "      <td>gas</td>\n",
       "      <td>10000000.0</td>\n",
       "      <td>clean</td>\n",
       "      <td>automatic</td>\n",
       "      <td>rwd</td>\n",
       "      <td>NaN</td>\n",
       "      <td>silver</td>\n",
       "      <td>co</td>\n",
       "    </tr>\n",
       "    <tr>\n",
       "      <th>152394</th>\n",
       "      <td>3500</td>\n",
       "      <td>1954.0</td>\n",
       "      <td>ford</td>\n",
       "      <td>good</td>\n",
       "      <td>NaN</td>\n",
       "      <td>gas</td>\n",
       "      <td>10000000.0</td>\n",
       "      <td>clean</td>\n",
       "      <td>other</td>\n",
       "      <td>NaN</td>\n",
       "      <td>NaN</td>\n",
       "      <td>red</td>\n",
       "      <td>in</td>\n",
       "    </tr>\n",
       "    <tr>\n",
       "      <th>390252</th>\n",
       "      <td>2000</td>\n",
       "      <td>1964.0</td>\n",
       "      <td>ford</td>\n",
       "      <td>fair</td>\n",
       "      <td>6 cylinders</td>\n",
       "      <td>gas</td>\n",
       "      <td>10000000.0</td>\n",
       "      <td>clean</td>\n",
       "      <td>other</td>\n",
       "      <td>rwd</td>\n",
       "      <td>NaN</td>\n",
       "      <td>NaN</td>\n",
       "      <td>va</td>\n",
       "    </tr>\n",
       "    <tr>\n",
       "      <th>28738</th>\n",
       "      <td>20000</td>\n",
       "      <td>1951.0</td>\n",
       "      <td>chevrolet</td>\n",
       "      <td>good</td>\n",
       "      <td>8 cylinders</td>\n",
       "      <td>gas</td>\n",
       "      <td>10000000.0</td>\n",
       "      <td>clean</td>\n",
       "      <td>automatic</td>\n",
       "      <td>rwd</td>\n",
       "      <td>truck</td>\n",
       "      <td>custom</td>\n",
       "      <td>ca</td>\n",
       "    </tr>\n",
       "    <tr>\n",
       "      <th>151740</th>\n",
       "      <td>800</td>\n",
       "      <td>1949.0</td>\n",
       "      <td>ford</td>\n",
       "      <td>good</td>\n",
       "      <td>4 cylinders</td>\n",
       "      <td>gas</td>\n",
       "      <td>10000000.0</td>\n",
       "      <td>clean</td>\n",
       "      <td>manual</td>\n",
       "      <td>rwd</td>\n",
       "      <td>sedan</td>\n",
       "      <td>black</td>\n",
       "      <td>in</td>\n",
       "    </tr>\n",
       "    <tr>\n",
       "      <th>208157</th>\n",
       "      <td>9000</td>\n",
       "      <td>1975.0</td>\n",
       "      <td>chevrolet</td>\n",
       "      <td>good</td>\n",
       "      <td>8 cylinders</td>\n",
       "      <td>gas</td>\n",
       "      <td>10000000.0</td>\n",
       "      <td>clean</td>\n",
       "      <td>automatic</td>\n",
       "      <td>rwd</td>\n",
       "      <td>hatchback</td>\n",
       "      <td>red</td>\n",
       "      <td>mi</td>\n",
       "    </tr>\n",
       "    <tr>\n",
       "      <th>144436</th>\n",
       "      <td>4500</td>\n",
       "      <td>2010.0</td>\n",
       "      <td>ford</td>\n",
       "      <td>good</td>\n",
       "      <td>4 cylinders</td>\n",
       "      <td>gas</td>\n",
       "      <td>10000000.0</td>\n",
       "      <td>clean</td>\n",
       "      <td>automatic</td>\n",
       "      <td>NaN</td>\n",
       "      <td>sedan</td>\n",
       "      <td>red</td>\n",
       "      <td>il</td>\n",
       "    </tr>\n",
       "    <tr>\n",
       "      <th>386655</th>\n",
       "      <td>7000</td>\n",
       "      <td>1967.0</td>\n",
       "      <td>toyota</td>\n",
       "      <td>fair</td>\n",
       "      <td>4 cylinders</td>\n",
       "      <td>gas</td>\n",
       "      <td>10000000.0</td>\n",
       "      <td>clean</td>\n",
       "      <td>manual</td>\n",
       "      <td>rwd</td>\n",
       "      <td>NaN</td>\n",
       "      <td>NaN</td>\n",
       "      <td>ut</td>\n",
       "    </tr>\n",
       "    <tr>\n",
       "      <th>44280</th>\n",
       "      <td>16000</td>\n",
       "      <td>1975.0</td>\n",
       "      <td>porsche</td>\n",
       "      <td>good</td>\n",
       "      <td>4 cylinders</td>\n",
       "      <td>gas</td>\n",
       "      <td>10000000.0</td>\n",
       "      <td>clean</td>\n",
       "      <td>manual</td>\n",
       "      <td>rwd</td>\n",
       "      <td>coupe</td>\n",
       "      <td>red</td>\n",
       "      <td>ca</td>\n",
       "    </tr>\n",
       "    <tr>\n",
       "      <th>262338</th>\n",
       "      <td>4800</td>\n",
       "      <td>1949.0</td>\n",
       "      <td>ford</td>\n",
       "      <td>good</td>\n",
       "      <td>8 cylinders</td>\n",
       "      <td>gas</td>\n",
       "      <td>10000000.0</td>\n",
       "      <td>missing</td>\n",
       "      <td>manual</td>\n",
       "      <td>rwd</td>\n",
       "      <td>pickup</td>\n",
       "      <td>blue</td>\n",
       "      <td>nm</td>\n",
       "    </tr>\n",
       "    <tr>\n",
       "      <th>260971</th>\n",
       "      <td>4000</td>\n",
       "      <td>1973.0</td>\n",
       "      <td>jeep</td>\n",
       "      <td>good</td>\n",
       "      <td>8 cylinders</td>\n",
       "      <td>gas</td>\n",
       "      <td>10000000.0</td>\n",
       "      <td>clean</td>\n",
       "      <td>manual</td>\n",
       "      <td>4wd</td>\n",
       "      <td>offroad</td>\n",
       "      <td>black</td>\n",
       "      <td>nm</td>\n",
       "    </tr>\n",
       "    <tr>\n",
       "      <th>103798</th>\n",
       "      <td>6500</td>\n",
       "      <td>1978.0</td>\n",
       "      <td>toyota</td>\n",
       "      <td>good</td>\n",
       "      <td>8 cylinders</td>\n",
       "      <td>gas</td>\n",
       "      <td>10000000.0</td>\n",
       "      <td>clean</td>\n",
       "      <td>automatic</td>\n",
       "      <td>rwd</td>\n",
       "      <td>truck</td>\n",
       "      <td>NaN</td>\n",
       "      <td>fl</td>\n",
       "    </tr>\n",
       "    <tr>\n",
       "      <th>346428</th>\n",
       "      <td>3200</td>\n",
       "      <td>2004.0</td>\n",
       "      <td>honda</td>\n",
       "      <td>good</td>\n",
       "      <td>6 cylinders</td>\n",
       "      <td>gas</td>\n",
       "      <td>9999999.0</td>\n",
       "      <td>clean</td>\n",
       "      <td>automatic</td>\n",
       "      <td>fwd</td>\n",
       "      <td>NaN</td>\n",
       "      <td>NaN</td>\n",
       "      <td>sc</td>\n",
       "    </tr>\n",
       "    <tr>\n",
       "      <th>219681</th>\n",
       "      <td>900</td>\n",
       "      <td>1993.0</td>\n",
       "      <td>jaguar</td>\n",
       "      <td>fair</td>\n",
       "      <td>8 cylinders</td>\n",
       "      <td>gas</td>\n",
       "      <td>9999999.0</td>\n",
       "      <td>clean</td>\n",
       "      <td>automatic</td>\n",
       "      <td>rwd</td>\n",
       "      <td>sedan</td>\n",
       "      <td>black</td>\n",
       "      <td>mo</td>\n",
       "    </tr>\n",
       "    <tr>\n",
       "      <th>287046</th>\n",
       "      <td>15000</td>\n",
       "      <td>1985.0</td>\n",
       "      <td>chevrolet</td>\n",
       "      <td>good</td>\n",
       "      <td>8 cylinders</td>\n",
       "      <td>gas</td>\n",
       "      <td>9999999.0</td>\n",
       "      <td>clean</td>\n",
       "      <td>automatic</td>\n",
       "      <td>rwd</td>\n",
       "      <td>pickup</td>\n",
       "      <td>blue</td>\n",
       "      <td>oh</td>\n",
       "    </tr>\n",
       "    <tr>\n",
       "      <th>355243</th>\n",
       "      <td>2650</td>\n",
       "      <td>1999.0</td>\n",
       "      <td>buick</td>\n",
       "      <td>good</td>\n",
       "      <td>6 cylinders</td>\n",
       "      <td>gas</td>\n",
       "      <td>9999999.0</td>\n",
       "      <td>clean</td>\n",
       "      <td>automatic</td>\n",
       "      <td>fwd</td>\n",
       "      <td>sedan</td>\n",
       "      <td>black</td>\n",
       "      <td>tn</td>\n",
       "    </tr>\n",
       "    <tr>\n",
       "      <th>137937</th>\n",
       "      <td>3000</td>\n",
       "      <td>1979.0</td>\n",
       "      <td>chevrolet</td>\n",
       "      <td>fair</td>\n",
       "      <td>8 cylinders</td>\n",
       "      <td>gas</td>\n",
       "      <td>9999999.0</td>\n",
       "      <td>clean</td>\n",
       "      <td>automatic</td>\n",
       "      <td>rwd</td>\n",
       "      <td>NaN</td>\n",
       "      <td>black</td>\n",
       "      <td>id</td>\n",
       "    </tr>\n",
       "  </tbody>\n",
       "</table>\n",
       "</div>"
      ],
      "text/plain": [
       "        price    year manufacturer condition    cylinders fuel    odometer  \\\n",
       "292399   1300  1950.0    chevrolet      fair  8 cylinders  gas  10000000.0   \n",
       "191629   7500  1970.0    chevrolet      fair  8 cylinders  gas  10000000.0   \n",
       "305172   4500  1995.0    chevrolet      fair  8 cylinders  gas  10000000.0   \n",
       "81327   15000  1973.0    chevrolet      good  8 cylinders  gas  10000000.0   \n",
       "152394   3500  1954.0         ford      good          NaN  gas  10000000.0   \n",
       "390252   2000  1964.0         ford      fair  6 cylinders  gas  10000000.0   \n",
       "28738   20000  1951.0    chevrolet      good  8 cylinders  gas  10000000.0   \n",
       "151740    800  1949.0         ford      good  4 cylinders  gas  10000000.0   \n",
       "208157   9000  1975.0    chevrolet      good  8 cylinders  gas  10000000.0   \n",
       "144436   4500  2010.0         ford      good  4 cylinders  gas  10000000.0   \n",
       "386655   7000  1967.0       toyota      fair  4 cylinders  gas  10000000.0   \n",
       "44280   16000  1975.0      porsche      good  4 cylinders  gas  10000000.0   \n",
       "262338   4800  1949.0         ford      good  8 cylinders  gas  10000000.0   \n",
       "260971   4000  1973.0         jeep      good  8 cylinders  gas  10000000.0   \n",
       "103798   6500  1978.0       toyota      good  8 cylinders  gas  10000000.0   \n",
       "346428   3200  2004.0        honda      good  6 cylinders  gas   9999999.0   \n",
       "219681    900  1993.0       jaguar      fair  8 cylinders  gas   9999999.0   \n",
       "287046  15000  1985.0    chevrolet      good  8 cylinders  gas   9999999.0   \n",
       "355243   2650  1999.0        buick      good  6 cylinders  gas   9999999.0   \n",
       "137937   3000  1979.0    chevrolet      fair  8 cylinders  gas   9999999.0   \n",
       "\n",
       "       title_status transmission drive       type paint_color state  \n",
       "292399        clean    automatic   rwd      sedan         red    oh  \n",
       "191629   parts only    automatic   rwd      coupe         red    ma  \n",
       "305172        clean    automatic   rwd      sedan      custom    ok  \n",
       "81327         clean    automatic   rwd        NaN      silver    co  \n",
       "152394        clean        other   NaN        NaN         red    in  \n",
       "390252        clean        other   rwd        NaN         NaN    va  \n",
       "28738         clean    automatic   rwd      truck      custom    ca  \n",
       "151740        clean       manual   rwd      sedan       black    in  \n",
       "208157        clean    automatic   rwd  hatchback         red    mi  \n",
       "144436        clean    automatic   NaN      sedan         red    il  \n",
       "386655        clean       manual   rwd        NaN         NaN    ut  \n",
       "44280         clean       manual   rwd      coupe         red    ca  \n",
       "262338      missing       manual   rwd     pickup        blue    nm  \n",
       "260971        clean       manual   4wd    offroad       black    nm  \n",
       "103798        clean    automatic   rwd      truck         NaN    fl  \n",
       "346428        clean    automatic   fwd        NaN         NaN    sc  \n",
       "219681        clean    automatic   rwd      sedan       black    mo  \n",
       "287046        clean    automatic   rwd     pickup        blue    oh  \n",
       "355243        clean    automatic   fwd      sedan       black    tn  \n",
       "137937        clean    automatic   rwd        NaN       black    id  "
      ]
     },
     "execution_count": 59,
     "metadata": {},
     "output_type": "execute_result"
    }
   ],
   "source": [
    "data.sort_values(by='odometer', ascending=False).head(20)"
   ]
  },
  {
   "cell_type": "code",
   "execution_count": 60,
   "id": "923b9939",
   "metadata": {},
   "outputs": [
    {
     "data": {
      "text/html": [
       "<div>\n",
       "<style scoped>\n",
       "    .dataframe tbody tr th:only-of-type {\n",
       "        vertical-align: middle;\n",
       "    }\n",
       "\n",
       "    .dataframe tbody tr th {\n",
       "        vertical-align: top;\n",
       "    }\n",
       "\n",
       "    .dataframe thead th {\n",
       "        text-align: right;\n",
       "    }\n",
       "</style>\n",
       "<table border=\"1\" class=\"dataframe\">\n",
       "  <thead>\n",
       "    <tr style=\"text-align: right;\">\n",
       "      <th></th>\n",
       "      <th>price</th>\n",
       "      <th>year</th>\n",
       "      <th>manufacturer</th>\n",
       "      <th>condition</th>\n",
       "      <th>cylinders</th>\n",
       "      <th>fuel</th>\n",
       "      <th>odometer</th>\n",
       "      <th>title_status</th>\n",
       "      <th>transmission</th>\n",
       "      <th>drive</th>\n",
       "      <th>type</th>\n",
       "      <th>paint_color</th>\n",
       "      <th>state</th>\n",
       "    </tr>\n",
       "  </thead>\n",
       "  <tbody>\n",
       "    <tr>\n",
       "      <th>562</th>\n",
       "      <td>27990</td>\n",
       "      <td>2014.0</td>\n",
       "      <td>ram</td>\n",
       "      <td>like new</td>\n",
       "      <td>6 cylinders</td>\n",
       "      <td>diesel</td>\n",
       "      <td>2222222.0</td>\n",
       "      <td>clean</td>\n",
       "      <td>automatic</td>\n",
       "      <td>4wd</td>\n",
       "      <td>truck</td>\n",
       "      <td>white</td>\n",
       "      <td>al</td>\n",
       "    </tr>\n",
       "    <tr>\n",
       "      <th>616</th>\n",
       "      <td>17990</td>\n",
       "      <td>2018.0</td>\n",
       "      <td>ford</td>\n",
       "      <td>like new</td>\n",
       "      <td>6 cylinders</td>\n",
       "      <td>gas</td>\n",
       "      <td>1111111.0</td>\n",
       "      <td>clean</td>\n",
       "      <td>automatic</td>\n",
       "      <td>fwd</td>\n",
       "      <td>SUV</td>\n",
       "      <td>blue</td>\n",
       "      <td>al</td>\n",
       "    </tr>\n",
       "    <tr>\n",
       "      <th>9878</th>\n",
       "      <td>2500</td>\n",
       "      <td>2008.0</td>\n",
       "      <td>lincoln</td>\n",
       "      <td>good</td>\n",
       "      <td>NaN</td>\n",
       "      <td>gas</td>\n",
       "      <td>1111111.0</td>\n",
       "      <td>clean</td>\n",
       "      <td>automatic</td>\n",
       "      <td>NaN</td>\n",
       "      <td>sedan</td>\n",
       "      <td>NaN</td>\n",
       "      <td>az</td>\n",
       "    </tr>\n",
       "    <tr>\n",
       "      <th>12929</th>\n",
       "      <td>2500</td>\n",
       "      <td>1975.0</td>\n",
       "      <td>volkswagen</td>\n",
       "      <td>fair</td>\n",
       "      <td>4 cylinders</td>\n",
       "      <td>gas</td>\n",
       "      <td>9999999.0</td>\n",
       "      <td>clean</td>\n",
       "      <td>manual</td>\n",
       "      <td>rwd</td>\n",
       "      <td>offroad</td>\n",
       "      <td>orange</td>\n",
       "      <td>az</td>\n",
       "    </tr>\n",
       "    <tr>\n",
       "      <th>13517</th>\n",
       "      <td>1550</td>\n",
       "      <td>1988.0</td>\n",
       "      <td>chevrolet</td>\n",
       "      <td>good</td>\n",
       "      <td>8 cylinders</td>\n",
       "      <td>gas</td>\n",
       "      <td>7654321.0</td>\n",
       "      <td>clean</td>\n",
       "      <td>automatic</td>\n",
       "      <td>rwd</td>\n",
       "      <td>van</td>\n",
       "      <td>white</td>\n",
       "      <td>az</td>\n",
       "    </tr>\n",
       "    <tr>\n",
       "      <th>...</th>\n",
       "      <td>...</td>\n",
       "      <td>...</td>\n",
       "      <td>...</td>\n",
       "      <td>...</td>\n",
       "      <td>...</td>\n",
       "      <td>...</td>\n",
       "      <td>...</td>\n",
       "      <td>...</td>\n",
       "      <td>...</td>\n",
       "      <td>...</td>\n",
       "      <td>...</td>\n",
       "      <td>...</td>\n",
       "      <td>...</td>\n",
       "    </tr>\n",
       "    <tr>\n",
       "      <th>409348</th>\n",
       "      <td>5000</td>\n",
       "      <td>1978.0</td>\n",
       "      <td>volkswagen</td>\n",
       "      <td>good</td>\n",
       "      <td>4 cylinders</td>\n",
       "      <td>gas</td>\n",
       "      <td>9999999.0</td>\n",
       "      <td>clean</td>\n",
       "      <td>automatic</td>\n",
       "      <td>NaN</td>\n",
       "      <td>NaN</td>\n",
       "      <td>brown</td>\n",
       "      <td>wa</td>\n",
       "    </tr>\n",
       "    <tr>\n",
       "      <th>412634</th>\n",
       "      <td>600</td>\n",
       "      <td>1996.0</td>\n",
       "      <td>chevrolet</td>\n",
       "      <td>salvage</td>\n",
       "      <td>6 cylinders</td>\n",
       "      <td>gas</td>\n",
       "      <td>1942420.0</td>\n",
       "      <td>clean</td>\n",
       "      <td>automatic</td>\n",
       "      <td>4wd</td>\n",
       "      <td>SUV</td>\n",
       "      <td>green</td>\n",
       "      <td>wa</td>\n",
       "    </tr>\n",
       "    <tr>\n",
       "      <th>417643</th>\n",
       "      <td>39500</td>\n",
       "      <td>1958.0</td>\n",
       "      <td>chevrolet</td>\n",
       "      <td>good</td>\n",
       "      <td>8 cylinders</td>\n",
       "      <td>gas</td>\n",
       "      <td>1710000.0</td>\n",
       "      <td>clean</td>\n",
       "      <td>automatic</td>\n",
       "      <td>rwd</td>\n",
       "      <td>coupe</td>\n",
       "      <td>red</td>\n",
       "      <td>wi</td>\n",
       "    </tr>\n",
       "    <tr>\n",
       "      <th>419355</th>\n",
       "      <td>3500</td>\n",
       "      <td>2006.0</td>\n",
       "      <td>gmc</td>\n",
       "      <td>good</td>\n",
       "      <td>8 cylinders</td>\n",
       "      <td>gas</td>\n",
       "      <td>2621720.0</td>\n",
       "      <td>clean</td>\n",
       "      <td>automatic</td>\n",
       "      <td>4wd</td>\n",
       "      <td>pickup</td>\n",
       "      <td>black</td>\n",
       "      <td>wi</td>\n",
       "    </tr>\n",
       "    <tr>\n",
       "      <th>419494</th>\n",
       "      <td>500</td>\n",
       "      <td>1959.0</td>\n",
       "      <td>ford</td>\n",
       "      <td>salvage</td>\n",
       "      <td>other</td>\n",
       "      <td>gas</td>\n",
       "      <td>6090609.0</td>\n",
       "      <td>parts only</td>\n",
       "      <td>manual</td>\n",
       "      <td>rwd</td>\n",
       "      <td>sedan</td>\n",
       "      <td>red</td>\n",
       "      <td>wi</td>\n",
       "    </tr>\n",
       "  </tbody>\n",
       "</table>\n",
       "<p>315 rows × 13 columns</p>\n",
       "</div>"
      ],
      "text/plain": [
       "        price    year manufacturer condition    cylinders    fuel   odometer  \\\n",
       "562     27990  2014.0          ram  like new  6 cylinders  diesel  2222222.0   \n",
       "616     17990  2018.0         ford  like new  6 cylinders     gas  1111111.0   \n",
       "9878     2500  2008.0      lincoln      good          NaN     gas  1111111.0   \n",
       "12929    2500  1975.0   volkswagen      fair  4 cylinders     gas  9999999.0   \n",
       "13517    1550  1988.0    chevrolet      good  8 cylinders     gas  7654321.0   \n",
       "...       ...     ...          ...       ...          ...     ...        ...   \n",
       "409348   5000  1978.0   volkswagen      good  4 cylinders     gas  9999999.0   \n",
       "412634    600  1996.0    chevrolet   salvage  6 cylinders     gas  1942420.0   \n",
       "417643  39500  1958.0    chevrolet      good  8 cylinders     gas  1710000.0   \n",
       "419355   3500  2006.0          gmc      good  8 cylinders     gas  2621720.0   \n",
       "419494    500  1959.0         ford   salvage        other     gas  6090609.0   \n",
       "\n",
       "       title_status transmission drive     type paint_color state  \n",
       "562           clean    automatic   4wd    truck       white    al  \n",
       "616           clean    automatic   fwd      SUV        blue    al  \n",
       "9878          clean    automatic   NaN    sedan         NaN    az  \n",
       "12929         clean       manual   rwd  offroad      orange    az  \n",
       "13517         clean    automatic   rwd      van       white    az  \n",
       "...             ...          ...   ...      ...         ...   ...  \n",
       "409348        clean    automatic   NaN      NaN       brown    wa  \n",
       "412634        clean    automatic   4wd      SUV       green    wa  \n",
       "417643        clean    automatic   rwd    coupe         red    wi  \n",
       "419355        clean    automatic   4wd   pickup       black    wi  \n",
       "419494   parts only       manual   rwd    sedan         red    wi  \n",
       "\n",
       "[315 rows x 13 columns]"
      ]
     },
     "execution_count": 60,
     "metadata": {},
     "output_type": "execute_result"
    }
   ],
   "source": [
    "data[data['odometer']>1e+6]"
   ]
  },
  {
   "cell_type": "markdown",
   "id": "bac7cec9",
   "metadata": {},
   "source": [
    "Vidimo da je automobila sa milijunskom kilometražom samo 315, te se iz prikazanog uzorka da naslutiti da su unesene vrijednosti kilometraže vjerojatno pogrešni unosi. Kako intuitivno pretpostavljamo da je kilometraža važan faktor u cijeni automobila, ovakve unose ćemo prvo izbrisati."
   ]
  },
  {
   "cell_type": "code",
   "execution_count": 61,
   "id": "a2f692ce",
   "metadata": {},
   "outputs": [],
   "source": [
    "data=data[data['odometer']<1e+6]"
   ]
  },
  {
   "cell_type": "code",
   "execution_count": 62,
   "id": "4ca1b48e",
   "metadata": {},
   "outputs": [
    {
     "data": {
      "text/plain": [
       "84000.0"
      ]
     },
     "execution_count": 62,
     "metadata": {},
     "output_type": "execute_result"
    }
   ],
   "source": [
    "data['odometer'].median()"
   ]
  },
  {
   "cell_type": "markdown",
   "id": "874c85f7",
   "metadata": {},
   "source": [
    "Provjerimo kako su vrijednosti sada raspoređene."
   ]
  },
  {
   "cell_type": "code",
   "execution_count": 63,
   "id": "ffce257e",
   "metadata": {},
   "outputs": [
    {
     "data": {
      "text/plain": [
       "count    347989.000000\n",
       "mean      91402.612795\n",
       "std       68599.011607\n",
       "min           0.000000\n",
       "25%       36390.000000\n",
       "50%       84000.000000\n",
       "75%      132305.000000\n",
       "max      999999.000000\n",
       "Name: odometer, dtype: float64"
      ]
     },
     "execution_count": 63,
     "metadata": {},
     "output_type": "execute_result"
    }
   ],
   "source": [
    "data['odometer'].describe()"
   ]
  },
  {
   "cell_type": "code",
   "execution_count": 64,
   "id": "f957af43",
   "metadata": {},
   "outputs": [
    {
     "data": {
      "text/html": [
       "<div>\n",
       "<style scoped>\n",
       "    .dataframe tbody tr th:only-of-type {\n",
       "        vertical-align: middle;\n",
       "    }\n",
       "\n",
       "    .dataframe tbody tr th {\n",
       "        vertical-align: top;\n",
       "    }\n",
       "\n",
       "    .dataframe thead th {\n",
       "        text-align: right;\n",
       "    }\n",
       "</style>\n",
       "<table border=\"1\" class=\"dataframe\">\n",
       "  <thead>\n",
       "    <tr style=\"text-align: right;\">\n",
       "      <th></th>\n",
       "      <th>price</th>\n",
       "      <th>year</th>\n",
       "      <th>manufacturer</th>\n",
       "      <th>condition</th>\n",
       "      <th>cylinders</th>\n",
       "      <th>fuel</th>\n",
       "      <th>odometer</th>\n",
       "      <th>title_status</th>\n",
       "      <th>transmission</th>\n",
       "      <th>drive</th>\n",
       "      <th>type</th>\n",
       "      <th>paint_color</th>\n",
       "      <th>state</th>\n",
       "    </tr>\n",
       "  </thead>\n",
       "  <tbody>\n",
       "    <tr>\n",
       "      <th>2781</th>\n",
       "      <td>23000</td>\n",
       "      <td>1967.0</td>\n",
       "      <td>chevrolet</td>\n",
       "      <td>good</td>\n",
       "      <td>8 cylinders</td>\n",
       "      <td>gas</td>\n",
       "      <td>999999.0</td>\n",
       "      <td>clean</td>\n",
       "      <td>automatic</td>\n",
       "      <td>rwd</td>\n",
       "      <td>truck</td>\n",
       "      <td>red</td>\n",
       "      <td>al</td>\n",
       "    </tr>\n",
       "    <tr>\n",
       "      <th>5567</th>\n",
       "      <td>3500</td>\n",
       "      <td>1997.0</td>\n",
       "      <td>mercury</td>\n",
       "      <td>NaN</td>\n",
       "      <td>NaN</td>\n",
       "      <td>gas</td>\n",
       "      <td>999999.0</td>\n",
       "      <td>clean</td>\n",
       "      <td>automatic</td>\n",
       "      <td>NaN</td>\n",
       "      <td>NaN</td>\n",
       "      <td>white</td>\n",
       "      <td>ak</td>\n",
       "    </tr>\n",
       "    <tr>\n",
       "      <th>6110</th>\n",
       "      <td>2200</td>\n",
       "      <td>1987.0</td>\n",
       "      <td>ford</td>\n",
       "      <td>NaN</td>\n",
       "      <td>NaN</td>\n",
       "      <td>gas</td>\n",
       "      <td>999999.0</td>\n",
       "      <td>clean</td>\n",
       "      <td>automatic</td>\n",
       "      <td>NaN</td>\n",
       "      <td>NaN</td>\n",
       "      <td>grey</td>\n",
       "      <td>ak</td>\n",
       "    </tr>\n",
       "    <tr>\n",
       "      <th>8616</th>\n",
       "      <td>1895</td>\n",
       "      <td>2000.0</td>\n",
       "      <td>chevrolet</td>\n",
       "      <td>good</td>\n",
       "      <td>6 cylinders</td>\n",
       "      <td>gas</td>\n",
       "      <td>999999.0</td>\n",
       "      <td>clean</td>\n",
       "      <td>automatic</td>\n",
       "      <td>fwd</td>\n",
       "      <td>mini-van</td>\n",
       "      <td>grey</td>\n",
       "      <td>az</td>\n",
       "    </tr>\n",
       "    <tr>\n",
       "      <th>8617</th>\n",
       "      <td>3795</td>\n",
       "      <td>2006.0</td>\n",
       "      <td>subaru</td>\n",
       "      <td>good</td>\n",
       "      <td>4 cylinders</td>\n",
       "      <td>gas</td>\n",
       "      <td>999999.0</td>\n",
       "      <td>clean</td>\n",
       "      <td>automatic</td>\n",
       "      <td>4wd</td>\n",
       "      <td>wagon</td>\n",
       "      <td>custom</td>\n",
       "      <td>az</td>\n",
       "    </tr>\n",
       "    <tr>\n",
       "      <th>...</th>\n",
       "      <td>...</td>\n",
       "      <td>...</td>\n",
       "      <td>...</td>\n",
       "      <td>...</td>\n",
       "      <td>...</td>\n",
       "      <td>...</td>\n",
       "      <td>...</td>\n",
       "      <td>...</td>\n",
       "      <td>...</td>\n",
       "      <td>...</td>\n",
       "      <td>...</td>\n",
       "      <td>...</td>\n",
       "      <td>...</td>\n",
       "    </tr>\n",
       "    <tr>\n",
       "      <th>418301</th>\n",
       "      <td>23435</td>\n",
       "      <td>2007.0</td>\n",
       "      <td>toyota</td>\n",
       "      <td>excellent</td>\n",
       "      <td>NaN</td>\n",
       "      <td>diesel</td>\n",
       "      <td>934475.0</td>\n",
       "      <td>clean</td>\n",
       "      <td>manual</td>\n",
       "      <td>NaN</td>\n",
       "      <td>truck</td>\n",
       "      <td>white</td>\n",
       "      <td>wi</td>\n",
       "    </tr>\n",
       "    <tr>\n",
       "      <th>418405</th>\n",
       "      <td>6400</td>\n",
       "      <td>1964.0</td>\n",
       "      <td>toyota</td>\n",
       "      <td>good</td>\n",
       "      <td>6 cylinders</td>\n",
       "      <td>gas</td>\n",
       "      <td>999999.0</td>\n",
       "      <td>clean</td>\n",
       "      <td>automatic</td>\n",
       "      <td>rwd</td>\n",
       "      <td>NaN</td>\n",
       "      <td>NaN</td>\n",
       "      <td>wi</td>\n",
       "    </tr>\n",
       "    <tr>\n",
       "      <th>418801</th>\n",
       "      <td>5475</td>\n",
       "      <td>2008.0</td>\n",
       "      <td>dodge</td>\n",
       "      <td>excellent</td>\n",
       "      <td>4 cylinders</td>\n",
       "      <td>gas</td>\n",
       "      <td>930128.0</td>\n",
       "      <td>clean</td>\n",
       "      <td>automatic</td>\n",
       "      <td>fwd</td>\n",
       "      <td>hatchback</td>\n",
       "      <td>orange</td>\n",
       "      <td>wi</td>\n",
       "    </tr>\n",
       "    <tr>\n",
       "      <th>423005</th>\n",
       "      <td>59900</td>\n",
       "      <td>2000.0</td>\n",
       "      <td>toyota</td>\n",
       "      <td>NaN</td>\n",
       "      <td>6 cylinders</td>\n",
       "      <td>other</td>\n",
       "      <td>854000.0</td>\n",
       "      <td>clean</td>\n",
       "      <td>manual</td>\n",
       "      <td>rwd</td>\n",
       "      <td>NaN</td>\n",
       "      <td>red</td>\n",
       "      <td>wi</td>\n",
       "    </tr>\n",
       "    <tr>\n",
       "      <th>423025</th>\n",
       "      <td>52000</td>\n",
       "      <td>1996.0</td>\n",
       "      <td>toyota</td>\n",
       "      <td>NaN</td>\n",
       "      <td>6 cylinders</td>\n",
       "      <td>other</td>\n",
       "      <td>840000.0</td>\n",
       "      <td>clean</td>\n",
       "      <td>manual</td>\n",
       "      <td>rwd</td>\n",
       "      <td>NaN</td>\n",
       "      <td>red</td>\n",
       "      <td>wi</td>\n",
       "    </tr>\n",
       "  </tbody>\n",
       "</table>\n",
       "<p>246 rows × 13 columns</p>\n",
       "</div>"
      ],
      "text/plain": [
       "        price    year manufacturer  condition    cylinders    fuel  odometer  \\\n",
       "2781    23000  1967.0    chevrolet       good  8 cylinders     gas  999999.0   \n",
       "5567     3500  1997.0      mercury        NaN          NaN     gas  999999.0   \n",
       "6110     2200  1987.0         ford        NaN          NaN     gas  999999.0   \n",
       "8616     1895  2000.0    chevrolet       good  6 cylinders     gas  999999.0   \n",
       "8617     3795  2006.0       subaru       good  4 cylinders     gas  999999.0   \n",
       "...       ...     ...          ...        ...          ...     ...       ...   \n",
       "418301  23435  2007.0       toyota  excellent          NaN  diesel  934475.0   \n",
       "418405   6400  1964.0       toyota       good  6 cylinders     gas  999999.0   \n",
       "418801   5475  2008.0        dodge  excellent  4 cylinders     gas  930128.0   \n",
       "423005  59900  2000.0       toyota        NaN  6 cylinders   other  854000.0   \n",
       "423025  52000  1996.0       toyota        NaN  6 cylinders   other  840000.0   \n",
       "\n",
       "       title_status transmission drive       type paint_color state  \n",
       "2781          clean    automatic   rwd      truck         red    al  \n",
       "5567          clean    automatic   NaN        NaN       white    ak  \n",
       "6110          clean    automatic   NaN        NaN        grey    ak  \n",
       "8616          clean    automatic   fwd   mini-van        grey    az  \n",
       "8617          clean    automatic   4wd      wagon      custom    az  \n",
       "...             ...          ...   ...        ...         ...   ...  \n",
       "418301        clean       manual   NaN      truck       white    wi  \n",
       "418405        clean    automatic   rwd        NaN         NaN    wi  \n",
       "418801        clean    automatic   fwd  hatchback      orange    wi  \n",
       "423005        clean       manual   rwd        NaN         red    wi  \n",
       "423025        clean       manual   rwd        NaN         red    wi  \n",
       "\n",
       "[246 rows x 13 columns]"
      ]
     },
     "execution_count": 64,
     "metadata": {},
     "output_type": "execute_result"
    }
   ],
   "source": [
    "data[data['odometer']>800000]"
   ]
  },
  {
   "cell_type": "code",
   "execution_count": 65,
   "id": "e624bfa7",
   "metadata": {},
   "outputs": [
    {
     "data": {
      "text/html": [
       "<div>\n",
       "<style scoped>\n",
       "    .dataframe tbody tr th:only-of-type {\n",
       "        vertical-align: middle;\n",
       "    }\n",
       "\n",
       "    .dataframe tbody tr th {\n",
       "        vertical-align: top;\n",
       "    }\n",
       "\n",
       "    .dataframe thead th {\n",
       "        text-align: right;\n",
       "    }\n",
       "</style>\n",
       "<table border=\"1\" class=\"dataframe\">\n",
       "  <thead>\n",
       "    <tr style=\"text-align: right;\">\n",
       "      <th></th>\n",
       "      <th>price</th>\n",
       "      <th>year</th>\n",
       "      <th>manufacturer</th>\n",
       "      <th>condition</th>\n",
       "      <th>cylinders</th>\n",
       "      <th>fuel</th>\n",
       "      <th>odometer</th>\n",
       "      <th>title_status</th>\n",
       "      <th>transmission</th>\n",
       "      <th>drive</th>\n",
       "      <th>type</th>\n",
       "      <th>paint_color</th>\n",
       "      <th>state</th>\n",
       "    </tr>\n",
       "  </thead>\n",
       "  <tbody>\n",
       "    <tr>\n",
       "      <th>2781</th>\n",
       "      <td>23000</td>\n",
       "      <td>1967.0</td>\n",
       "      <td>chevrolet</td>\n",
       "      <td>good</td>\n",
       "      <td>8 cylinders</td>\n",
       "      <td>gas</td>\n",
       "      <td>999999.0</td>\n",
       "      <td>clean</td>\n",
       "      <td>automatic</td>\n",
       "      <td>rwd</td>\n",
       "      <td>truck</td>\n",
       "      <td>red</td>\n",
       "      <td>al</td>\n",
       "    </tr>\n",
       "    <tr>\n",
       "      <th>5567</th>\n",
       "      <td>3500</td>\n",
       "      <td>1997.0</td>\n",
       "      <td>mercury</td>\n",
       "      <td>NaN</td>\n",
       "      <td>NaN</td>\n",
       "      <td>gas</td>\n",
       "      <td>999999.0</td>\n",
       "      <td>clean</td>\n",
       "      <td>automatic</td>\n",
       "      <td>NaN</td>\n",
       "      <td>NaN</td>\n",
       "      <td>white</td>\n",
       "      <td>ak</td>\n",
       "    </tr>\n",
       "    <tr>\n",
       "      <th>6110</th>\n",
       "      <td>2200</td>\n",
       "      <td>1987.0</td>\n",
       "      <td>ford</td>\n",
       "      <td>NaN</td>\n",
       "      <td>NaN</td>\n",
       "      <td>gas</td>\n",
       "      <td>999999.0</td>\n",
       "      <td>clean</td>\n",
       "      <td>automatic</td>\n",
       "      <td>NaN</td>\n",
       "      <td>NaN</td>\n",
       "      <td>grey</td>\n",
       "      <td>ak</td>\n",
       "    </tr>\n",
       "    <tr>\n",
       "      <th>8616</th>\n",
       "      <td>1895</td>\n",
       "      <td>2000.0</td>\n",
       "      <td>chevrolet</td>\n",
       "      <td>good</td>\n",
       "      <td>6 cylinders</td>\n",
       "      <td>gas</td>\n",
       "      <td>999999.0</td>\n",
       "      <td>clean</td>\n",
       "      <td>automatic</td>\n",
       "      <td>fwd</td>\n",
       "      <td>mini-van</td>\n",
       "      <td>grey</td>\n",
       "      <td>az</td>\n",
       "    </tr>\n",
       "    <tr>\n",
       "      <th>8617</th>\n",
       "      <td>3795</td>\n",
       "      <td>2006.0</td>\n",
       "      <td>subaru</td>\n",
       "      <td>good</td>\n",
       "      <td>4 cylinders</td>\n",
       "      <td>gas</td>\n",
       "      <td>999999.0</td>\n",
       "      <td>clean</td>\n",
       "      <td>automatic</td>\n",
       "      <td>4wd</td>\n",
       "      <td>wagon</td>\n",
       "      <td>custom</td>\n",
       "      <td>az</td>\n",
       "    </tr>\n",
       "    <tr>\n",
       "      <th>...</th>\n",
       "      <td>...</td>\n",
       "      <td>...</td>\n",
       "      <td>...</td>\n",
       "      <td>...</td>\n",
       "      <td>...</td>\n",
       "      <td>...</td>\n",
       "      <td>...</td>\n",
       "      <td>...</td>\n",
       "      <td>...</td>\n",
       "      <td>...</td>\n",
       "      <td>...</td>\n",
       "      <td>...</td>\n",
       "      <td>...</td>\n",
       "    </tr>\n",
       "    <tr>\n",
       "      <th>402675</th>\n",
       "      <td>22500</td>\n",
       "      <td>2003.0</td>\n",
       "      <td>ram</td>\n",
       "      <td>like new</td>\n",
       "      <td>6 cylinders</td>\n",
       "      <td>diesel</td>\n",
       "      <td>999999.0</td>\n",
       "      <td>clean</td>\n",
       "      <td>manual</td>\n",
       "      <td>4wd</td>\n",
       "      <td>pickup</td>\n",
       "      <td>silver</td>\n",
       "      <td>wa</td>\n",
       "    </tr>\n",
       "    <tr>\n",
       "      <th>403019</th>\n",
       "      <td>22500</td>\n",
       "      <td>2003.0</td>\n",
       "      <td>ram</td>\n",
       "      <td>like new</td>\n",
       "      <td>6 cylinders</td>\n",
       "      <td>diesel</td>\n",
       "      <td>999999.0</td>\n",
       "      <td>clean</td>\n",
       "      <td>manual</td>\n",
       "      <td>4wd</td>\n",
       "      <td>pickup</td>\n",
       "      <td>silver</td>\n",
       "      <td>wa</td>\n",
       "    </tr>\n",
       "    <tr>\n",
       "      <th>403465</th>\n",
       "      <td>22995</td>\n",
       "      <td>2003.0</td>\n",
       "      <td>ram</td>\n",
       "      <td>like new</td>\n",
       "      <td>6 cylinders</td>\n",
       "      <td>diesel</td>\n",
       "      <td>999999.0</td>\n",
       "      <td>clean</td>\n",
       "      <td>manual</td>\n",
       "      <td>4wd</td>\n",
       "      <td>pickup</td>\n",
       "      <td>silver</td>\n",
       "      <td>wa</td>\n",
       "    </tr>\n",
       "    <tr>\n",
       "      <th>407698</th>\n",
       "      <td>59500</td>\n",
       "      <td>1972.0</td>\n",
       "      <td>chevrolet</td>\n",
       "      <td>NaN</td>\n",
       "      <td>8 cylinders</td>\n",
       "      <td>gas</td>\n",
       "      <td>999999.0</td>\n",
       "      <td>clean</td>\n",
       "      <td>automatic</td>\n",
       "      <td>NaN</td>\n",
       "      <td>NaN</td>\n",
       "      <td>NaN</td>\n",
       "      <td>wa</td>\n",
       "    </tr>\n",
       "    <tr>\n",
       "      <th>418405</th>\n",
       "      <td>6400</td>\n",
       "      <td>1964.0</td>\n",
       "      <td>toyota</td>\n",
       "      <td>good</td>\n",
       "      <td>6 cylinders</td>\n",
       "      <td>gas</td>\n",
       "      <td>999999.0</td>\n",
       "      <td>clean</td>\n",
       "      <td>automatic</td>\n",
       "      <td>rwd</td>\n",
       "      <td>NaN</td>\n",
       "      <td>NaN</td>\n",
       "      <td>wi</td>\n",
       "    </tr>\n",
       "  </tbody>\n",
       "</table>\n",
       "<p>132 rows × 13 columns</p>\n",
       "</div>"
      ],
      "text/plain": [
       "        price    year manufacturer condition    cylinders    fuel  odometer  \\\n",
       "2781    23000  1967.0    chevrolet      good  8 cylinders     gas  999999.0   \n",
       "5567     3500  1997.0      mercury       NaN          NaN     gas  999999.0   \n",
       "6110     2200  1987.0         ford       NaN          NaN     gas  999999.0   \n",
       "8616     1895  2000.0    chevrolet      good  6 cylinders     gas  999999.0   \n",
       "8617     3795  2006.0       subaru      good  4 cylinders     gas  999999.0   \n",
       "...       ...     ...          ...       ...          ...     ...       ...   \n",
       "402675  22500  2003.0          ram  like new  6 cylinders  diesel  999999.0   \n",
       "403019  22500  2003.0          ram  like new  6 cylinders  diesel  999999.0   \n",
       "403465  22995  2003.0          ram  like new  6 cylinders  diesel  999999.0   \n",
       "407698  59500  1972.0    chevrolet       NaN  8 cylinders     gas  999999.0   \n",
       "418405   6400  1964.0       toyota      good  6 cylinders     gas  999999.0   \n",
       "\n",
       "       title_status transmission drive      type paint_color state  \n",
       "2781          clean    automatic   rwd     truck         red    al  \n",
       "5567          clean    automatic   NaN       NaN       white    ak  \n",
       "6110          clean    automatic   NaN       NaN        grey    ak  \n",
       "8616          clean    automatic   fwd  mini-van        grey    az  \n",
       "8617          clean    automatic   4wd     wagon      custom    az  \n",
       "...             ...          ...   ...       ...         ...   ...  \n",
       "402675        clean       manual   4wd    pickup      silver    wa  \n",
       "403019        clean       manual   4wd    pickup      silver    wa  \n",
       "403465        clean       manual   4wd    pickup      silver    wa  \n",
       "407698        clean    automatic   NaN       NaN         NaN    wa  \n",
       "418405        clean    automatic   rwd       NaN         NaN    wi  \n",
       "\n",
       "[132 rows x 13 columns]"
      ]
     },
     "execution_count": 65,
     "metadata": {},
     "output_type": "execute_result"
    }
   ],
   "source": [
    "data[data['odometer']==999999]"
   ]
  },
  {
   "cell_type": "markdown",
   "id": "7c5649b9",
   "metadata": {},
   "source": [
    "Primijetimo da ostatak ogromnih vrijednosti kilometraže odlazi većinom na unos '999999', pa izbacimo i te podatke, jer se čine lažnima (dodatno npr condition im je like new, ili su relativno novi, title_status im je clean itd.)"
   ]
  },
  {
   "cell_type": "code",
   "execution_count": 66,
   "id": "c1b5b52e",
   "metadata": {},
   "outputs": [],
   "source": [
    "data=data[data['odometer']<999999]"
   ]
  },
  {
   "cell_type": "code",
   "execution_count": 67,
   "id": "745944d3",
   "metadata": {},
   "outputs": [
    {
     "data": {
      "text/plain": [
       "count    347857.000000\n",
       "mean      91057.831109\n",
       "std       66288.935202\n",
       "min           0.000000\n",
       "25%       36381.000000\n",
       "50%       84000.000000\n",
       "75%      132237.000000\n",
       "max      999000.000000\n",
       "Name: odometer, dtype: float64"
      ]
     },
     "execution_count": 67,
     "metadata": {},
     "output_type": "execute_result"
    }
   ],
   "source": [
    "data['odometer'].describe()"
   ]
  },
  {
   "cell_type": "markdown",
   "id": "2cfbf5fc",
   "metadata": {},
   "source": [
    "Uzmimo sada median od 84000 i pridružimo tu vrijednost podatcima kojima nedostaje značajka 'odometer'."
   ]
  },
  {
   "cell_type": "code",
   "execution_count": 68,
   "id": "ab0342ee",
   "metadata": {},
   "outputs": [],
   "source": [
    "data['odometer'].fillna(84000, inplace=True)"
   ]
  },
  {
   "cell_type": "markdown",
   "id": "1e3ee173",
   "metadata": {},
   "source": [
    "## Paint_color"
   ]
  },
  {
   "cell_type": "markdown",
   "id": "190be409",
   "metadata": {},
   "source": [
    "Primijetimo da preostale značajke na kojima nismo izvršili imputing, sadrže značajno više nul vrijednosti nego prethodne."
   ]
  },
  {
   "cell_type": "code",
   "execution_count": 69,
   "id": "1ccb2f89",
   "metadata": {},
   "outputs": [
    {
     "data": {
      "text/plain": [
       "price                0\n",
       "year                 0\n",
       "manufacturer         0\n",
       "condition       109568\n",
       "cylinders       118688\n",
       "fuel                 0\n",
       "odometer             0\n",
       "title_status         0\n",
       "transmission         0\n",
       "drive            79778\n",
       "type             45375\n",
       "paint_color      76028\n",
       "state                0\n",
       "dtype: int64"
      ]
     },
     "execution_count": 69,
     "metadata": {},
     "output_type": "execute_result"
    }
   ],
   "source": [
    "data.isna().sum()"
   ]
  },
  {
   "cell_type": "markdown",
   "id": "d89b2188",
   "metadata": {},
   "source": [
    "Pogledajmo prvo značajku paint_color."
   ]
  },
  {
   "cell_type": "markdown",
   "id": "0aba04b5",
   "metadata": {},
   "source": [
    "Prikazat ćemo grafički ovisnost cijene o boji vozila, koristeći boxplot, s tim da ćemo zanemariti iznimno visoke cijene koje nismo odbacivali zbog prirode problema."
   ]
  },
  {
   "cell_type": "code",
   "execution_count": 70,
   "id": "e620525d",
   "metadata": {},
   "outputs": [
    {
     "data": {
      "text/plain": [
       "<Axes: xlabel='price', ylabel='paint_color'>"
      ]
     },
     "execution_count": 70,
     "metadata": {},
     "output_type": "execute_result"
    },
    {
     "data": {
      "image/png": "[encoded data removed]",
      "text/plain": [
       "<Figure size 640x480 with 1 Axes>"
      ]
     },
     "metadata": {},
     "output_type": "display_data"
    }
   ],
   "source": [
    "bound=data['price'].quantile(0.99)\n",
    "under_bound=data[data['price']<bound]\n",
    "seaborn.boxplot(x=under_bound['price'], y=under_bound['paint_color'], fliersize=0)"
   ]
  },
  {
   "cell_type": "code",
   "execution_count": 71,
   "id": "29fbfefe",
   "metadata": {},
   "outputs": [
    {
     "data": {
      "text/plain": [
       "white     71331\n",
       "black     57642\n",
       "silver    39413\n",
       "blue      28983\n",
       "red       28377\n",
       "grey      22339\n",
       "green      6927\n",
       "custom     6231\n",
       "brown      6139\n",
       "yellow     1963\n",
       "orange     1825\n",
       "purple      659\n",
       "Name: paint_color, dtype: int64"
      ]
     },
     "execution_count": 71,
     "metadata": {},
     "output_type": "execute_result"
    }
   ],
   "source": [
    "data['paint_color'].value_counts()"
   ]
  },
  {
   "cell_type": "code",
   "execution_count": 72,
   "id": "c1e9b43b",
   "metadata": {},
   "outputs": [
    {
     "data": {
      "text/plain": [
       "paint_color\n",
       "white     19995.0\n",
       "black     18990.0\n",
       "orange    18590.0\n",
       "red       16502.0\n",
       "yellow    15500.0\n",
       "blue      13988.0\n",
       "silver    13500.0\n",
       "custom    12985.0\n",
       "brown     12000.0\n",
       "grey      11765.0\n",
       "purple     9995.0\n",
       "green      8991.0\n",
       "Name: price, dtype: float64"
      ]
     },
     "execution_count": 72,
     "metadata": {},
     "output_type": "execute_result"
    }
   ],
   "source": [
    "data.groupby('paint_color')['price'].median().sort_values(ascending=False)"
   ]
  },
  {
   "cell_type": "code",
   "execution_count": 73,
   "id": "82d0e42c",
   "metadata": {},
   "outputs": [
    {
     "data": {
      "text/plain": [
       "18813.21417109486"
      ]
     },
     "execution_count": 73,
     "metadata": {},
     "output_type": "execute_result"
    }
   ],
   "source": [
    "data[data['paint_color'].isna()]['price'].mean()"
   ]
  },
  {
   "cell_type": "markdown",
   "id": "a14fb448",
   "metadata": {},
   "source": [
    "Možemo vidjeti da je prosječna cijena vozila kojima nedostaje oznaka boje najbliža prosječnoj cijeni crnih, bijelih i narančastih vozila. Također, crnih i bijelih vozila je daleko najviše. Kako se razlike u cijenama ne čine prevelikima, sve ćemo podatke kojima nedostaje oznaka boje označiti kao crne."
   ]
  },
  {
   "cell_type": "code",
   "execution_count": 74,
   "id": "74733530",
   "metadata": {},
   "outputs": [],
   "source": [
    "data['paint_color'].fillna('black', inplace=True)"
   ]
  },
  {
   "cell_type": "markdown",
   "id": "ac6db307",
   "metadata": {},
   "source": [
    "## Type"
   ]
  },
  {
   "cell_type": "code",
   "execution_count": 75,
   "id": "fa041942",
   "metadata": {},
   "outputs": [
    {
     "data": {
      "text/plain": [
       "45375"
      ]
     },
     "execution_count": 75,
     "metadata": {},
     "output_type": "execute_result"
    }
   ],
   "source": [
    "data['type'].isna().sum()"
   ]
  },
  {
   "cell_type": "markdown",
   "id": "2426733b",
   "metadata": {},
   "source": [
    "Pogledajmo kako je distribuirana značajka type."
   ]
  },
  {
   "cell_type": "code",
   "execution_count": 76,
   "id": "4d6fefcc",
   "metadata": {},
   "outputs": [
    {
     "data": {
      "text/plain": [
       "sedan          78664\n",
       "SUV            69243\n",
       "pickup         40525\n",
       "truck          30276\n",
       "other          19699\n",
       "coupe          17814\n",
       "hatchback      15764\n",
       "wagon           9844\n",
       "van             7797\n",
       "convertible     7288\n",
       "mini-van        4501\n",
       "offroad          580\n",
       "bus              487\n",
       "Name: type, dtype: int64"
      ]
     },
     "execution_count": 76,
     "metadata": {},
     "output_type": "execute_result"
    }
   ],
   "source": [
    "data['type'].value_counts()"
   ]
  },
  {
   "cell_type": "markdown",
   "id": "6b5ff9fb",
   "metadata": {},
   "source": [
    "Prikazat ćemo grafički ovisnost cijene o tipu automobila kao ranije."
   ]
  },
  {
   "cell_type": "code",
   "execution_count": 77,
   "id": "044753ee",
   "metadata": {},
   "outputs": [
    {
     "data": {
      "text/plain": [
       "<Axes: xlabel='price', ylabel='type'>"
      ]
     },
     "execution_count": 77,
     "metadata": {},
     "output_type": "execute_result"
    },
    {
     "data": {
      "image/png": "[encoded data removed]",
      "text/plain": [
       "<Figure size 640x480 with 1 Axes>"
      ]
     },
     "metadata": {},
     "output_type": "display_data"
    }
   ],
   "source": [
    "bound=data['price'].quantile(0.99)\n",
    "under_bound=data[data['price']<bound]\n",
    "seaborn.boxplot(x=under_bound['price'], y=under_bound['type'], fliersize=0)"
   ]
  },
  {
   "cell_type": "markdown",
   "id": "045794f0",
   "metadata": {},
   "source": [
    "Primijetimo da se vrijednosti značajno razlikuju po tipu auta, kako u raspršenosti vrijednosti a kako u srednjim vrijednostima. Da se naslutiti da cijena ovisi o tipu vozila. Primijetimo također da vozila tipa \"offroad\" i \"bus\" ima daleko najmanje. Ove podatke nećemo zanemariti ili izbrisati jer su legitimni unosi. Također, prirodno je očekivati takvu neravnotežu u broju unosa u odnosu na npr. \"sedan\", \"pickup\" i ostale i sastavni su dio problema. Nećemo ih niti svrstati u posebnu skupinu jer se po prirodi te vrijednosti dosta razlikuju. Nećemo ih niti svrstati u tip \"other\" jer se po srednjim vrijednostima dosta razlikuju od te skupine."
   ]
  },
  {
   "cell_type": "code",
   "execution_count": 78,
   "id": "b9e9d895",
   "metadata": {},
   "outputs": [
    {
     "data": {
      "text/plain": [
       "11000.0"
      ]
     },
     "execution_count": 78,
     "metadata": {},
     "output_type": "execute_result"
    }
   ],
   "source": [
    "data[data['type'].isna()]['price'].median()"
   ]
  },
  {
   "cell_type": "code",
   "execution_count": 79,
   "id": "a6b97bc4",
   "metadata": {},
   "outputs": [
    {
     "data": {
      "text/plain": [
       "type\n",
       "pickup         27998.0\n",
       "other          27990.0\n",
       "truck          25000.0\n",
       "coupe          19999.0\n",
       "van            16406.0\n",
       "convertible    15995.0\n",
       "SUV            14900.0\n",
       "hatchback      14590.0\n",
       "wagon          12995.0\n",
       "offroad        12947.5\n",
       "bus            11800.0\n",
       "sedan          10999.0\n",
       "mini-van        7495.0\n",
       "Name: price, dtype: float64"
      ]
     },
     "execution_count": 79,
     "metadata": {},
     "output_type": "execute_result"
    }
   ],
   "source": [
    "data.groupby('type')['price'].median().sort_values(ascending=False)"
   ]
  },
  {
   "cell_type": "markdown",
   "id": "0e6dd403",
   "metadata": {},
   "source": [
    "Dakle, prosječna cijena vozila kojima nedostaje oznaka tipa je najbliža onima s oznakom 'sedan', a kako je njih i najviše, imputing ćemo napraviti s oznakom 'sedan'."
   ]
  },
  {
   "cell_type": "code",
   "execution_count": 80,
   "id": "db4b09aa",
   "metadata": {},
   "outputs": [],
   "source": [
    "data['type'].fillna('sedan', inplace=True)"
   ]
  },
  {
   "cell_type": "markdown",
   "id": "f5ecbd7d",
   "metadata": {},
   "source": [
    "## Drive"
   ]
  },
  {
   "cell_type": "markdown",
   "id": "5d9a6cf6",
   "metadata": {},
   "source": [
    "Ponovimo isti postupak kao prije."
   ]
  },
  {
   "cell_type": "code",
   "execution_count": 81,
   "id": "90369140",
   "metadata": {},
   "outputs": [
    {
     "data": {
      "text/plain": [
       "79778"
      ]
     },
     "execution_count": 81,
     "metadata": {},
     "output_type": "execute_result"
    }
   ],
   "source": [
    "data['drive'].isna().sum()"
   ]
  },
  {
   "cell_type": "code",
   "execution_count": 82,
   "id": "cd7bb7c2",
   "metadata": {},
   "outputs": [
    {
     "data": {
      "text/plain": [
       "4wd    117902\n",
       "fwd     96013\n",
       "rwd     54164\n",
       "Name: drive, dtype: int64"
      ]
     },
     "execution_count": 82,
     "metadata": {},
     "output_type": "execute_result"
    }
   ],
   "source": [
    "data['drive'].value_counts()"
   ]
  },
  {
   "cell_type": "code",
   "execution_count": 83,
   "id": "399a2168",
   "metadata": {},
   "outputs": [
    {
     "data": {
      "text/plain": [
       "<Axes: xlabel='price', ylabel='drive'>"
      ]
     },
     "execution_count": 83,
     "metadata": {},
     "output_type": "execute_result"
    },
    {
     "data": {
      "image/png": "[encoded data removed]",
      "text/plain": [
       "<Figure size 640x480 with 1 Axes>"
      ]
     },
     "metadata": {},
     "output_type": "display_data"
    }
   ],
   "source": [
    "bound=data['price'].quantile(0.99)\n",
    "under_bound=data[data['price']<bound]\n",
    "seaborn.boxplot(x=under_bound['price'], y=under_bound['drive'], fliersize=0)"
   ]
  },
  {
   "cell_type": "code",
   "execution_count": 84,
   "id": "ade2115d",
   "metadata": {},
   "outputs": [
    {
     "data": {
      "text/plain": [
       "17995.0"
      ]
     },
     "execution_count": 84,
     "metadata": {},
     "output_type": "execute_result"
    }
   ],
   "source": [
    "data[data['drive'].isna()]['price'].median()"
   ]
  },
  {
   "cell_type": "code",
   "execution_count": 85,
   "id": "94086f31",
   "metadata": {},
   "outputs": [
    {
     "data": {
      "text/plain": [
       "drive\n",
       "4wd    20495.0\n",
       "rwd    18995.0\n",
       "fwd    10350.0\n",
       "Name: price, dtype: float64"
      ]
     },
     "execution_count": 85,
     "metadata": {},
     "output_type": "execute_result"
    }
   ],
   "source": [
    "data.groupby('drive')['price'].median().sort_values(ascending=False)"
   ]
  },
  {
   "cell_type": "markdown",
   "id": "a304a881",
   "metadata": {},
   "source": [
    "S boxplota se vidi jasna ovisnost cijene o pogonu vozila. Median cijene vozila bez oznake 'drive' je najbliži 'rwd' pa '4wd', ali kako je '4wd' vozila daleko više, imputing ćemo napraviti s '4wd'."
   ]
  },
  {
   "cell_type": "code",
   "execution_count": 86,
   "id": "1bbf2cb7",
   "metadata": {},
   "outputs": [],
   "source": [
    "data['drive'].fillna('4wd', inplace=True)"
   ]
  },
  {
   "cell_type": "markdown",
   "id": "5adc5c93",
   "metadata": {},
   "source": [
    "## Cylinders"
   ]
  },
  {
   "cell_type": "code",
   "execution_count": 87,
   "id": "9cd6900d",
   "metadata": {},
   "outputs": [
    {
     "data": {
      "text/plain": [
       "118688"
      ]
     },
     "execution_count": 87,
     "metadata": {},
     "output_type": "execute_result"
    }
   ],
   "source": [
    "data['cylinders'].isna().sum()"
   ]
  },
  {
   "cell_type": "code",
   "execution_count": 88,
   "id": "f1d7e7a4",
   "metadata": {},
   "outputs": [
    {
     "data": {
      "text/plain": [
       "6 cylinders     87198\n",
       "4 cylinders     71862\n",
       "8 cylinders     65494\n",
       "5 cylinders      1646\n",
       "10 cylinders     1152\n",
       "other            1033\n",
       "3 cylinders       590\n",
       "12 cylinders      194\n",
       "Name: cylinders, dtype: int64"
      ]
     },
     "execution_count": 88,
     "metadata": {},
     "output_type": "execute_result"
    }
   ],
   "source": [
    "data['cylinders'].value_counts()"
   ]
  },
  {
   "cell_type": "code",
   "execution_count": 89,
   "id": "3c37666b",
   "metadata": {},
   "outputs": [
    {
     "data": {
      "text/plain": [
       "<Axes: xlabel='price', ylabel='cylinders'>"
      ]
     },
     "execution_count": 89,
     "metadata": {},
     "output_type": "execute_result"
    },
    {
     "data": {
      "image/png": "[encoded data removed]",
      "text/plain": [
       "<Figure size 640x480 with 1 Axes>"
      ]
     },
     "metadata": {},
     "output_type": "display_data"
    }
   ],
   "source": [
    "bound=data['price'].quantile(0.99)\n",
    "under_bound=data[data['price']<bound]\n",
    "seaborn.boxplot(x=under_bound['price'], y=under_bound['cylinders'], fliersize=0)"
   ]
  },
  {
   "cell_type": "code",
   "execution_count": 90,
   "id": "238a48b2",
   "metadata": {},
   "outputs": [
    {
     "data": {
      "text/plain": [
       "19995.0"
      ]
     },
     "execution_count": 90,
     "metadata": {},
     "output_type": "execute_result"
    }
   ],
   "source": [
    "data[data['cylinders'].isna()]['price'].median()"
   ]
  },
  {
   "cell_type": "code",
   "execution_count": 91,
   "id": "21f1e93e",
   "metadata": {},
   "outputs": [
    {
     "data": {
      "text/plain": [
       "cylinders\n",
       "12 cylinders    29500.0\n",
       "10 cylinders    20997.5\n",
       "8 cylinders     20995.0\n",
       "6 cylinders     15041.0\n",
       "other           14900.0\n",
       "3 cylinders     10122.0\n",
       "4 cylinders      8995.0\n",
       "5 cylinders      6499.0\n",
       "Name: price, dtype: float64"
      ]
     },
     "execution_count": 91,
     "metadata": {},
     "output_type": "execute_result"
    }
   ],
   "source": [
    "data.groupby('cylinders')['price'].median().sort_values(ascending=False)"
   ]
  },
  {
   "cell_type": "markdown",
   "id": "c2915c3c",
   "metadata": {},
   "source": [
    "Median cijene je najbliži onima s 8 ili 10 cilindara, no kako je onih s 8 cilindara daleko više, tako ćemo i imputati. Ipak, kako je imputanih vrijednosti jako mnogo, oko trećina svih vrijednosti, a razlike u boxplotovima za različite oznake su velike, napravit ćemo indikator koji signalizira da je vrijednost ove značajke imputana, što će modelu za predikciju dati više informacija."
   ]
  },
  {
   "cell_type": "code",
   "execution_count": 92,
   "id": "5fe94e65",
   "metadata": {},
   "outputs": [],
   "source": [
    "imputer=SimpleImputer(missing_values= np.NaN, strategy='constant', fill_value='8 cylinders', add_indicator=True)\n",
    "data.cylinders = imputer.fit_transform(data['cylinders'].values.reshape(-1,1))[:,0]"
   ]
  },
  {
   "cell_type": "code",
   "execution_count": 93,
   "id": "c19e22d3",
   "metadata": {},
   "outputs": [
    {
     "data": {
      "text/plain": [
       "8 cylinders     184182\n",
       "6 cylinders      87198\n",
       "4 cylinders      71862\n",
       "5 cylinders       1646\n",
       "10 cylinders      1152\n",
       "other             1033\n",
       "3 cylinders        590\n",
       "12 cylinders       194\n",
       "Name: cylinders, dtype: int64"
      ]
     },
     "execution_count": 93,
     "metadata": {},
     "output_type": "execute_result"
    }
   ],
   "source": [
    "data['cylinders'].value_counts()"
   ]
  },
  {
   "cell_type": "markdown",
   "id": "bd2f7d2d",
   "metadata": {},
   "source": [
    "## Condition"
   ]
  },
  {
   "cell_type": "code",
   "execution_count": 94,
   "id": "578e7a7a",
   "metadata": {},
   "outputs": [
    {
     "data": {
      "text/plain": [
       "109568"
      ]
     },
     "execution_count": 94,
     "metadata": {},
     "output_type": "execute_result"
    }
   ],
   "source": [
    "data['condition'].isna().sum()"
   ]
  },
  {
   "cell_type": "code",
   "execution_count": 95,
   "id": "c884dde1",
   "metadata": {},
   "outputs": [
    {
     "data": {
      "text/plain": [
       "good         118244\n",
       "excellent     92194\n",
       "like new      19740\n",
       "fair           6516\n",
       "new            1041\n",
       "salvage         554\n",
       "Name: condition, dtype: int64"
      ]
     },
     "execution_count": 95,
     "metadata": {},
     "output_type": "execute_result"
    }
   ],
   "source": [
    "data['condition'].value_counts()"
   ]
  },
  {
   "cell_type": "code",
   "execution_count": 96,
   "id": "a5938fee",
   "metadata": {},
   "outputs": [
    {
     "data": {
      "text/plain": [
       "<Axes: xlabel='price', ylabel='condition'>"
      ]
     },
     "execution_count": 96,
     "metadata": {},
     "output_type": "execute_result"
    },
    {
     "data": {
      "image/png": "[encoded data removed]",
      "text/plain": [
       "<Figure size 640x480 with 1 Axes>"
      ]
     },
     "metadata": {},
     "output_type": "display_data"
    }
   ],
   "source": [
    "bound=data['price'].quantile(0.99)\n",
    "under_bound=data[data['price']<bound]\n",
    "seaborn.boxplot(x=under_bound['price'], y=under_bound['condition'], fliersize=0)"
   ]
  },
  {
   "cell_type": "code",
   "execution_count": 97,
   "id": "a8d44abe",
   "metadata": {},
   "outputs": [
    {
     "data": {
      "text/plain": [
       "17900.0"
      ]
     },
     "execution_count": 97,
     "metadata": {},
     "output_type": "execute_result"
    }
   ],
   "source": [
    "data[data['condition'].isna()]['price'].median()"
   ]
  },
  {
   "cell_type": "code",
   "execution_count": 98,
   "id": "dec1e207",
   "metadata": {},
   "outputs": [
    {
     "data": {
      "text/plain": [
       "condition\n",
       "new          22500.0\n",
       "good         20990.0\n",
       "like new     14988.0\n",
       "excellent    11995.0\n",
       "fair          2800.0\n",
       "salvage       2000.0\n",
       "Name: price, dtype: float64"
      ]
     },
     "execution_count": 98,
     "metadata": {},
     "output_type": "execute_result"
    }
   ],
   "source": [
    "data.groupby('condition')['price'].median().sort_values(ascending=False)"
   ]
  },
  {
   "cell_type": "markdown",
   "id": "d9731963",
   "metadata": {},
   "source": [
    "Iz boxplota možemo zaključiti da 'condition' utječe na cijenu vozila, kao što je i za očekviati. Prosječna cijena automobila kojima nedostaje oznaka 'condition' je najbliža prosječnoj cijeni automobila koji su 'good' i 'like new'. Ipak, u ovom slučaju (pogotovo zbog broja vrijednosi koje treba imputati), nećemo imputati vrijednost 'good' umjesto NaN, nego ćemo sve unose s oznakom NaN označiti kao 'missing', tj. skupit ćemo ih u posebnu skupinu. Condition se prirodno čini kao jako važna varijabla u procjeni cijene, a činjenica da ta informacija nije dana je također informacija sama po sebi (pri kupnji automobila s oglasa koji ne navodi stanje u kojem je automobil, bili bismo posebno oprezni)."
   ]
  },
  {
   "cell_type": "code",
   "execution_count": 99,
   "id": "ed18a71e",
   "metadata": {},
   "outputs": [
    {
     "name": "stderr",
     "output_type": "stream",
     "text": [
      "C:\\Users\\ivani\\AppData\\Local\\Temp\\ipykernel_20260\\2557754758.py:1: SettingWithCopyWarning: \n",
      "A value is trying to be set on a copy of a slice from a DataFrame.\n",
      "Try using .loc[row_indexer,col_indexer] = value instead\n",
      "\n",
      "See the caveats in the documentation: https://pandas.pydata.org/pandas-docs/stable/user_guide/indexing.html#returning-a-view-versus-a-copy\n",
      "  data[data['condition'].isna()]['condition']='missing'\n"
     ]
    }
   ],
   "source": [
    "data[data['condition'].isna()]['condition']='missing'\n",
    "data.loc[data['condition'].isna(), ['condition']] = 'missing'"
   ]
  },
  {
   "cell_type": "code",
   "execution_count": 100,
   "id": "6a713d6f",
   "metadata": {},
   "outputs": [
    {
     "data": {
      "text/plain": [
       "good         118244\n",
       "missing      109568\n",
       "excellent     92194\n",
       "like new      19740\n",
       "fair           6516\n",
       "new            1041\n",
       "salvage         554\n",
       "Name: condition, dtype: int64"
      ]
     },
     "execution_count": 100,
     "metadata": {},
     "output_type": "execute_result"
    }
   ],
   "source": [
    "data['condition'].value_counts()"
   ]
  },
  {
   "cell_type": "markdown",
   "id": "4b03ea6c",
   "metadata": {},
   "source": [
    "## Kreiranje nove značajke"
   ]
  },
  {
   "cell_type": "markdown",
   "id": "57482eb3",
   "metadata": {},
   "source": [
    "Kako bismo potencijalno dobili neke nove informacije koje ne možemo dobiti iz trenutnih značajki, kreirajmo novu značajku koja će predstavljati prosječne pređene kilometre po godini. Dobit ćemo ju tako da ćemo podijeliti vrijednost u značajki 'odometer' sa starošću automobila (gledano u odnosu na 2023). Tek u tom svjetlu značajka odometer trebala bi dati pravu informaciju tj jasno je da će jednaka kilometraža za novo auto značiti nešto drugo nego za starije auto."
   ]
  },
  {
   "cell_type": "code",
   "execution_count": 101,
   "id": "e59d1334",
   "metadata": {},
   "outputs": [],
   "source": [
    "data['average']=data['odometer']/(2023-data['year'])"
   ]
  },
  {
   "cell_type": "markdown",
   "id": "37250559",
   "metadata": {},
   "source": [
    "## Brisanje duplikata"
   ]
  },
  {
   "cell_type": "code",
   "execution_count": 102,
   "id": "76ad00ca",
   "metadata": {},
   "outputs": [
    {
     "data": {
      "text/html": [
       "<div>\n",
       "<style scoped>\n",
       "    .dataframe tbody tr th:only-of-type {\n",
       "        vertical-align: middle;\n",
       "    }\n",
       "\n",
       "    .dataframe tbody tr th {\n",
       "        vertical-align: top;\n",
       "    }\n",
       "\n",
       "    .dataframe thead th {\n",
       "        text-align: right;\n",
       "    }\n",
       "</style>\n",
       "<table border=\"1\" class=\"dataframe\">\n",
       "  <thead>\n",
       "    <tr style=\"text-align: right;\">\n",
       "      <th></th>\n",
       "      <th>price</th>\n",
       "      <th>year</th>\n",
       "      <th>manufacturer</th>\n",
       "      <th>condition</th>\n",
       "      <th>cylinders</th>\n",
       "      <th>fuel</th>\n",
       "      <th>odometer</th>\n",
       "      <th>title_status</th>\n",
       "      <th>transmission</th>\n",
       "      <th>drive</th>\n",
       "      <th>type</th>\n",
       "      <th>paint_color</th>\n",
       "      <th>state</th>\n",
       "      <th>average</th>\n",
       "      <th>size</th>\n",
       "    </tr>\n",
       "  </thead>\n",
       "  <tbody>\n",
       "    <tr>\n",
       "      <th>185940</th>\n",
       "      <td>25998</td>\n",
       "      <td>2019.0</td>\n",
       "      <td>toyota</td>\n",
       "      <td>missing</td>\n",
       "      <td>8 cylinders</td>\n",
       "      <td>gas</td>\n",
       "      <td>27056.0</td>\n",
       "      <td>clean</td>\n",
       "      <td>automatic</td>\n",
       "      <td>fwd</td>\n",
       "      <td>sedan</td>\n",
       "      <td>black</td>\n",
       "      <td>mt</td>\n",
       "      <td>6764.000000</td>\n",
       "      <td>31</td>\n",
       "    </tr>\n",
       "    <tr>\n",
       "      <th>92845</th>\n",
       "      <td>9998</td>\n",
       "      <td>2010.0</td>\n",
       "      <td>subaru</td>\n",
       "      <td>missing</td>\n",
       "      <td>6 cylinders</td>\n",
       "      <td>gas</td>\n",
       "      <td>154817.0</td>\n",
       "      <td>clean</td>\n",
       "      <td>automatic</td>\n",
       "      <td>4wd</td>\n",
       "      <td>wagon</td>\n",
       "      <td>black</td>\n",
       "      <td>mt</td>\n",
       "      <td>11909.000000</td>\n",
       "      <td>30</td>\n",
       "    </tr>\n",
       "    <tr>\n",
       "      <th>201816</th>\n",
       "      <td>29998</td>\n",
       "      <td>1995.0</td>\n",
       "      <td>jeep</td>\n",
       "      <td>missing</td>\n",
       "      <td>8 cylinders</td>\n",
       "      <td>gas</td>\n",
       "      <td>100.0</td>\n",
       "      <td>clean</td>\n",
       "      <td>automatic</td>\n",
       "      <td>4wd</td>\n",
       "      <td>sedan</td>\n",
       "      <td>black</td>\n",
       "      <td>mt</td>\n",
       "      <td>3.571429</td>\n",
       "      <td>29</td>\n",
       "    </tr>\n",
       "    <tr>\n",
       "      <th>107258</th>\n",
       "      <td>11998</td>\n",
       "      <td>2007.0</td>\n",
       "      <td>lexus</td>\n",
       "      <td>missing</td>\n",
       "      <td>8 cylinders</td>\n",
       "      <td>gas</td>\n",
       "      <td>169194.0</td>\n",
       "      <td>clean</td>\n",
       "      <td>automatic</td>\n",
       "      <td>rwd</td>\n",
       "      <td>sedan</td>\n",
       "      <td>black</td>\n",
       "      <td>mt</td>\n",
       "      <td>10574.625000</td>\n",
       "      <td>29</td>\n",
       "    </tr>\n",
       "    <tr>\n",
       "      <th>168651</th>\n",
       "      <td>21998</td>\n",
       "      <td>2019.0</td>\n",
       "      <td>chevrolet</td>\n",
       "      <td>missing</td>\n",
       "      <td>4 cylinders</td>\n",
       "      <td>gas</td>\n",
       "      <td>13494.0</td>\n",
       "      <td>clean</td>\n",
       "      <td>automatic</td>\n",
       "      <td>fwd</td>\n",
       "      <td>sedan</td>\n",
       "      <td>black</td>\n",
       "      <td>mt</td>\n",
       "      <td>3373.500000</td>\n",
       "      <td>29</td>\n",
       "    </tr>\n",
       "    <tr>\n",
       "      <th>...</th>\n",
       "      <td>...</td>\n",
       "      <td>...</td>\n",
       "      <td>...</td>\n",
       "      <td>...</td>\n",
       "      <td>...</td>\n",
       "      <td>...</td>\n",
       "      <td>...</td>\n",
       "      <td>...</td>\n",
       "      <td>...</td>\n",
       "      <td>...</td>\n",
       "      <td>...</td>\n",
       "      <td>...</td>\n",
       "      <td>...</td>\n",
       "      <td>...</td>\n",
       "      <td>...</td>\n",
       "    </tr>\n",
       "    <tr>\n",
       "      <th>86899</th>\n",
       "      <td>9500</td>\n",
       "      <td>1992.0</td>\n",
       "      <td>buick</td>\n",
       "      <td>excellent</td>\n",
       "      <td>6 cylinders</td>\n",
       "      <td>gas</td>\n",
       "      <td>40135.0</td>\n",
       "      <td>clean</td>\n",
       "      <td>automatic</td>\n",
       "      <td>4wd</td>\n",
       "      <td>sedan</td>\n",
       "      <td>blue</td>\n",
       "      <td>wi</td>\n",
       "      <td>1294.677419</td>\n",
       "      <td>1</td>\n",
       "    </tr>\n",
       "    <tr>\n",
       "      <th>86900</th>\n",
       "      <td>9500</td>\n",
       "      <td>1992.0</td>\n",
       "      <td>cadillac</td>\n",
       "      <td>excellent</td>\n",
       "      <td>8 cylinders</td>\n",
       "      <td>gas</td>\n",
       "      <td>57250.0</td>\n",
       "      <td>clean</td>\n",
       "      <td>automatic</td>\n",
       "      <td>4wd</td>\n",
       "      <td>sedan</td>\n",
       "      <td>black</td>\n",
       "      <td>ny</td>\n",
       "      <td>1846.774194</td>\n",
       "      <td>1</td>\n",
       "    </tr>\n",
       "    <tr>\n",
       "      <th>86901</th>\n",
       "      <td>9500</td>\n",
       "      <td>1992.0</td>\n",
       "      <td>chevrolet</td>\n",
       "      <td>excellent</td>\n",
       "      <td>8 cylinders</td>\n",
       "      <td>gas</td>\n",
       "      <td>50000.0</td>\n",
       "      <td>rebuilt</td>\n",
       "      <td>manual</td>\n",
       "      <td>rwd</td>\n",
       "      <td>truck</td>\n",
       "      <td>blue</td>\n",
       "      <td>wv</td>\n",
       "      <td>1612.903226</td>\n",
       "      <td>1</td>\n",
       "    </tr>\n",
       "    <tr>\n",
       "      <th>86902</th>\n",
       "      <td>9500</td>\n",
       "      <td>1992.0</td>\n",
       "      <td>chevrolet</td>\n",
       "      <td>excellent</td>\n",
       "      <td>8 cylinders</td>\n",
       "      <td>gas</td>\n",
       "      <td>58600.0</td>\n",
       "      <td>clean</td>\n",
       "      <td>automatic</td>\n",
       "      <td>4wd</td>\n",
       "      <td>sedan</td>\n",
       "      <td>black</td>\n",
       "      <td>fl</td>\n",
       "      <td>1890.322581</td>\n",
       "      <td>1</td>\n",
       "    </tr>\n",
       "    <tr>\n",
       "      <th>246030</th>\n",
       "      <td>349999</td>\n",
       "      <td>2020.0</td>\n",
       "      <td>ferrari</td>\n",
       "      <td>excellent</td>\n",
       "      <td>8 cylinders</td>\n",
       "      <td>gas</td>\n",
       "      <td>2800.0</td>\n",
       "      <td>clean</td>\n",
       "      <td>automatic</td>\n",
       "      <td>4wd</td>\n",
       "      <td>coupe</td>\n",
       "      <td>black</td>\n",
       "      <td>ca</td>\n",
       "      <td>933.333333</td>\n",
       "      <td>1</td>\n",
       "    </tr>\n",
       "  </tbody>\n",
       "</table>\n",
       "<p>246031 rows × 15 columns</p>\n",
       "</div>"
      ],
      "text/plain": [
       "         price    year manufacturer  condition    cylinders fuel  odometer  \\\n",
       "185940   25998  2019.0       toyota    missing  8 cylinders  gas   27056.0   \n",
       "92845     9998  2010.0       subaru    missing  6 cylinders  gas  154817.0   \n",
       "201816   29998  1995.0         jeep    missing  8 cylinders  gas     100.0   \n",
       "107258   11998  2007.0        lexus    missing  8 cylinders  gas  169194.0   \n",
       "168651   21998  2019.0    chevrolet    missing  4 cylinders  gas   13494.0   \n",
       "...        ...     ...          ...        ...          ...  ...       ...   \n",
       "86899     9500  1992.0        buick  excellent  6 cylinders  gas   40135.0   \n",
       "86900     9500  1992.0     cadillac  excellent  8 cylinders  gas   57250.0   \n",
       "86901     9500  1992.0    chevrolet  excellent  8 cylinders  gas   50000.0   \n",
       "86902     9500  1992.0    chevrolet  excellent  8 cylinders  gas   58600.0   \n",
       "246030  349999  2020.0      ferrari  excellent  8 cylinders  gas    2800.0   \n",
       "\n",
       "       title_status transmission drive   type paint_color state       average  \\\n",
       "185940        clean    automatic   fwd  sedan       black    mt   6764.000000   \n",
       "92845         clean    automatic   4wd  wagon       black    mt  11909.000000   \n",
       "201816        clean    automatic   4wd  sedan       black    mt      3.571429   \n",
       "107258        clean    automatic   rwd  sedan       black    mt  10574.625000   \n",
       "168651        clean    automatic   fwd  sedan       black    mt   3373.500000   \n",
       "...             ...          ...   ...    ...         ...   ...           ...   \n",
       "86899         clean    automatic   4wd  sedan        blue    wi   1294.677419   \n",
       "86900         clean    automatic   4wd  sedan       black    ny   1846.774194   \n",
       "86901       rebuilt       manual   rwd  truck        blue    wv   1612.903226   \n",
       "86902         clean    automatic   4wd  sedan       black    fl   1890.322581   \n",
       "246030        clean    automatic   4wd  coupe       black    ca    933.333333   \n",
       "\n",
       "        size  \n",
       "185940    31  \n",
       "92845     30  \n",
       "201816    29  \n",
       "107258    29  \n",
       "168651    29  \n",
       "...      ...  \n",
       "86899      1  \n",
       "86900      1  \n",
       "86901      1  \n",
       "86902      1  \n",
       "246030     1  \n",
       "\n",
       "[246031 rows x 15 columns]"
      ]
     },
     "execution_count": 102,
     "metadata": {},
     "output_type": "execute_result"
    }
   ],
   "source": [
    "data.groupby(data.columns.tolist(), as_index=False).size().sort_values(by='size', ascending=False)"
   ]
  },
  {
   "cell_type": "code",
   "execution_count": 103,
   "id": "666e3b56",
   "metadata": {
    "scrolled": false
   },
   "outputs": [
    {
     "data": {
      "text/html": [
       "<div>\n",
       "<style scoped>\n",
       "    .dataframe tbody tr th:only-of-type {\n",
       "        vertical-align: middle;\n",
       "    }\n",
       "\n",
       "    .dataframe tbody tr th {\n",
       "        vertical-align: top;\n",
       "    }\n",
       "\n",
       "    .dataframe thead th {\n",
       "        text-align: right;\n",
       "    }\n",
       "</style>\n",
       "<table border=\"1\" class=\"dataframe\">\n",
       "  <thead>\n",
       "    <tr style=\"text-align: right;\">\n",
       "      <th></th>\n",
       "      <th>price</th>\n",
       "      <th>year</th>\n",
       "      <th>manufacturer</th>\n",
       "      <th>condition</th>\n",
       "      <th>cylinders</th>\n",
       "      <th>fuel</th>\n",
       "      <th>odometer</th>\n",
       "      <th>title_status</th>\n",
       "      <th>transmission</th>\n",
       "      <th>drive</th>\n",
       "      <th>type</th>\n",
       "      <th>paint_color</th>\n",
       "      <th>state</th>\n",
       "      <th>average</th>\n",
       "    </tr>\n",
       "  </thead>\n",
       "  <tbody>\n",
       "    <tr>\n",
       "      <th>188</th>\n",
       "      <td>39590</td>\n",
       "      <td>2020.0</td>\n",
       "      <td>chevrolet</td>\n",
       "      <td>good</td>\n",
       "      <td>8 cylinders</td>\n",
       "      <td>gas</td>\n",
       "      <td>19160.0</td>\n",
       "      <td>clean</td>\n",
       "      <td>other</td>\n",
       "      <td>4wd</td>\n",
       "      <td>pickup</td>\n",
       "      <td>red</td>\n",
       "      <td>al</td>\n",
       "      <td>6386.666667</td>\n",
       "    </tr>\n",
       "    <tr>\n",
       "      <th>221</th>\n",
       "      <td>33590</td>\n",
       "      <td>2014.0</td>\n",
       "      <td>gmc</td>\n",
       "      <td>good</td>\n",
       "      <td>8 cylinders</td>\n",
       "      <td>gas</td>\n",
       "      <td>57923.0</td>\n",
       "      <td>clean</td>\n",
       "      <td>other</td>\n",
       "      <td>4wd</td>\n",
       "      <td>pickup</td>\n",
       "      <td>white</td>\n",
       "      <td>al</td>\n",
       "      <td>6435.888889</td>\n",
       "    </tr>\n",
       "    <tr>\n",
       "      <th>230</th>\n",
       "      <td>27990</td>\n",
       "      <td>2012.0</td>\n",
       "      <td>gmc</td>\n",
       "      <td>good</td>\n",
       "      <td>8 cylinders</td>\n",
       "      <td>gas</td>\n",
       "      <td>68696.0</td>\n",
       "      <td>clean</td>\n",
       "      <td>other</td>\n",
       "      <td>4wd</td>\n",
       "      <td>pickup</td>\n",
       "      <td>black</td>\n",
       "      <td>al</td>\n",
       "      <td>6245.090909</td>\n",
       "    </tr>\n",
       "    <tr>\n",
       "      <th>251</th>\n",
       "      <td>29990</td>\n",
       "      <td>2016.0</td>\n",
       "      <td>chevrolet</td>\n",
       "      <td>good</td>\n",
       "      <td>6 cylinders</td>\n",
       "      <td>gas</td>\n",
       "      <td>17302.0</td>\n",
       "      <td>clean</td>\n",
       "      <td>other</td>\n",
       "      <td>4wd</td>\n",
       "      <td>pickup</td>\n",
       "      <td>red</td>\n",
       "      <td>al</td>\n",
       "      <td>2471.714286</td>\n",
       "    </tr>\n",
       "    <tr>\n",
       "      <th>284</th>\n",
       "      <td>27990</td>\n",
       "      <td>2014.0</td>\n",
       "      <td>toyota</td>\n",
       "      <td>good</td>\n",
       "      <td>8 cylinders</td>\n",
       "      <td>other</td>\n",
       "      <td>17805.0</td>\n",
       "      <td>clean</td>\n",
       "      <td>other</td>\n",
       "      <td>4wd</td>\n",
       "      <td>pickup</td>\n",
       "      <td>red</td>\n",
       "      <td>al</td>\n",
       "      <td>1978.333333</td>\n",
       "    </tr>\n",
       "    <tr>\n",
       "      <th>...</th>\n",
       "      <td>...</td>\n",
       "      <td>...</td>\n",
       "      <td>...</td>\n",
       "      <td>...</td>\n",
       "      <td>...</td>\n",
       "      <td>...</td>\n",
       "      <td>...</td>\n",
       "      <td>...</td>\n",
       "      <td>...</td>\n",
       "      <td>...</td>\n",
       "      <td>...</td>\n",
       "      <td>...</td>\n",
       "      <td>...</td>\n",
       "      <td>...</td>\n",
       "    </tr>\n",
       "    <tr>\n",
       "      <th>426844</th>\n",
       "      <td>13977</td>\n",
       "      <td>2014.0</td>\n",
       "      <td>ford</td>\n",
       "      <td>missing</td>\n",
       "      <td>8 cylinders</td>\n",
       "      <td>gas</td>\n",
       "      <td>112061.0</td>\n",
       "      <td>clean</td>\n",
       "      <td>automatic</td>\n",
       "      <td>4wd</td>\n",
       "      <td>SUV</td>\n",
       "      <td>black</td>\n",
       "      <td>wy</td>\n",
       "      <td>12451.222222</td>\n",
       "    </tr>\n",
       "    <tr>\n",
       "      <th>426849</th>\n",
       "      <td>7877</td>\n",
       "      <td>2016.0</td>\n",
       "      <td>chevrolet</td>\n",
       "      <td>missing</td>\n",
       "      <td>8 cylinders</td>\n",
       "      <td>gas</td>\n",
       "      <td>108881.0</td>\n",
       "      <td>clean</td>\n",
       "      <td>automatic</td>\n",
       "      <td>4wd</td>\n",
       "      <td>sedan</td>\n",
       "      <td>silver</td>\n",
       "      <td>wy</td>\n",
       "      <td>15554.428571</td>\n",
       "    </tr>\n",
       "    <tr>\n",
       "      <th>426850</th>\n",
       "      <td>13777</td>\n",
       "      <td>2013.0</td>\n",
       "      <td>bmw</td>\n",
       "      <td>missing</td>\n",
       "      <td>8 cylinders</td>\n",
       "      <td>gas</td>\n",
       "      <td>104339.0</td>\n",
       "      <td>clean</td>\n",
       "      <td>automatic</td>\n",
       "      <td>4wd</td>\n",
       "      <td>SUV</td>\n",
       "      <td>silver</td>\n",
       "      <td>wy</td>\n",
       "      <td>10433.900000</td>\n",
       "    </tr>\n",
       "    <tr>\n",
       "      <th>426854</th>\n",
       "      <td>7977</td>\n",
       "      <td>2009.0</td>\n",
       "      <td>toyota</td>\n",
       "      <td>missing</td>\n",
       "      <td>8 cylinders</td>\n",
       "      <td>gas</td>\n",
       "      <td>142868.0</td>\n",
       "      <td>clean</td>\n",
       "      <td>automatic</td>\n",
       "      <td>4wd</td>\n",
       "      <td>sedan</td>\n",
       "      <td>blue</td>\n",
       "      <td>wy</td>\n",
       "      <td>10204.857143</td>\n",
       "    </tr>\n",
       "    <tr>\n",
       "      <th>426856</th>\n",
       "      <td>5477</td>\n",
       "      <td>2003.0</td>\n",
       "      <td>nissan</td>\n",
       "      <td>missing</td>\n",
       "      <td>8 cylinders</td>\n",
       "      <td>gas</td>\n",
       "      <td>168055.0</td>\n",
       "      <td>clean</td>\n",
       "      <td>automatic</td>\n",
       "      <td>4wd</td>\n",
       "      <td>SUV</td>\n",
       "      <td>blue</td>\n",
       "      <td>wy</td>\n",
       "      <td>8402.750000</td>\n",
       "    </tr>\n",
       "  </tbody>\n",
       "</table>\n",
       "<p>101826 rows × 14 columns</p>\n",
       "</div>"
      ],
      "text/plain": [
       "        price    year manufacturer condition    cylinders   fuel  odometer  \\\n",
       "188     39590  2020.0    chevrolet      good  8 cylinders    gas   19160.0   \n",
       "221     33590  2014.0          gmc      good  8 cylinders    gas   57923.0   \n",
       "230     27990  2012.0          gmc      good  8 cylinders    gas   68696.0   \n",
       "251     29990  2016.0    chevrolet      good  6 cylinders    gas   17302.0   \n",
       "284     27990  2014.0       toyota      good  8 cylinders  other   17805.0   \n",
       "...       ...     ...          ...       ...          ...    ...       ...   \n",
       "426844  13977  2014.0         ford   missing  8 cylinders    gas  112061.0   \n",
       "426849   7877  2016.0    chevrolet   missing  8 cylinders    gas  108881.0   \n",
       "426850  13777  2013.0          bmw   missing  8 cylinders    gas  104339.0   \n",
       "426854   7977  2009.0       toyota   missing  8 cylinders    gas  142868.0   \n",
       "426856   5477  2003.0       nissan   missing  8 cylinders    gas  168055.0   \n",
       "\n",
       "       title_status transmission drive    type paint_color state       average  \n",
       "188           clean        other   4wd  pickup         red    al   6386.666667  \n",
       "221           clean        other   4wd  pickup       white    al   6435.888889  \n",
       "230           clean        other   4wd  pickup       black    al   6245.090909  \n",
       "251           clean        other   4wd  pickup         red    al   2471.714286  \n",
       "284           clean        other   4wd  pickup         red    al   1978.333333  \n",
       "...             ...          ...   ...     ...         ...   ...           ...  \n",
       "426844        clean    automatic   4wd     SUV       black    wy  12451.222222  \n",
       "426849        clean    automatic   4wd   sedan      silver    wy  15554.428571  \n",
       "426850        clean    automatic   4wd     SUV      silver    wy  10433.900000  \n",
       "426854        clean    automatic   4wd   sedan        blue    wy  10204.857143  \n",
       "426856        clean    automatic   4wd     SUV        blue    wy   8402.750000  \n",
       "\n",
       "[101826 rows x 14 columns]"
      ]
     },
     "execution_count": 103,
     "metadata": {},
     "output_type": "execute_result"
    }
   ],
   "source": [
    "data[data.duplicated()]"
   ]
  },
  {
   "cell_type": "markdown",
   "id": "54fa5660",
   "metadata": {},
   "source": [
    "Iz gornje tablice vidimo da u podatcima imamo dosta duplikata. Čak 101617 unosa imaju vrijednosti koje se ponavljaju (vrijednosti u svim stupcima su jednake!). Vidimo da nekih od unosa ima i po 30 puta. Kako je malo vjerojatno da su svi unosi zaista jednaki, pogotovo unosi recimo za 'odometer', pretpostavit ćemo da su ovi unosi pogrešni, tj. da su duplikati zapravo jedni te isti oglasi potencijalni objavljeni više puta. Duplikate ćemo zato izbaciti iz skupa podataka, a zadržati svakog jedinstvenog unosa po jedan uzorak."
   ]
  },
  {
   "cell_type": "code",
   "execution_count": 104,
   "id": "16a8c88d",
   "metadata": {},
   "outputs": [],
   "source": [
    "data=data.drop_duplicates(keep='first')"
   ]
  },
  {
   "cell_type": "markdown",
   "id": "366d62e7",
   "metadata": {},
   "source": [
    "# Train - Test Split"
   ]
  },
  {
   "cell_type": "code",
   "execution_count": 125,
   "id": "4fa93088",
   "metadata": {},
   "outputs": [],
   "source": [
    "from sklearn.model_selection import train_test_split"
   ]
  },
  {
   "cell_type": "code",
   "execution_count": 233,
   "id": "c51f8235",
   "metadata": {},
   "outputs": [],
   "source": [
    "X=data"
   ]
  },
  {
   "cell_type": "code",
   "execution_count": 234,
   "id": "2abbb15c",
   "metadata": {},
   "outputs": [],
   "source": [
    "X_train, X_test= train_test_split(X, test_size=0.2)"
   ]
  },
  {
   "cell_type": "markdown",
   "id": "037c9a4a",
   "metadata": {},
   "source": [
    "# Transformiranje značajki"
   ]
  },
  {
   "cell_type": "markdown",
   "id": "77393860",
   "metadata": {},
   "source": [
    "Prije nego što odaberemo i treniramo model, moramo kategorične značajke prebaciti u numeričke. Napomenimo da su sve značajke ispravno formatirane u ovom trenutku."
   ]
  },
  {
   "cell_type": "code",
   "execution_count": 130,
   "id": "d109ac2e",
   "metadata": {},
   "outputs": [
    {
     "data": {
      "text/plain": [
       "price            14756\n",
       "year               110\n",
       "manufacturer        42\n",
       "condition            7\n",
       "cylinders            8\n",
       "fuel                 5\n",
       "odometer         92960\n",
       "title_status         6\n",
       "transmission         3\n",
       "drive                3\n",
       "type                13\n",
       "paint_color         12\n",
       "state               51\n",
       "average         119828\n",
       "dtype: int64"
      ]
     },
     "execution_count": 130,
     "metadata": {},
     "output_type": "execute_result"
    }
   ],
   "source": [
    "data.nunique(axis=0, dropna=True)"
   ]
  },
  {
   "cell_type": "markdown",
   "id": "64e8544b",
   "metadata": {},
   "source": [
    "Značajke 'fuel', 'title_status', 'transmission' i 'drive' nemaju neki prirodni poredak, no kako one imaju najmanje kategorija, koristit ćemo One-hot encoding kako ne bismo izgubili previše informacija frequency encoding i sl."
   ]
  },
  {
   "cell_type": "code",
   "execution_count": 132,
   "id": "b75b9479",
   "metadata": {},
   "outputs": [
    {
     "data": {
      "text/plain": [
       "<Axes: xlabel='price', ylabel='condition'>"
      ]
     },
     "execution_count": 132,
     "metadata": {},
     "output_type": "execute_result"
    },
    {
     "data": {
      "image/png": "[encoded data removed]",
      "text/plain": [
       "<Figure size 640x480 with 1 Axes>"
      ]
     },
     "metadata": {},
     "output_type": "display_data"
    }
   ],
   "source": [
    "seaborn.boxplot(x=X_train['price'], y=X_train['condition'], fliersize=0)"
   ]
  },
  {
   "cell_type": "markdown",
   "id": "1b9e4d2a",
   "metadata": {},
   "source": [
    "Na boxplotu se može vidjeti određena nedosljednost oznaka za 'condition', npr. excellent izgleda lošije ocijenjen nego good itd.; to je potencijalno jer se 'good' čini kao najneutralnija oznaka, tim i najčešća, pa se u tome ogleda dio pristranosti postavljača oglasa. Pa iako se čini prirodno ovu značajku transformirati koristeći klasični ordinal encoder, i za njega ćemo koristiti One-Hot encoder, jer nema previše različitih vrijednosti."
   ]
  },
  {
   "cell_type": "markdown",
   "id": "5fd853f7",
   "metadata": {},
   "source": [
    "Iako bi kategoriju 'cylinders' mogli transformirati u numeričku značajku poistovjećivanjem '8 cylinders = 8\", nećemo to učiniti. Prirodnije je različite brojeve cilindara promatrati kao različite kategorije nego čisto numeričke varijable, jer razlika između 6 i 8 cilindara nije zapravo jednaka razlici 8 i 10 cilindara i ta razlika zapravo nije jasno opisana samo brojem 8 ili 10. Zato koristimo OneHot encoding i za 'cylinders' značajku."
   ]
  },
  {
   "cell_type": "code",
   "execution_count": 133,
   "id": "974b3937",
   "metadata": {},
   "outputs": [],
   "source": [
    "from sklearn.preprocessing import OneHotEncoder"
   ]
  },
  {
   "cell_type": "code",
   "execution_count": 243,
   "id": "b38445bc",
   "metadata": {},
   "outputs": [
    {
     "name": "stderr",
     "output_type": "stream",
     "text": [
      "C:\\Users\\ivani\\anaconda3\\lib\\site-packages\\sklearn\\preprocessing\\_encoders.py:828: FutureWarning: `sparse` was renamed to `sparse_output` in version 1.2 and will be removed in 1.4. `sparse_output` is ignored unless you leave `sparse` to its default value.\n",
      "  warnings.warn(\n"
     ]
    }
   ],
   "source": [
    "ohe = OneHotEncoder(handle_unknown='ignore', sparse=False, dtype='int')\n",
    "ohe.fit(X_train[['cylinders', 'transmission', 'drive', 'condition', 'fuel', 'title_status']])\n",
    "\n",
    "temp_X = pd.DataFrame(data=ohe.transform(X_train[['cylinders', 'transmission', 'drive', 'condition', 'fuel', 'title_status']]), columns=ohe.get_feature_names_out())\n",
    "temp_Xtest = pd.DataFrame(data=ohe.transform(X_test[['cylinders', 'transmission', 'drive', 'condition', 'fuel', 'title_status']]), columns=ohe.get_feature_names_out())\n",
    "\n",
    "X_train.drop(columns=['cylinders', 'transmission', 'drive', 'condition', 'fuel', 'title_status'], axis=1, inplace=True)\n",
    "X_test.drop(columns=['cylinders', 'transmission', 'drive', 'condition', 'fuel', 'title_status'], axis=1, inplace=True)\n",
    "\n",
    "X_train = pd.concat([X_train.reset_index(drop=True), temp_X], axis=1)\n",
    "X_test = pd.concat([X_test.reset_index(drop=True), temp_Xtest], axis=1)"
   ]
  },
  {
   "cell_type": "markdown",
   "id": "04acb1fc",
   "metadata": {},
   "source": [
    "Primijetimo da značajke state, manufacturer, type i paint_color imaju najviše jedinstvenih vrijednosti. Kako je njih daleko najviše, korištenje one hot encodinga bi previše povećalo broj značajki. Među ovim značajkama ne postoji neki jasan poredak, niti možemo odrediti jasnu razliku između pojedinih (neki diskretan, konstantan korak). Zato ćemo koristiti target encoding. Manufacturer i type se uostalom od kategoričkih značajki (izuzev možda conditiona, koji ima puno manje jedinstvenih vrijednosti) čine intuitivno kao najbolji prediktori."
   ]
  },
  {
   "cell_type": "code",
   "execution_count": 150,
   "id": "7ac8663b",
   "metadata": {},
   "outputs": [],
   "source": [
    "import category_encoders as ce"
   ]
  },
  {
   "cell_type": "code",
   "execution_count": 241,
   "id": "b710e3e3",
   "metadata": {},
   "outputs": [],
   "source": [
    "encoder = ce.TargetEncoder(cols=['type', 'state', 'manufacturer', 'paint_color'])\n",
    "encoder.fit(X_train, X_train['price'])\n",
    "X_train=encoder.transform(X_train)\n",
    "X_test=encoder.transform(X_test)"
   ]
  },
  {
   "cell_type": "markdown",
   "id": "480cd478",
   "metadata": {},
   "source": [
    "# Logaritmiranje"
   ]
  },
  {
   "cell_type": "markdown",
   "id": "125f9d36",
   "metadata": {},
   "source": [
    "Pogledajmo kako su cijene distribuirane u train podatcima."
   ]
  },
  {
   "cell_type": "code",
   "execution_count": 256,
   "id": "0f8ece9f",
   "metadata": {},
   "outputs": [
    {
     "data": {
      "text/plain": [
       "<Axes: xlabel='price', ylabel='Density'>"
      ]
     },
     "execution_count": 256,
     "metadata": {},
     "output_type": "execute_result"
    },
    {
     "data": {
      "image/png": "[encoded data removed]",
      "text/plain": [
       "<Figure size 640x480 with 1 Axes>"
      ]
     },
     "metadata": {},
     "output_type": "display_data"
    }
   ],
   "source": [
    "seaborn.kdeplot(X_train['price'])"
   ]
  },
  {
   "cell_type": "markdown",
   "id": "4b4dddca",
   "metadata": {},
   "source": [
    "Očito su vrijednosti značajno \"skewed\". Zato ćemo primijeniti jednostavno logaritmiranje. Drugi pristup bi eventualno bio imputanje rijetkih vrijednosti (u području outliera), koristeći npr. verziju SMOTE metode za probleme regresije kako bi balansirali nesrazmjer u broju podataka. To nećemo činit u ovom slučaju jer je većina značajki rezultat transformacije kategoričkih značajki. SMOTE radi tako što interpolira vrijednosti \"najbližih susjeda\" što bi u ovom slučaju moglo potencijalno dovesti do nelogičnog interpoliranja."
   ]
  },
  {
   "cell_type": "code",
   "execution_count": 260,
   "id": "84bc8e02",
   "metadata": {},
   "outputs": [
    {
     "data": {
      "text/plain": [
       "<Axes: xlabel='price', ylabel='Density'>"
      ]
     },
     "execution_count": 260,
     "metadata": {},
     "output_type": "execute_result"
    },
    {
     "data": {
      "image/png": "[encoded data removed]",
      "text/plain": [
       "<Figure size 640x480 with 1 Axes>"
      ]
     },
     "metadata": {},
     "output_type": "display_data"
    }
   ],
   "source": [
    "seaborn.kdeplot(np.log(X_train['price']))"
   ]
  },
  {
   "cell_type": "code",
   "execution_count": 293,
   "id": "121c2e21",
   "metadata": {},
   "outputs": [],
   "source": [
    "X_train['price_log']=np.log(X_train['price'])\n",
    "X_test['price_log']=np.log(X_test['price'])"
   ]
  },
  {
   "cell_type": "markdown",
   "id": "aa235691",
   "metadata": {},
   "source": [
    "# Standardiziranje značajki"
   ]
  },
  {
   "cell_type": "markdown",
   "id": "555bad36",
   "metadata": {},
   "source": [
    "Kako su nam numeričke značajke sve različitih redova veličine, trebali bismo ih standardizirati jer velika razlika u redovima veličine može utjecati na trenirani model. Koristit ćemo standardizaciju umjesto normalizacije ili običnog skaliranja nekog featura, jer su nam vrijednosti numeričkih značajki dosta raspršene. Recimo, pogotovo za price i odometer, imamo i jako niske i jako visoke vrijednosti, pa bi ih normalizacija sve stisla u jako uzak interval."
   ]
  },
  {
   "cell_type": "code",
   "execution_count": 252,
   "id": "e1611900",
   "metadata": {},
   "outputs": [],
   "source": [
    "from sklearn.preprocessing import StandardScaler"
   ]
  },
  {
   "cell_type": "code",
   "execution_count": 295,
   "id": "22f51626",
   "metadata": {},
   "outputs": [],
   "source": [
    "scaler=StandardScaler()\n",
    "scaler.fit(X_train)\n",
    "\n",
    "X_train_std=pd.DataFrame(scaler.transform(X_train), columns=scaler.get_feature_names_out())\n",
    "X_test_std=pd.DataFrame(scaler.transform(X_test), columns=scaler.get_feature_names_out())"
   ]
  },
  {
   "cell_type": "markdown",
   "id": "88ce72e4",
   "metadata": {},
   "source": [
    "Prije odabira i treniranja modela još samo trebamo razdvojiti veličinu koju predviđamo od onih koje koristimo za treniranje."
   ]
  },
  {
   "cell_type": "code",
   "execution_count": 296,
   "id": "ed08fed7",
   "metadata": {},
   "outputs": [],
   "source": [
    "y_train=X_train_std['price_log']\n",
    "y_test=X_test_std['price_log']"
   ]
  },
  {
   "cell_type": "code",
   "execution_count": 302,
   "id": "7e5b82c6",
   "metadata": {},
   "outputs": [],
   "source": [
    "X_train_std.drop(['price', 'price_log'], inplace=True, axis=1)\n",
    "X_test_std.drop(['price', 'price_log'], inplace=True, axis=1)"
   ]
  }
 ],
 "metadata": {
  "kernelspec": {
   "display_name": "Python 3 (ipykernel)",
   "language": "python",
   "name": "python3"
  },
  "language_info": {
   "codemirror_mode": {
    "name": "ipython",
    "version": 3
   },
   "file_extension": ".py",
   "mimetype": "text/x-python",
   "name": "python",
   "nbconvert_exporter": "python",
   "pygments_lexer": "ipython3",
   "version": "3.11.3"
  }
 },
 "nbformat": 4,
 "nbformat_minor": 5
}
